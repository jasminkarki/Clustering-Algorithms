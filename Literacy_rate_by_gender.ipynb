{
 "cells": [
  {
   "cell_type": "code",
   "execution_count": 1,
   "metadata": {},
   "outputs": [],
   "source": [
    "import pandas as pd\n",
    "import numpy as np\n",
    "import matplotlib.pyplot as plt\n",
    "import time\n",
    "import seaborn as sns\n",
    "from pandas_profiling import ProfileReport"
   ]
  },
  {
   "cell_type": "code",
   "execution_count": 3,
   "metadata": {},
   "outputs": [
    {
     "name": "stdout",
     "output_type": "stream",
     "text": [
      " Assignment-Numpy.ipynb\r\n",
      "'Class Remaining Topic Supervised Learning.ipynb'\r\n",
      " Classwork_Gaussian_Mixture_Model.ipynb\r\n",
      " Kalimati_Feb_24.ipynb\r\n",
      " Kalimati_Feb_28.ipynb\r\n",
      " Kalimati_K.ipynb\r\n",
      " Kalimati_Model_Temporary_Regular.ipynb\r\n",
      " Kalimati_Model_Train_Feb_28.ipynb\r\n",
      " Kalimati_Vegetable_Analysis.ipynb\r\n",
      " Kalimati_Vegetable_Assignment.ipynb\r\n",
      " LinearRegression_Classwork_TwoFeature.ipynb\r\n",
      " Literacy_rate_by_gender.ipynb\r\n",
      " LogisticRegressionSentimentAnalysis4thMarchalmostdone.ipynb\r\n",
      " LogisticRegressionSentimentAnalysis4thMarch.ipynb\r\n",
      " LogisticRegressionSentimentAnalysisComplete.ipynb\r\n",
      " matplotlib.ipynb\r\n",
      " model.pkl\r\n",
      " Naive_Bayes_Classwork.ipynb\r\n",
      " Naive_Bayes_Sentiment_Analysis.ipynb\r\n",
      " Numpy.ipynb\r\n",
      " Numpy_JK.ipynb\r\n",
      " OOP.ipynb\r\n",
      " OOP_JK.ipynb\r\n",
      " Playing_With_Pandas2.ipynb\r\n",
      " Playing_With_Pandas.ipynb\r\n",
      " sentiment_5_class.csv\r\n",
      " sentiment.csv\r\n"
     ]
    }
   ],
   "source": [
    "!ls\n"
   ]
  },
  {
   "cell_type": "code",
   "execution_count": null,
   "metadata": {},
   "outputs": [],
   "source": [
    "life_df=pd.read_csv('li.csv')\n"
   ]
  }
 ],
 "metadata": {
  "kernelspec": {
   "display_name": "Python 3",
   "language": "python",
   "name": "python3"
  },
  "language_info": {
   "codemirror_mode": {
    "name": "ipython",
    "version": 3
   },
   "file_extension": ".py",
   "mimetype": "text/x-python",
   "name": "python",
   "nbconvert_exporter": "python",
   "pygments_lexer": "ipython3",
   "version": "3.6.9"
  }
 },
 "nbformat": 4,
 "nbformat_minor": 4
}
