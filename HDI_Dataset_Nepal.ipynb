{
  "nbformat": 4,
  "nbformat_minor": 0,
  "metadata": {
    "colab": {
      "name": "HDI_Dataset_Nepal.ipynb",
      "provenance": [],
      "collapsed_sections": []
    },
    "kernelspec": {
      "name": "python3",
      "display_name": "Python 3"
    }
  },
  "cells": [
    {
      "cell_type": "code",
      "metadata": {
        "id": "vrQheHH6SlxE",
        "colab_type": "code",
        "colab": {}
      },
      "source": [
        "import pandas as pd\n",
        "import numpy as np\n",
        "import matplotlib.pyplot as plt\n",
        "import time\n",
        "import seaborn as sns\n",
        "from pandas_profiling import ProfileReport\n",
        "import plotly.express as px"
      ],
      "execution_count": 0,
      "outputs": []
    },
    {
      "cell_type": "code",
      "metadata": {
        "id": "nEWkc6pBVaTK",
        "colab_type": "code",
        "outputId": "d35fa86c-1abc-4083-bc14-401e97e09857",
        "colab": {
          "base_uri": "https://localhost:8080/",
          "height": 54
        }
      },
      "source": [
        "from google.colab import drive\n",
        "drive.mount('/content/drive/')"
      ],
      "execution_count": 54,
      "outputs": [
        {
          "output_type": "stream",
          "text": [
            "Drive already mounted at /content/drive/; to attempt to forcibly remount, call drive.mount(\"/content/drive/\", force_remount=True).\n"
          ],
          "name": "stdout"
        }
      ]
    },
    {
      "cell_type": "code",
      "metadata": {
        "id": "-m60vUoRVjgz",
        "colab_type": "code",
        "colab": {}
      },
      "source": [
        "life_df=pd.read_csv('/content/drive/My Drive/Colab Notebooks/life-expectancy-income.csv')\n",
        "lite_df=pd.read_csv('/content/drive/My Drive/Colab Notebooks/literacy-rates.csv')"
      ],
      "execution_count": 0,
      "outputs": []
    },
    {
      "cell_type": "code",
      "metadata": {
        "id": "oem02W8Y1_Hf",
        "colab_type": "code",
        "outputId": "73a7bbf9-e75b-4940-a468-e6da705e30b1",
        "colab": {
          "base_uri": "https://localhost:8080/",
          "height": 301
        }
      },
      "source": [
        "life_df.describe()"
      ],
      "execution_count": 56,
      "outputs": [
        {
          "output_type": "execute_result",
          "data": {
            "text/html": [
              "<div>\n",
              "<style scoped>\n",
              "    .dataframe tbody tr th:only-of-type {\n",
              "        vertical-align: middle;\n",
              "    }\n",
              "\n",
              "    .dataframe tbody tr th {\n",
              "        vertical-align: top;\n",
              "    }\n",
              "\n",
              "    .dataframe thead th {\n",
              "        text-align: right;\n",
              "    }\n",
              "</style>\n",
              "<table border=\"1\" class=\"dataframe\">\n",
              "  <thead>\n",
              "    <tr style=\"text-align: right;\">\n",
              "      <th></th>\n",
              "      <th>Life expectancy(In Years)</th>\n",
              "      <th>Per Capita Income(In USD)</th>\n",
              "    </tr>\n",
              "  </thead>\n",
              "  <tbody>\n",
              "    <tr>\n",
              "      <th>count</th>\n",
              "      <td>75.000000</td>\n",
              "      <td>75.000000</td>\n",
              "    </tr>\n",
              "    <tr>\n",
              "      <th>mean</th>\n",
              "      <td>68.405333</td>\n",
              "      <td>1079.826667</td>\n",
              "    </tr>\n",
              "    <tr>\n",
              "      <th>std</th>\n",
              "      <td>2.251472</td>\n",
              "      <td>443.052171</td>\n",
              "    </tr>\n",
              "    <tr>\n",
              "      <th>min</th>\n",
              "      <td>61.200000</td>\n",
              "      <td>487.000000</td>\n",
              "    </tr>\n",
              "    <tr>\n",
              "      <th>25%</th>\n",
              "      <td>67.285000</td>\n",
              "      <td>797.500000</td>\n",
              "    </tr>\n",
              "    <tr>\n",
              "      <th>50%</th>\n",
              "      <td>68.550000</td>\n",
              "      <td>1007.000000</td>\n",
              "    </tr>\n",
              "    <tr>\n",
              "      <th>75%</th>\n",
              "      <td>70.190000</td>\n",
              "      <td>1219.000000</td>\n",
              "    </tr>\n",
              "    <tr>\n",
              "      <th>max</th>\n",
              "      <td>72.900000</td>\n",
              "      <td>3166.000000</td>\n",
              "    </tr>\n",
              "  </tbody>\n",
              "</table>\n",
              "</div>"
            ],
            "text/plain": [
              "       Life expectancy(In Years)  Per Capita Income(In USD)\n",
              "count                  75.000000                  75.000000\n",
              "mean                   68.405333                1079.826667\n",
              "std                     2.251472                 443.052171\n",
              "min                    61.200000                 487.000000\n",
              "25%                    67.285000                 797.500000\n",
              "50%                    68.550000                1007.000000\n",
              "75%                    70.190000                1219.000000\n",
              "max                    72.900000                3166.000000"
            ]
          },
          "metadata": {
            "tags": []
          },
          "execution_count": 56
        }
      ]
    },
    {
      "cell_type": "code",
      "metadata": {
        "id": "s9T8Qsa21_dp",
        "colab_type": "code",
        "outputId": "231afa00-8b53-484e-8acc-105e11abed67",
        "colab": {
          "base_uri": "https://localhost:8080/",
          "height": 1000
        }
      },
      "source": [
        "lite_df.columns\n",
        "lite_df"
      ],
      "execution_count": 57,
      "outputs": [
        {
          "output_type": "execute_result",
          "data": {
            "text/html": [
              "<div>\n",
              "<style scoped>\n",
              "    .dataframe tbody tr th:only-of-type {\n",
              "        vertical-align: middle;\n",
              "    }\n",
              "\n",
              "    .dataframe tbody tr th {\n",
              "        vertical-align: top;\n",
              "    }\n",
              "\n",
              "    .dataframe thead th {\n",
              "        text-align: right;\n",
              "    }\n",
              "</style>\n",
              "<table border=\"1\" class=\"dataframe\">\n",
              "  <thead>\n",
              "    <tr style=\"text-align: right;\">\n",
              "      <th></th>\n",
              "      <th>District</th>\n",
              "      <th>Total</th>\n",
              "      <th>Female</th>\n",
              "      <th>Male</th>\n",
              "      <th>Year</th>\n",
              "    </tr>\n",
              "  </thead>\n",
              "  <tbody>\n",
              "    <tr>\n",
              "      <th>0</th>\n",
              "      <td>Kathmandu</td>\n",
              "      <td>86.3</td>\n",
              "      <td>79.8</td>\n",
              "      <td>92.2</td>\n",
              "      <td>2013</td>\n",
              "    </tr>\n",
              "    <tr>\n",
              "      <th>1</th>\n",
              "      <td>Lalitpur</td>\n",
              "      <td>82.5</td>\n",
              "      <td>74.7</td>\n",
              "      <td>90.1</td>\n",
              "      <td>2013</td>\n",
              "    </tr>\n",
              "    <tr>\n",
              "      <th>2</th>\n",
              "      <td>Kaski</td>\n",
              "      <td>82.4</td>\n",
              "      <td>75.4</td>\n",
              "      <td>90.1</td>\n",
              "      <td>2013</td>\n",
              "    </tr>\n",
              "    <tr>\n",
              "      <th>3</th>\n",
              "      <td>Bhaktapur</td>\n",
              "      <td>81.7</td>\n",
              "      <td>72.7</td>\n",
              "      <td>90.5</td>\n",
              "      <td>2013</td>\n",
              "    </tr>\n",
              "    <tr>\n",
              "      <th>4</th>\n",
              "      <td>Ilam</td>\n",
              "      <td>77.9</td>\n",
              "      <td>72.0</td>\n",
              "      <td>84.2</td>\n",
              "      <td>2013</td>\n",
              "    </tr>\n",
              "    <tr>\n",
              "      <th>5</th>\n",
              "      <td>Chitawan</td>\n",
              "      <td>77.0</td>\n",
              "      <td>70.7</td>\n",
              "      <td>83.9</td>\n",
              "      <td>2013</td>\n",
              "    </tr>\n",
              "    <tr>\n",
              "      <th>6</th>\n",
              "      <td>Syangja</td>\n",
              "      <td>76.6</td>\n",
              "      <td>69.6</td>\n",
              "      <td>86.1</td>\n",
              "      <td>2013</td>\n",
              "    </tr>\n",
              "    <tr>\n",
              "      <th>7</th>\n",
              "      <td>Palpa</td>\n",
              "      <td>76.2</td>\n",
              "      <td>69.5</td>\n",
              "      <td>84.9</td>\n",
              "      <td>2013</td>\n",
              "    </tr>\n",
              "    <tr>\n",
              "      <th>8</th>\n",
              "      <td>Jhapa</td>\n",
              "      <td>75.1</td>\n",
              "      <td>68.6</td>\n",
              "      <td>82.3</td>\n",
              "      <td>2013</td>\n",
              "    </tr>\n",
              "    <tr>\n",
              "      <th>9</th>\n",
              "      <td>Manang</td>\n",
              "      <td>74.8</td>\n",
              "      <td>64.2</td>\n",
              "      <td>83.0</td>\n",
              "      <td>2013</td>\n",
              "    </tr>\n",
              "    <tr>\n",
              "      <th>10</th>\n",
              "      <td>Tanahu</td>\n",
              "      <td>74.8</td>\n",
              "      <td>67.9</td>\n",
              "      <td>83.7</td>\n",
              "      <td>2013</td>\n",
              "    </tr>\n",
              "    <tr>\n",
              "      <th>11</th>\n",
              "      <td>Terhathum</td>\n",
              "      <td>74.6</td>\n",
              "      <td>67.0</td>\n",
              "      <td>83.5</td>\n",
              "      <td>2013</td>\n",
              "    </tr>\n",
              "    <tr>\n",
              "      <th>12</th>\n",
              "      <td>Dhankuta</td>\n",
              "      <td>74.4</td>\n",
              "      <td>67.4</td>\n",
              "      <td>82.4</td>\n",
              "      <td>2013</td>\n",
              "    </tr>\n",
              "    <tr>\n",
              "      <th>13</th>\n",
              "      <td>Parbat</td>\n",
              "      <td>73.8</td>\n",
              "      <td>66.4</td>\n",
              "      <td>83.4</td>\n",
              "      <td>2013</td>\n",
              "    </tr>\n",
              "    <tr>\n",
              "      <th>14</th>\n",
              "      <td>Surkhet</td>\n",
              "      <td>73.1</td>\n",
              "      <td>64.9</td>\n",
              "      <td>82.0</td>\n",
              "      <td>2013</td>\n",
              "    </tr>\n",
              "    <tr>\n",
              "      <th>15</th>\n",
              "      <td>Arghakhanchi</td>\n",
              "      <td>72.6</td>\n",
              "      <td>65.8</td>\n",
              "      <td>81.8</td>\n",
              "      <td>2013</td>\n",
              "    </tr>\n",
              "    <tr>\n",
              "      <th>16</th>\n",
              "      <td>Gulmi</td>\n",
              "      <td>72.6</td>\n",
              "      <td>65.9</td>\n",
              "      <td>81.6</td>\n",
              "      <td>2013</td>\n",
              "    </tr>\n",
              "    <tr>\n",
              "      <th>17</th>\n",
              "      <td>Panchthar</td>\n",
              "      <td>72.6</td>\n",
              "      <td>65.8</td>\n",
              "      <td>80.3</td>\n",
              "      <td>2013</td>\n",
              "    </tr>\n",
              "    <tr>\n",
              "      <th>18</th>\n",
              "      <td>Baglung</td>\n",
              "      <td>71.9</td>\n",
              "      <td>65.3</td>\n",
              "      <td>80.6</td>\n",
              "      <td>2013</td>\n",
              "    </tr>\n",
              "    <tr>\n",
              "      <th>19</th>\n",
              "      <td>Myagdi</td>\n",
              "      <td>71.9</td>\n",
              "      <td>64.5</td>\n",
              "      <td>81.1</td>\n",
              "      <td>2013</td>\n",
              "    </tr>\n",
              "    <tr>\n",
              "      <th>20</th>\n",
              "      <td>Taplejung</td>\n",
              "      <td>71.3</td>\n",
              "      <td>64.1</td>\n",
              "      <td>79.3</td>\n",
              "      <td>2013</td>\n",
              "    </tr>\n",
              "    <tr>\n",
              "      <th>21</th>\n",
              "      <td>Lamjung</td>\n",
              "      <td>71.1</td>\n",
              "      <td>63.3</td>\n",
              "      <td>80.7</td>\n",
              "      <td>2013</td>\n",
              "    </tr>\n",
              "    <tr>\n",
              "      <th>22</th>\n",
              "      <td>Nawalparasi</td>\n",
              "      <td>70.8</td>\n",
              "      <td>62.8</td>\n",
              "      <td>79.9</td>\n",
              "      <td>2013</td>\n",
              "    </tr>\n",
              "    <tr>\n",
              "      <th>23</th>\n",
              "      <td>Kanchanpur</td>\n",
              "      <td>70.7</td>\n",
              "      <td>61.0</td>\n",
              "      <td>81.3</td>\n",
              "      <td>2013</td>\n",
              "    </tr>\n",
              "    <tr>\n",
              "      <th>24</th>\n",
              "      <td>Morang</td>\n",
              "      <td>70.6</td>\n",
              "      <td>63.1</td>\n",
              "      <td>78.7</td>\n",
              "      <td>2013</td>\n",
              "    </tr>\n",
              "    <tr>\n",
              "      <th>25</th>\n",
              "      <td>Dang</td>\n",
              "      <td>70.3</td>\n",
              "      <td>62.8</td>\n",
              "      <td>78.9</td>\n",
              "      <td>2013</td>\n",
              "    </tr>\n",
              "    <tr>\n",
              "      <th>26</th>\n",
              "      <td>Kavrepalanchok</td>\n",
              "      <td>69.8</td>\n",
              "      <td>60.9</td>\n",
              "      <td>79.6</td>\n",
              "      <td>2013</td>\n",
              "    </tr>\n",
              "    <tr>\n",
              "      <th>27</th>\n",
              "      <td>Rupandehi</td>\n",
              "      <td>69.8</td>\n",
              "      <td>60.8</td>\n",
              "      <td>79.2</td>\n",
              "      <td>2013</td>\n",
              "    </tr>\n",
              "    <tr>\n",
              "      <th>28</th>\n",
              "      <td>Sankhuwasabha</td>\n",
              "      <td>69.4</td>\n",
              "      <td>62.2</td>\n",
              "      <td>77.5</td>\n",
              "      <td>2013</td>\n",
              "    </tr>\n",
              "    <tr>\n",
              "      <th>29</th>\n",
              "      <td>Bhojpur</td>\n",
              "      <td>69.3</td>\n",
              "      <td>61.4</td>\n",
              "      <td>78.4</td>\n",
              "      <td>2013</td>\n",
              "    </tr>\n",
              "    <tr>\n",
              "      <th>30</th>\n",
              "      <td>Khotang</td>\n",
              "      <td>68.8</td>\n",
              "      <td>61.1</td>\n",
              "      <td>77.7</td>\n",
              "      <td>2013</td>\n",
              "    </tr>\n",
              "    <tr>\n",
              "      <th>31</th>\n",
              "      <td>Udayapur</td>\n",
              "      <td>68.8</td>\n",
              "      <td>61.5</td>\n",
              "      <td>77.2</td>\n",
              "      <td>2013</td>\n",
              "    </tr>\n",
              "    <tr>\n",
              "      <th>32</th>\n",
              "      <td>Sunsari</td>\n",
              "      <td>68.5</td>\n",
              "      <td>60.5</td>\n",
              "      <td>77.0</td>\n",
              "      <td>2013</td>\n",
              "    </tr>\n",
              "    <tr>\n",
              "      <th>33</th>\n",
              "      <td>Makwanpur</td>\n",
              "      <td>67.9</td>\n",
              "      <td>60.6</td>\n",
              "      <td>75.4</td>\n",
              "      <td>2013</td>\n",
              "    </tr>\n",
              "    <tr>\n",
              "      <th>34</th>\n",
              "      <td>Pyuthan</td>\n",
              "      <td>67.0</td>\n",
              "      <td>58.6</td>\n",
              "      <td>78.2</td>\n",
              "      <td>2013</td>\n",
              "    </tr>\n",
              "    <tr>\n",
              "      <th>35</th>\n",
              "      <td>Gorkha</td>\n",
              "      <td>66.3</td>\n",
              "      <td>59.4</td>\n",
              "      <td>75.1</td>\n",
              "      <td>2013</td>\n",
              "    </tr>\n",
              "    <tr>\n",
              "      <th>36</th>\n",
              "      <td>Kailali</td>\n",
              "      <td>66.3</td>\n",
              "      <td>57.1</td>\n",
              "      <td>76.2</td>\n",
              "      <td>2013</td>\n",
              "    </tr>\n",
              "    <tr>\n",
              "      <th>37</th>\n",
              "      <td>Mustang</td>\n",
              "      <td>66.2</td>\n",
              "      <td>55.8</td>\n",
              "      <td>75.4</td>\n",
              "      <td>2013</td>\n",
              "    </tr>\n",
              "    <tr>\n",
              "      <th>38</th>\n",
              "      <td>Bardiya</td>\n",
              "      <td>65.4</td>\n",
              "      <td>57.9</td>\n",
              "      <td>73.5</td>\n",
              "      <td>2013</td>\n",
              "    </tr>\n",
              "    <tr>\n",
              "      <th>39</th>\n",
              "      <td>Darchula</td>\n",
              "      <td>65.4</td>\n",
              "      <td>52.9</td>\n",
              "      <td>79.3</td>\n",
              "      <td>2013</td>\n",
              "    </tr>\n",
              "    <tr>\n",
              "      <th>40</th>\n",
              "      <td>Dadeldhura</td>\n",
              "      <td>65.3</td>\n",
              "      <td>52.9</td>\n",
              "      <td>79.7</td>\n",
              "      <td>2013</td>\n",
              "    </tr>\n",
              "    <tr>\n",
              "      <th>41</th>\n",
              "      <td>Okhaldhunga</td>\n",
              "      <td>64.4</td>\n",
              "      <td>56.0</td>\n",
              "      <td>74.3</td>\n",
              "      <td>2013</td>\n",
              "    </tr>\n",
              "    <tr>\n",
              "      <th>42</th>\n",
              "      <td>Solukhumbu</td>\n",
              "      <td>64.2</td>\n",
              "      <td>55.7</td>\n",
              "      <td>73.4</td>\n",
              "      <td>2013</td>\n",
              "    </tr>\n",
              "    <tr>\n",
              "      <th>43</th>\n",
              "      <td>Salyan</td>\n",
              "      <td>64.0</td>\n",
              "      <td>55.2</td>\n",
              "      <td>73.9</td>\n",
              "      <td>2013</td>\n",
              "    </tr>\n",
              "    <tr>\n",
              "      <th>44</th>\n",
              "      <td>Baitadi</td>\n",
              "      <td>63.0</td>\n",
              "      <td>49.2</td>\n",
              "      <td>79.0</td>\n",
              "      <td>2013</td>\n",
              "    </tr>\n",
              "    <tr>\n",
              "      <th>45</th>\n",
              "      <td>Dhading</td>\n",
              "      <td>62.9</td>\n",
              "      <td>55.7</td>\n",
              "      <td>71.1</td>\n",
              "      <td>2013</td>\n",
              "    </tr>\n",
              "    <tr>\n",
              "      <th>46</th>\n",
              "      <td>Dolakha</td>\n",
              "      <td>62.8</td>\n",
              "      <td>53.7</td>\n",
              "      <td>73.3</td>\n",
              "      <td>2013</td>\n",
              "    </tr>\n",
              "    <tr>\n",
              "      <th>47</th>\n",
              "      <td>Dailekh</td>\n",
              "      <td>62.5</td>\n",
              "      <td>52.9</td>\n",
              "      <td>72.8</td>\n",
              "      <td>2013</td>\n",
              "    </tr>\n",
              "    <tr>\n",
              "      <th>48</th>\n",
              "      <td>Banke</td>\n",
              "      <td>62.4</td>\n",
              "      <td>54.9</td>\n",
              "      <td>70.0</td>\n",
              "      <td>2013</td>\n",
              "    </tr>\n",
              "    <tr>\n",
              "      <th>49</th>\n",
              "      <td>Ramechhap</td>\n",
              "      <td>62.2</td>\n",
              "      <td>53.5</td>\n",
              "      <td>72.6</td>\n",
              "      <td>2013</td>\n",
              "    </tr>\n",
              "    <tr>\n",
              "      <th>50</th>\n",
              "      <td>Rukum</td>\n",
              "      <td>62.1</td>\n",
              "      <td>53.9</td>\n",
              "      <td>71.2</td>\n",
              "      <td>2013</td>\n",
              "    </tr>\n",
              "    <tr>\n",
              "      <th>51</th>\n",
              "      <td>Sindhuli</td>\n",
              "      <td>60.5</td>\n",
              "      <td>52.1</td>\n",
              "      <td>69.8</td>\n",
              "      <td>2013</td>\n",
              "    </tr>\n",
              "    <tr>\n",
              "      <th>52</th>\n",
              "      <td>Rolpa</td>\n",
              "      <td>60.0</td>\n",
              "      <td>50.5</td>\n",
              "      <td>71.5</td>\n",
              "      <td>2013</td>\n",
              "    </tr>\n",
              "    <tr>\n",
              "      <th>53</th>\n",
              "      <td>Nuwakot</td>\n",
              "      <td>59.8</td>\n",
              "      <td>52.4</td>\n",
              "      <td>68.0</td>\n",
              "      <td>2013</td>\n",
              "    </tr>\n",
              "    <tr>\n",
              "      <th>54</th>\n",
              "      <td>Sindhupalchok</td>\n",
              "      <td>59.6</td>\n",
              "      <td>51.9</td>\n",
              "      <td>68.0</td>\n",
              "      <td>2013</td>\n",
              "    </tr>\n",
              "    <tr>\n",
              "      <th>55</th>\n",
              "      <td>Jajarkot</td>\n",
              "      <td>57.3</td>\n",
              "      <td>48.7</td>\n",
              "      <td>65.9</td>\n",
              "      <td>2013</td>\n",
              "    </tr>\n",
              "    <tr>\n",
              "      <th>56</th>\n",
              "      <td>Kalikot</td>\n",
              "      <td>56.8</td>\n",
              "      <td>45.7</td>\n",
              "      <td>67.9</td>\n",
              "      <td>2013</td>\n",
              "    </tr>\n",
              "    <tr>\n",
              "      <th>57</th>\n",
              "      <td>Doti</td>\n",
              "      <td>56.3</td>\n",
              "      <td>42.3</td>\n",
              "      <td>73.4</td>\n",
              "      <td>2013</td>\n",
              "    </tr>\n",
              "    <tr>\n",
              "      <th>58</th>\n",
              "      <td>Parsa</td>\n",
              "      <td>55.9</td>\n",
              "      <td>43.9</td>\n",
              "      <td>66.9</td>\n",
              "      <td>2013</td>\n",
              "    </tr>\n",
              "    <tr>\n",
              "      <th>59</th>\n",
              "      <td>Achham</td>\n",
              "      <td>55.7</td>\n",
              "      <td>42.9</td>\n",
              "      <td>70.7</td>\n",
              "      <td>2013</td>\n",
              "    </tr>\n",
              "    <tr>\n",
              "      <th>60</th>\n",
              "      <td>Bajura</td>\n",
              "      <td>55.7</td>\n",
              "      <td>43.3</td>\n",
              "      <td>68.8</td>\n",
              "      <td>2013</td>\n",
              "    </tr>\n",
              "    <tr>\n",
              "      <th>61</th>\n",
              "      <td>Bajhang</td>\n",
              "      <td>55.6</td>\n",
              "      <td>40.1</td>\n",
              "      <td>73.0</td>\n",
              "      <td>2013</td>\n",
              "    </tr>\n",
              "    <tr>\n",
              "      <th>62</th>\n",
              "      <td>Kapilbastu</td>\n",
              "      <td>54.9</td>\n",
              "      <td>45.0</td>\n",
              "      <td>64.9</td>\n",
              "      <td>2013</td>\n",
              "    </tr>\n",
              "    <tr>\n",
              "      <th>63</th>\n",
              "      <td>Jumla</td>\n",
              "      <td>54.7</td>\n",
              "      <td>40.8</td>\n",
              "      <td>68.2</td>\n",
              "      <td>2013</td>\n",
              "    </tr>\n",
              "    <tr>\n",
              "      <th>64</th>\n",
              "      <td>Saptari</td>\n",
              "      <td>54.5</td>\n",
              "      <td>42.6</td>\n",
              "      <td>67.0</td>\n",
              "      <td>2013</td>\n",
              "    </tr>\n",
              "    <tr>\n",
              "      <th>65</th>\n",
              "      <td>Dolpa</td>\n",
              "      <td>54.1</td>\n",
              "      <td>40.6</td>\n",
              "      <td>67.9</td>\n",
              "      <td>2013</td>\n",
              "    </tr>\n",
              "    <tr>\n",
              "      <th>66</th>\n",
              "      <td>Rasuwa</td>\n",
              "      <td>53.6</td>\n",
              "      <td>46.5</td>\n",
              "      <td>60.9</td>\n",
              "      <td>2013</td>\n",
              "    </tr>\n",
              "    <tr>\n",
              "      <th>67</th>\n",
              "      <td>Bara</td>\n",
              "      <td>52.0</td>\n",
              "      <td>40.7</td>\n",
              "      <td>62.8</td>\n",
              "      <td>2013</td>\n",
              "    </tr>\n",
              "    <tr>\n",
              "      <th>68</th>\n",
              "      <td>Mugu</td>\n",
              "      <td>51.3</td>\n",
              "      <td>36.9</td>\n",
              "      <td>65.2</td>\n",
              "      <td>2013</td>\n",
              "    </tr>\n",
              "    <tr>\n",
              "      <th>69</th>\n",
              "      <td>Dhanusa</td>\n",
              "      <td>50.4</td>\n",
              "      <td>40.2</td>\n",
              "      <td>60.6</td>\n",
              "      <td>2013</td>\n",
              "    </tr>\n",
              "    <tr>\n",
              "      <th>70</th>\n",
              "      <td>Siraha</td>\n",
              "      <td>50.2</td>\n",
              "      <td>39.2</td>\n",
              "      <td>61.9</td>\n",
              "      <td>2013</td>\n",
              "    </tr>\n",
              "    <tr>\n",
              "      <th>71</th>\n",
              "      <td>Humla</td>\n",
              "      <td>47.8</td>\n",
              "      <td>33.0</td>\n",
              "      <td>62.1</td>\n",
              "      <td>2013</td>\n",
              "    </tr>\n",
              "    <tr>\n",
              "      <th>72</th>\n",
              "      <td>Mahottari</td>\n",
              "      <td>46.4</td>\n",
              "      <td>36.6</td>\n",
              "      <td>56.6</td>\n",
              "      <td>2013</td>\n",
              "    </tr>\n",
              "    <tr>\n",
              "      <th>73</th>\n",
              "      <td>Sarlahi</td>\n",
              "      <td>46.3</td>\n",
              "      <td>36.6</td>\n",
              "      <td>55.8</td>\n",
              "      <td>2013</td>\n",
              "    </tr>\n",
              "    <tr>\n",
              "      <th>74</th>\n",
              "      <td>Rautahat</td>\n",
              "      <td>41.7</td>\n",
              "      <td>32.0</td>\n",
              "      <td>50.9</td>\n",
              "      <td>2013</td>\n",
              "    </tr>\n",
              "  </tbody>\n",
              "</table>\n",
              "</div>"
            ],
            "text/plain": [
              "           District  Total  Female  Male   Year\n",
              "0        Kathmandu    86.3    79.8  92.2   2013\n",
              "1         Lalitpur    82.5    74.7  90.1   2013\n",
              "2            Kaski    82.4    75.4  90.1   2013\n",
              "3        Bhaktapur    81.7    72.7  90.5   2013\n",
              "4             Ilam    77.9    72.0  84.2   2013\n",
              "5         Chitawan    77.0    70.7  83.9   2013\n",
              "6          Syangja    76.6    69.6  86.1   2013\n",
              "7            Palpa    76.2    69.5  84.9   2013\n",
              "8            Jhapa    75.1    68.6  82.3   2013\n",
              "9           Manang    74.8    64.2  83.0   2013\n",
              "10          Tanahu    74.8    67.9  83.7   2013\n",
              "11       Terhathum    74.6    67.0  83.5   2013\n",
              "12        Dhankuta    74.4    67.4  82.4   2013\n",
              "13          Parbat    73.8    66.4  83.4   2013\n",
              "14         Surkhet    73.1    64.9  82.0   2013\n",
              "15    Arghakhanchi    72.6    65.8  81.8   2013\n",
              "16           Gulmi    72.6    65.9  81.6   2013\n",
              "17       Panchthar    72.6    65.8  80.3   2013\n",
              "18         Baglung    71.9    65.3  80.6   2013\n",
              "19          Myagdi    71.9    64.5  81.1   2013\n",
              "20       Taplejung    71.3    64.1  79.3   2013\n",
              "21         Lamjung    71.1    63.3  80.7   2013\n",
              "22     Nawalparasi    70.8    62.8  79.9   2013\n",
              "23      Kanchanpur    70.7    61.0  81.3   2013\n",
              "24          Morang    70.6    63.1  78.7   2013\n",
              "25            Dang    70.3    62.8  78.9   2013\n",
              "26  Kavrepalanchok    69.8    60.9  79.6   2013\n",
              "27       Rupandehi    69.8    60.8  79.2   2013\n",
              "28   Sankhuwasabha    69.4    62.2  77.5   2013\n",
              "29         Bhojpur    69.3    61.4  78.4   2013\n",
              "30         Khotang    68.8    61.1  77.7   2013\n",
              "31        Udayapur    68.8    61.5  77.2   2013\n",
              "32         Sunsari    68.5    60.5  77.0   2013\n",
              "33       Makwanpur    67.9    60.6  75.4   2013\n",
              "34         Pyuthan    67.0    58.6  78.2   2013\n",
              "35          Gorkha    66.3    59.4  75.1   2013\n",
              "36         Kailali    66.3    57.1  76.2   2013\n",
              "37         Mustang    66.2    55.8  75.4   2013\n",
              "38         Bardiya    65.4    57.9  73.5   2013\n",
              "39        Darchula    65.4    52.9  79.3   2013\n",
              "40      Dadeldhura    65.3    52.9  79.7   2013\n",
              "41     Okhaldhunga    64.4    56.0  74.3   2013\n",
              "42      Solukhumbu    64.2    55.7  73.4   2013\n",
              "43          Salyan    64.0    55.2  73.9   2013\n",
              "44         Baitadi    63.0    49.2  79.0   2013\n",
              "45         Dhading    62.9    55.7  71.1   2013\n",
              "46         Dolakha    62.8    53.7  73.3   2013\n",
              "47         Dailekh    62.5    52.9  72.8   2013\n",
              "48           Banke    62.4    54.9  70.0   2013\n",
              "49       Ramechhap    62.2    53.5  72.6   2013\n",
              "50           Rukum    62.1    53.9  71.2   2013\n",
              "51        Sindhuli    60.5    52.1  69.8   2013\n",
              "52           Rolpa    60.0    50.5  71.5   2013\n",
              "53         Nuwakot    59.8    52.4  68.0   2013\n",
              "54   Sindhupalchok    59.6    51.9  68.0   2013\n",
              "55        Jajarkot    57.3    48.7  65.9   2013\n",
              "56         Kalikot    56.8    45.7  67.9   2013\n",
              "57            Doti    56.3    42.3  73.4   2013\n",
              "58           Parsa    55.9    43.9  66.9   2013\n",
              "59          Achham    55.7    42.9  70.7   2013\n",
              "60          Bajura    55.7    43.3  68.8   2013\n",
              "61         Bajhang    55.6    40.1  73.0   2013\n",
              "62      Kapilbastu    54.9    45.0  64.9   2013\n",
              "63           Jumla    54.7    40.8  68.2   2013\n",
              "64         Saptari    54.5    42.6  67.0   2013\n",
              "65           Dolpa    54.1    40.6  67.9   2013\n",
              "66          Rasuwa    53.6    46.5  60.9   2013\n",
              "67            Bara    52.0    40.7  62.8   2013\n",
              "68            Mugu    51.3    36.9  65.2   2013\n",
              "69         Dhanusa    50.4    40.2  60.6   2013\n",
              "70          Siraha    50.2    39.2  61.9   2013\n",
              "71           Humla    47.8    33.0  62.1   2013\n",
              "72       Mahottari    46.4    36.6  56.6   2013\n",
              "73         Sarlahi    46.3    36.6  55.8   2013\n",
              "74        Rautahat    41.7    32.0  50.9   2013"
            ]
          },
          "metadata": {
            "tags": []
          },
          "execution_count": 57
        }
      ]
    },
    {
      "cell_type": "code",
      "metadata": {
        "id": "R6fL50oJ2FGM",
        "colab_type": "code",
        "outputId": "24998638-e1f2-451a-f12d-a3425ef3262f",
        "colab": {
          "base_uri": "https://localhost:8080/",
          "height": 301
        }
      },
      "source": [
        "lite_df.describe()"
      ],
      "execution_count": 58,
      "outputs": [
        {
          "output_type": "execute_result",
          "data": {
            "text/html": [
              "<div>\n",
              "<style scoped>\n",
              "    .dataframe tbody tr th:only-of-type {\n",
              "        vertical-align: middle;\n",
              "    }\n",
              "\n",
              "    .dataframe tbody tr th {\n",
              "        vertical-align: top;\n",
              "    }\n",
              "\n",
              "    .dataframe thead th {\n",
              "        text-align: right;\n",
              "    }\n",
              "</style>\n",
              "<table border=\"1\" class=\"dataframe\">\n",
              "  <thead>\n",
              "    <tr style=\"text-align: right;\">\n",
              "      <th></th>\n",
              "      <th>Total</th>\n",
              "      <th>Female</th>\n",
              "      <th>Male</th>\n",
              "      <th>Year</th>\n",
              "    </tr>\n",
              "  </thead>\n",
              "  <tbody>\n",
              "    <tr>\n",
              "      <th>count</th>\n",
              "      <td>75.0000</td>\n",
              "      <td>75.000000</td>\n",
              "      <td>75.000000</td>\n",
              "      <td>75.0</td>\n",
              "    </tr>\n",
              "    <tr>\n",
              "      <th>mean</th>\n",
              "      <td>65.1120</td>\n",
              "      <td>56.053333</td>\n",
              "      <td>75.016000</td>\n",
              "      <td>2013.0</td>\n",
              "    </tr>\n",
              "    <tr>\n",
              "      <th>std</th>\n",
              "      <td>9.5331</td>\n",
              "      <td>11.199968</td>\n",
              "      <td>8.464617</td>\n",
              "      <td>0.0</td>\n",
              "    </tr>\n",
              "    <tr>\n",
              "      <th>min</th>\n",
              "      <td>41.7000</td>\n",
              "      <td>32.000000</td>\n",
              "      <td>50.900000</td>\n",
              "      <td>2013.0</td>\n",
              "    </tr>\n",
              "    <tr>\n",
              "      <th>25%</th>\n",
              "      <td>57.0500</td>\n",
              "      <td>47.600000</td>\n",
              "      <td>69.300000</td>\n",
              "      <td>2013.0</td>\n",
              "    </tr>\n",
              "    <tr>\n",
              "      <th>50%</th>\n",
              "      <td>66.2000</td>\n",
              "      <td>57.100000</td>\n",
              "      <td>76.200000</td>\n",
              "      <td>2013.0</td>\n",
              "    </tr>\n",
              "    <tr>\n",
              "      <th>75%</th>\n",
              "      <td>71.9000</td>\n",
              "      <td>64.350000</td>\n",
              "      <td>80.900000</td>\n",
              "      <td>2013.0</td>\n",
              "    </tr>\n",
              "    <tr>\n",
              "      <th>max</th>\n",
              "      <td>86.3000</td>\n",
              "      <td>79.800000</td>\n",
              "      <td>92.200000</td>\n",
              "      <td>2013.0</td>\n",
              "    </tr>\n",
              "  </tbody>\n",
              "</table>\n",
              "</div>"
            ],
            "text/plain": [
              "         Total     Female       Male    Year\n",
              "count  75.0000  75.000000  75.000000    75.0\n",
              "mean   65.1120  56.053333  75.016000  2013.0\n",
              "std     9.5331  11.199968   8.464617     0.0\n",
              "min    41.7000  32.000000  50.900000  2013.0\n",
              "25%    57.0500  47.600000  69.300000  2013.0\n",
              "50%    66.2000  57.100000  76.200000  2013.0\n",
              "75%    71.9000  64.350000  80.900000  2013.0\n",
              "max    86.3000  79.800000  92.200000  2013.0"
            ]
          },
          "metadata": {
            "tags": []
          },
          "execution_count": 58
        }
      ]
    },
    {
      "cell_type": "code",
      "metadata": {
        "id": "Ffko-hkIWNx-",
        "colab_type": "code",
        "outputId": "30b0f918-8f05-4a20-c1b2-0ff82f751261",
        "colab": {
          "base_uri": "https://localhost:8080/",
          "height": 1000
        }
      },
      "source": [
        "import plotly.express as px\n",
        "\n",
        "def plot_hist(data,column_name):\n",
        "\n",
        "  fig = px.histogram(data,x=data[column_name],title=column_name)\n",
        "  fig.show()\n",
        "\n",
        "plot_hist(life_df,'Life expectancy(In Years)')\n",
        "plot_hist(life_df,'Per Capita Income(In USD)')\n",
        "plot_hist(lite_df,'Female')\n",
        "plot_hist(lite_df,'Male')"
      ],
      "execution_count": 59,
      "outputs": [
        {
          "output_type": "display_data",
          "data": {
            "text/html": [
              "<html>\n",
              "<head><meta charset=\"utf-8\" /></head>\n",
              "<body>\n",
              "    <div>\n",
              "            <script src=\"https://cdnjs.cloudflare.com/ajax/libs/mathjax/2.7.5/MathJax.js?config=TeX-AMS-MML_SVG\"></script><script type=\"text/javascript\">if (window.MathJax) {MathJax.Hub.Config({SVG: {font: \"STIX-Web\"}});}</script>\n",
              "                <script type=\"text/javascript\">window.PlotlyConfig = {MathJaxConfig: 'local'};</script>\n",
              "        <script src=\"https://cdn.plot.ly/plotly-latest.min.js\"></script>    \n",
              "            <div id=\"6d85da9e-c830-44f2-aa98-726d872d2a54\" class=\"plotly-graph-div\" style=\"height:525px; width:100%;\"></div>\n",
              "            <script type=\"text/javascript\">\n",
              "                \n",
              "                    window.PLOTLYENV=window.PLOTLYENV || {};\n",
              "                    \n",
              "                if (document.getElementById(\"6d85da9e-c830-44f2-aa98-726d872d2a54\")) {\n",
              "                    Plotly.newPlot(\n",
              "                        '6d85da9e-c830-44f2-aa98-726d872d2a54',\n",
              "                        [{\"alignmentgroup\": \"True\", \"bingroup\": \"x\", \"hoverlabel\": {\"namelength\": 0}, \"hovertemplate\": \"Life expectancy(In Years)=%{x}<br>count=%{y}\", \"legendgroup\": \"\", \"marker\": {\"color\": \"#636efa\"}, \"name\": \"\", \"offsetgroup\": \"\", \"orientation\": \"v\", \"showlegend\": false, \"type\": \"histogram\", \"x\": [72.9, 71.7, 71.34, 71.29, 70.99, 70.94, 70.91, 70.86, 70.86, 70.85, 70.81, 70.56, 70.55, 70.51, 70.5, 70.48, 70.3, 70.25, 70.24, 70.14, 70.06, 70.05, 70.04, 69.78, 69.68, 69.57, 69.53, 69.47, 69.29, 69.05, 69.05, 69.04, 68.88, 68.83, 68.83, 68.8, 68.56, 68.55, 68.42, 68.39, 68.35, 68.33, 68.33, 68.29, 68.27, 68.12, 68.09, 68.08, 68.05, 68.03, 67.95, 67.9, 67.81, 67.56, 67.33, 67.29, 67.28, 67.26, 67.14, 67.08, 66.74, 66.46, 66.45, 66.28, 65.83, 65.57, 65.22, 65.04, 65.04, 64.33, 64.15, 63.92, 63.64, 63.14, 61.2], \"xaxis\": \"x\", \"yaxis\": \"y\"}],\n",
              "                        {\"barmode\": \"relative\", \"legend\": {\"tracegroupgap\": 0}, \"template\": {\"data\": {\"bar\": [{\"error_x\": {\"color\": \"#2a3f5f\"}, \"error_y\": {\"color\": \"#2a3f5f\"}, \"marker\": {\"line\": {\"color\": \"#E5ECF6\", \"width\": 0.5}}, \"type\": \"bar\"}], \"barpolar\": [{\"marker\": {\"line\": {\"color\": \"#E5ECF6\", \"width\": 0.5}}, \"type\": \"barpolar\"}], \"carpet\": [{\"aaxis\": {\"endlinecolor\": \"#2a3f5f\", \"gridcolor\": \"white\", \"linecolor\": \"white\", \"minorgridcolor\": \"white\", \"startlinecolor\": \"#2a3f5f\"}, \"baxis\": {\"endlinecolor\": \"#2a3f5f\", \"gridcolor\": \"white\", \"linecolor\": \"white\", \"minorgridcolor\": \"white\", \"startlinecolor\": \"#2a3f5f\"}, \"type\": \"carpet\"}], \"choropleth\": [{\"colorbar\": {\"outlinewidth\": 0, \"ticks\": \"\"}, \"type\": \"choropleth\"}], \"contour\": [{\"colorbar\": {\"outlinewidth\": 0, \"ticks\": \"\"}, \"colorscale\": [[0.0, \"#0d0887\"], [0.1111111111111111, \"#46039f\"], [0.2222222222222222, \"#7201a8\"], [0.3333333333333333, \"#9c179e\"], [0.4444444444444444, \"#bd3786\"], [0.5555555555555556, \"#d8576b\"], [0.6666666666666666, \"#ed7953\"], [0.7777777777777778, \"#fb9f3a\"], [0.8888888888888888, \"#fdca26\"], [1.0, \"#f0f921\"]], \"type\": \"contour\"}], \"contourcarpet\": [{\"colorbar\": {\"outlinewidth\": 0, \"ticks\": \"\"}, \"type\": \"contourcarpet\"}], \"heatmap\": [{\"colorbar\": {\"outlinewidth\": 0, \"ticks\": \"\"}, \"colorscale\": [[0.0, \"#0d0887\"], [0.1111111111111111, \"#46039f\"], [0.2222222222222222, \"#7201a8\"], [0.3333333333333333, \"#9c179e\"], [0.4444444444444444, \"#bd3786\"], [0.5555555555555556, \"#d8576b\"], [0.6666666666666666, \"#ed7953\"], [0.7777777777777778, \"#fb9f3a\"], [0.8888888888888888, \"#fdca26\"], [1.0, \"#f0f921\"]], \"type\": \"heatmap\"}], \"heatmapgl\": [{\"colorbar\": {\"outlinewidth\": 0, \"ticks\": \"\"}, \"colorscale\": [[0.0, \"#0d0887\"], [0.1111111111111111, \"#46039f\"], [0.2222222222222222, \"#7201a8\"], [0.3333333333333333, \"#9c179e\"], [0.4444444444444444, \"#bd3786\"], [0.5555555555555556, \"#d8576b\"], [0.6666666666666666, \"#ed7953\"], [0.7777777777777778, \"#fb9f3a\"], [0.8888888888888888, \"#fdca26\"], [1.0, \"#f0f921\"]], \"type\": \"heatmapgl\"}], \"histogram\": [{\"marker\": {\"colorbar\": {\"outlinewidth\": 0, \"ticks\": \"\"}}, \"type\": \"histogram\"}], \"histogram2d\": [{\"colorbar\": {\"outlinewidth\": 0, \"ticks\": \"\"}, \"colorscale\": [[0.0, \"#0d0887\"], [0.1111111111111111, \"#46039f\"], [0.2222222222222222, \"#7201a8\"], [0.3333333333333333, \"#9c179e\"], [0.4444444444444444, \"#bd3786\"], [0.5555555555555556, \"#d8576b\"], [0.6666666666666666, \"#ed7953\"], [0.7777777777777778, \"#fb9f3a\"], [0.8888888888888888, \"#fdca26\"], [1.0, \"#f0f921\"]], \"type\": \"histogram2d\"}], \"histogram2dcontour\": [{\"colorbar\": {\"outlinewidth\": 0, \"ticks\": \"\"}, \"colorscale\": [[0.0, \"#0d0887\"], [0.1111111111111111, \"#46039f\"], [0.2222222222222222, \"#7201a8\"], [0.3333333333333333, \"#9c179e\"], [0.4444444444444444, \"#bd3786\"], [0.5555555555555556, \"#d8576b\"], [0.6666666666666666, \"#ed7953\"], [0.7777777777777778, \"#fb9f3a\"], [0.8888888888888888, \"#fdca26\"], [1.0, \"#f0f921\"]], \"type\": \"histogram2dcontour\"}], \"mesh3d\": [{\"colorbar\": {\"outlinewidth\": 0, \"ticks\": \"\"}, \"type\": \"mesh3d\"}], \"parcoords\": [{\"line\": {\"colorbar\": {\"outlinewidth\": 0, \"ticks\": \"\"}}, \"type\": \"parcoords\"}], \"pie\": [{\"automargin\": true, \"type\": \"pie\"}], \"scatter\": [{\"marker\": {\"colorbar\": {\"outlinewidth\": 0, \"ticks\": \"\"}}, \"type\": \"scatter\"}], \"scatter3d\": [{\"line\": {\"colorbar\": {\"outlinewidth\": 0, \"ticks\": \"\"}}, \"marker\": {\"colorbar\": {\"outlinewidth\": 0, \"ticks\": \"\"}}, \"type\": \"scatter3d\"}], \"scattercarpet\": [{\"marker\": {\"colorbar\": {\"outlinewidth\": 0, \"ticks\": \"\"}}, \"type\": \"scattercarpet\"}], \"scattergeo\": [{\"marker\": {\"colorbar\": {\"outlinewidth\": 0, \"ticks\": \"\"}}, \"type\": \"scattergeo\"}], \"scattergl\": [{\"marker\": {\"colorbar\": {\"outlinewidth\": 0, \"ticks\": \"\"}}, \"type\": \"scattergl\"}], \"scattermapbox\": [{\"marker\": {\"colorbar\": {\"outlinewidth\": 0, \"ticks\": \"\"}}, \"type\": \"scattermapbox\"}], \"scatterpolar\": [{\"marker\": {\"colorbar\": {\"outlinewidth\": 0, \"ticks\": \"\"}}, \"type\": \"scatterpolar\"}], \"scatterpolargl\": [{\"marker\": {\"colorbar\": {\"outlinewidth\": 0, \"ticks\": \"\"}}, \"type\": \"scatterpolargl\"}], \"scatterternary\": [{\"marker\": {\"colorbar\": {\"outlinewidth\": 0, \"ticks\": \"\"}}, \"type\": \"scatterternary\"}], \"surface\": [{\"colorbar\": {\"outlinewidth\": 0, \"ticks\": \"\"}, \"colorscale\": [[0.0, \"#0d0887\"], [0.1111111111111111, \"#46039f\"], [0.2222222222222222, \"#7201a8\"], [0.3333333333333333, \"#9c179e\"], [0.4444444444444444, \"#bd3786\"], [0.5555555555555556, \"#d8576b\"], [0.6666666666666666, \"#ed7953\"], [0.7777777777777778, \"#fb9f3a\"], [0.8888888888888888, \"#fdca26\"], [1.0, \"#f0f921\"]], \"type\": \"surface\"}], \"table\": [{\"cells\": {\"fill\": {\"color\": \"#EBF0F8\"}, \"line\": {\"color\": \"white\"}}, \"header\": {\"fill\": {\"color\": \"#C8D4E3\"}, \"line\": {\"color\": \"white\"}}, \"type\": \"table\"}]}, \"layout\": {\"annotationdefaults\": {\"arrowcolor\": \"#2a3f5f\", \"arrowhead\": 0, \"arrowwidth\": 1}, \"coloraxis\": {\"colorbar\": {\"outlinewidth\": 0, \"ticks\": \"\"}}, \"colorscale\": {\"diverging\": [[0, \"#8e0152\"], [0.1, \"#c51b7d\"], [0.2, \"#de77ae\"], [0.3, \"#f1b6da\"], [0.4, \"#fde0ef\"], [0.5, \"#f7f7f7\"], [0.6, \"#e6f5d0\"], [0.7, \"#b8e186\"], [0.8, \"#7fbc41\"], [0.9, \"#4d9221\"], [1, \"#276419\"]], \"sequential\": [[0.0, \"#0d0887\"], [0.1111111111111111, \"#46039f\"], [0.2222222222222222, \"#7201a8\"], [0.3333333333333333, \"#9c179e\"], [0.4444444444444444, \"#bd3786\"], [0.5555555555555556, \"#d8576b\"], [0.6666666666666666, \"#ed7953\"], [0.7777777777777778, \"#fb9f3a\"], [0.8888888888888888, \"#fdca26\"], [1.0, \"#f0f921\"]], \"sequentialminus\": [[0.0, \"#0d0887\"], [0.1111111111111111, \"#46039f\"], [0.2222222222222222, \"#7201a8\"], [0.3333333333333333, \"#9c179e\"], [0.4444444444444444, \"#bd3786\"], [0.5555555555555556, \"#d8576b\"], [0.6666666666666666, \"#ed7953\"], [0.7777777777777778, \"#fb9f3a\"], [0.8888888888888888, \"#fdca26\"], [1.0, \"#f0f921\"]]}, \"colorway\": [\"#636efa\", \"#EF553B\", \"#00cc96\", \"#ab63fa\", \"#FFA15A\", \"#19d3f3\", \"#FF6692\", \"#B6E880\", \"#FF97FF\", \"#FECB52\"], \"font\": {\"color\": \"#2a3f5f\"}, \"geo\": {\"bgcolor\": \"white\", \"lakecolor\": \"white\", \"landcolor\": \"#E5ECF6\", \"showlakes\": true, \"showland\": true, \"subunitcolor\": \"white\"}, \"hoverlabel\": {\"align\": \"left\"}, \"hovermode\": \"closest\", \"mapbox\": {\"style\": \"light\"}, \"paper_bgcolor\": \"white\", \"plot_bgcolor\": \"#E5ECF6\", \"polar\": {\"angularaxis\": {\"gridcolor\": \"white\", \"linecolor\": \"white\", \"ticks\": \"\"}, \"bgcolor\": \"#E5ECF6\", \"radialaxis\": {\"gridcolor\": \"white\", \"linecolor\": \"white\", \"ticks\": \"\"}}, \"scene\": {\"xaxis\": {\"backgroundcolor\": \"#E5ECF6\", \"gridcolor\": \"white\", \"gridwidth\": 2, \"linecolor\": \"white\", \"showbackground\": true, \"ticks\": \"\", \"zerolinecolor\": \"white\"}, \"yaxis\": {\"backgroundcolor\": \"#E5ECF6\", \"gridcolor\": \"white\", \"gridwidth\": 2, \"linecolor\": \"white\", \"showbackground\": true, \"ticks\": \"\", \"zerolinecolor\": \"white\"}, \"zaxis\": {\"backgroundcolor\": \"#E5ECF6\", \"gridcolor\": \"white\", \"gridwidth\": 2, \"linecolor\": \"white\", \"showbackground\": true, \"ticks\": \"\", \"zerolinecolor\": \"white\"}}, \"shapedefaults\": {\"line\": {\"color\": \"#2a3f5f\"}}, \"ternary\": {\"aaxis\": {\"gridcolor\": \"white\", \"linecolor\": \"white\", \"ticks\": \"\"}, \"baxis\": {\"gridcolor\": \"white\", \"linecolor\": \"white\", \"ticks\": \"\"}, \"bgcolor\": \"#E5ECF6\", \"caxis\": {\"gridcolor\": \"white\", \"linecolor\": \"white\", \"ticks\": \"\"}}, \"title\": {\"x\": 0.05}, \"xaxis\": {\"automargin\": true, \"gridcolor\": \"white\", \"linecolor\": \"white\", \"ticks\": \"\", \"title\": {\"standoff\": 15}, \"zerolinecolor\": \"white\", \"zerolinewidth\": 2}, \"yaxis\": {\"automargin\": true, \"gridcolor\": \"white\", \"linecolor\": \"white\", \"ticks\": \"\", \"title\": {\"standoff\": 15}, \"zerolinecolor\": \"white\", \"zerolinewidth\": 2}}}, \"title\": {\"text\": \"Life expectancy(In Years)\"}, \"xaxis\": {\"anchor\": \"y\", \"domain\": [0.0, 1.0], \"title\": {\"text\": \"Life expectancy(In Years)\"}}, \"yaxis\": {\"anchor\": \"x\", \"domain\": [0.0, 1.0], \"title\": {\"text\": \"count\"}}},\n",
              "                        {\"responsive\": true}\n",
              "                    ).then(function(){\n",
              "                            \n",
              "var gd = document.getElementById('6d85da9e-c830-44f2-aa98-726d872d2a54');\n",
              "var x = new MutationObserver(function (mutations, observer) {{\n",
              "        var display = window.getComputedStyle(gd).display;\n",
              "        if (!display || display === 'none') {{\n",
              "            console.log([gd, 'removed!']);\n",
              "            Plotly.purge(gd);\n",
              "            observer.disconnect();\n",
              "        }}\n",
              "}});\n",
              "\n",
              "// Listen for the removal of the full notebook cells\n",
              "var notebookContainer = gd.closest('#notebook-container');\n",
              "if (notebookContainer) {{\n",
              "    x.observe(notebookContainer, {childList: true});\n",
              "}}\n",
              "\n",
              "// Listen for the clearing of the current output cell\n",
              "var outputEl = gd.closest('.output');\n",
              "if (outputEl) {{\n",
              "    x.observe(outputEl, {childList: true});\n",
              "}}\n",
              "\n",
              "                        })\n",
              "                };\n",
              "                \n",
              "            </script>\n",
              "        </div>\n",
              "</body>\n",
              "</html>"
            ]
          },
          "metadata": {
            "tags": []
          }
        },
        {
          "output_type": "display_data",
          "data": {
            "text/html": [
              "<html>\n",
              "<head><meta charset=\"utf-8\" /></head>\n",
              "<body>\n",
              "    <div>\n",
              "            <script src=\"https://cdnjs.cloudflare.com/ajax/libs/mathjax/2.7.5/MathJax.js?config=TeX-AMS-MML_SVG\"></script><script type=\"text/javascript\">if (window.MathJax) {MathJax.Hub.Config({SVG: {font: \"STIX-Web\"}});}</script>\n",
              "                <script type=\"text/javascript\">window.PlotlyConfig = {MathJaxConfig: 'local'};</script>\n",
              "        <script src=\"https://cdn.plot.ly/plotly-latest.min.js\"></script>    \n",
              "            <div id=\"75985605-9456-4f6c-8b9e-0aa4a3b239e2\" class=\"plotly-graph-div\" style=\"height:525px; width:100%;\"></div>\n",
              "            <script type=\"text/javascript\">\n",
              "                \n",
              "                    window.PLOTLYENV=window.PLOTLYENV || {};\n",
              "                    \n",
              "                if (document.getElementById(\"75985605-9456-4f6c-8b9e-0aa4a3b239e2\")) {\n",
              "                    Plotly.newPlot(\n",
              "                        '75985605-9456-4f6c-8b9e-0aa4a3b239e2',\n",
              "                        [{\"alignmentgroup\": \"True\", \"bingroup\": \"x\", \"hoverlabel\": {\"namelength\": 0}, \"hovertemplate\": \"Per Capita Income(In USD)=%{x}<br>count=%{y}\", \"legendgroup\": \"\", \"marker\": {\"color\": \"#636efa\"}, \"name\": \"\", \"offsetgroup\": \"\", \"orientation\": \"v\", \"showlegend\": false, \"type\": \"histogram\", \"x\": [951, 1039, 801, 689, 757, 1186, 1520, 982, 1399, 922, 1086, 957, 1013, 1561, 1480, 1379, 1894, 1223, 1132, 1072, 809, 1028, 822, 1537, 1215, 1110, 938, 681, 920, 1251, 627, 1257, 573, 1841, 868, 786, 909, 2764, 1193, 782, 1133, 1104, 999, 1123, 985, 1082, 752, 1410, 1419, 684, 1260, 764, 1157, 990, 1127, 1226, 911, 1086, 536, 938, 774, 942, 611, 643, 1313, 866, 487, 1922, 3166, 681, 794, 523, 578, 1007, 1040], \"xaxis\": \"x\", \"yaxis\": \"y\"}],\n",
              "                        {\"barmode\": \"relative\", \"legend\": {\"tracegroupgap\": 0}, \"template\": {\"data\": {\"bar\": [{\"error_x\": {\"color\": \"#2a3f5f\"}, \"error_y\": {\"color\": \"#2a3f5f\"}, \"marker\": {\"line\": {\"color\": \"#E5ECF6\", \"width\": 0.5}}, \"type\": \"bar\"}], \"barpolar\": [{\"marker\": {\"line\": {\"color\": \"#E5ECF6\", \"width\": 0.5}}, \"type\": \"barpolar\"}], \"carpet\": [{\"aaxis\": {\"endlinecolor\": \"#2a3f5f\", \"gridcolor\": \"white\", \"linecolor\": \"white\", \"minorgridcolor\": \"white\", \"startlinecolor\": \"#2a3f5f\"}, \"baxis\": {\"endlinecolor\": \"#2a3f5f\", \"gridcolor\": \"white\", \"linecolor\": \"white\", \"minorgridcolor\": \"white\", \"startlinecolor\": \"#2a3f5f\"}, \"type\": \"carpet\"}], \"choropleth\": [{\"colorbar\": {\"outlinewidth\": 0, \"ticks\": \"\"}, \"type\": \"choropleth\"}], \"contour\": [{\"colorbar\": {\"outlinewidth\": 0, \"ticks\": \"\"}, \"colorscale\": [[0.0, \"#0d0887\"], [0.1111111111111111, \"#46039f\"], [0.2222222222222222, \"#7201a8\"], [0.3333333333333333, \"#9c179e\"], [0.4444444444444444, \"#bd3786\"], [0.5555555555555556, \"#d8576b\"], [0.6666666666666666, \"#ed7953\"], [0.7777777777777778, \"#fb9f3a\"], [0.8888888888888888, \"#fdca26\"], [1.0, \"#f0f921\"]], \"type\": \"contour\"}], \"contourcarpet\": [{\"colorbar\": {\"outlinewidth\": 0, \"ticks\": \"\"}, \"type\": \"contourcarpet\"}], \"heatmap\": [{\"colorbar\": {\"outlinewidth\": 0, \"ticks\": \"\"}, \"colorscale\": [[0.0, \"#0d0887\"], [0.1111111111111111, \"#46039f\"], [0.2222222222222222, \"#7201a8\"], [0.3333333333333333, \"#9c179e\"], [0.4444444444444444, \"#bd3786\"], [0.5555555555555556, \"#d8576b\"], [0.6666666666666666, \"#ed7953\"], [0.7777777777777778, \"#fb9f3a\"], [0.8888888888888888, \"#fdca26\"], [1.0, \"#f0f921\"]], \"type\": \"heatmap\"}], \"heatmapgl\": [{\"colorbar\": {\"outlinewidth\": 0, \"ticks\": \"\"}, \"colorscale\": [[0.0, \"#0d0887\"], [0.1111111111111111, \"#46039f\"], [0.2222222222222222, \"#7201a8\"], [0.3333333333333333, \"#9c179e\"], [0.4444444444444444, \"#bd3786\"], [0.5555555555555556, \"#d8576b\"], [0.6666666666666666, \"#ed7953\"], [0.7777777777777778, \"#fb9f3a\"], [0.8888888888888888, \"#fdca26\"], [1.0, \"#f0f921\"]], \"type\": \"heatmapgl\"}], \"histogram\": [{\"marker\": {\"colorbar\": {\"outlinewidth\": 0, \"ticks\": \"\"}}, \"type\": \"histogram\"}], \"histogram2d\": [{\"colorbar\": {\"outlinewidth\": 0, \"ticks\": \"\"}, \"colorscale\": [[0.0, \"#0d0887\"], [0.1111111111111111, \"#46039f\"], [0.2222222222222222, \"#7201a8\"], [0.3333333333333333, \"#9c179e\"], [0.4444444444444444, \"#bd3786\"], [0.5555555555555556, \"#d8576b\"], [0.6666666666666666, \"#ed7953\"], [0.7777777777777778, \"#fb9f3a\"], [0.8888888888888888, \"#fdca26\"], [1.0, \"#f0f921\"]], \"type\": \"histogram2d\"}], \"histogram2dcontour\": [{\"colorbar\": {\"outlinewidth\": 0, \"ticks\": \"\"}, \"colorscale\": [[0.0, \"#0d0887\"], [0.1111111111111111, \"#46039f\"], [0.2222222222222222, \"#7201a8\"], [0.3333333333333333, \"#9c179e\"], [0.4444444444444444, \"#bd3786\"], [0.5555555555555556, \"#d8576b\"], [0.6666666666666666, \"#ed7953\"], [0.7777777777777778, \"#fb9f3a\"], [0.8888888888888888, \"#fdca26\"], [1.0, \"#f0f921\"]], \"type\": \"histogram2dcontour\"}], \"mesh3d\": [{\"colorbar\": {\"outlinewidth\": 0, \"ticks\": \"\"}, \"type\": \"mesh3d\"}], \"parcoords\": [{\"line\": {\"colorbar\": {\"outlinewidth\": 0, \"ticks\": \"\"}}, \"type\": \"parcoords\"}], \"pie\": [{\"automargin\": true, \"type\": \"pie\"}], \"scatter\": [{\"marker\": {\"colorbar\": {\"outlinewidth\": 0, \"ticks\": \"\"}}, \"type\": \"scatter\"}], \"scatter3d\": [{\"line\": {\"colorbar\": {\"outlinewidth\": 0, \"ticks\": \"\"}}, \"marker\": {\"colorbar\": {\"outlinewidth\": 0, \"ticks\": \"\"}}, \"type\": \"scatter3d\"}], \"scattercarpet\": [{\"marker\": {\"colorbar\": {\"outlinewidth\": 0, \"ticks\": \"\"}}, \"type\": \"scattercarpet\"}], \"scattergeo\": [{\"marker\": {\"colorbar\": {\"outlinewidth\": 0, \"ticks\": \"\"}}, \"type\": \"scattergeo\"}], \"scattergl\": [{\"marker\": {\"colorbar\": {\"outlinewidth\": 0, \"ticks\": \"\"}}, \"type\": \"scattergl\"}], \"scattermapbox\": [{\"marker\": {\"colorbar\": {\"outlinewidth\": 0, \"ticks\": \"\"}}, \"type\": \"scattermapbox\"}], \"scatterpolar\": [{\"marker\": {\"colorbar\": {\"outlinewidth\": 0, \"ticks\": \"\"}}, \"type\": \"scatterpolar\"}], \"scatterpolargl\": [{\"marker\": {\"colorbar\": {\"outlinewidth\": 0, \"ticks\": \"\"}}, \"type\": \"scatterpolargl\"}], \"scatterternary\": [{\"marker\": {\"colorbar\": {\"outlinewidth\": 0, \"ticks\": \"\"}}, \"type\": \"scatterternary\"}], \"surface\": [{\"colorbar\": {\"outlinewidth\": 0, \"ticks\": \"\"}, \"colorscale\": [[0.0, \"#0d0887\"], [0.1111111111111111, \"#46039f\"], [0.2222222222222222, \"#7201a8\"], [0.3333333333333333, \"#9c179e\"], [0.4444444444444444, \"#bd3786\"], [0.5555555555555556, \"#d8576b\"], [0.6666666666666666, \"#ed7953\"], [0.7777777777777778, \"#fb9f3a\"], [0.8888888888888888, \"#fdca26\"], [1.0, \"#f0f921\"]], \"type\": \"surface\"}], \"table\": [{\"cells\": {\"fill\": {\"color\": \"#EBF0F8\"}, \"line\": {\"color\": \"white\"}}, \"header\": {\"fill\": {\"color\": \"#C8D4E3\"}, \"line\": {\"color\": \"white\"}}, \"type\": \"table\"}]}, \"layout\": {\"annotationdefaults\": {\"arrowcolor\": \"#2a3f5f\", \"arrowhead\": 0, \"arrowwidth\": 1}, \"coloraxis\": {\"colorbar\": {\"outlinewidth\": 0, \"ticks\": \"\"}}, \"colorscale\": {\"diverging\": [[0, \"#8e0152\"], [0.1, \"#c51b7d\"], [0.2, \"#de77ae\"], [0.3, \"#f1b6da\"], [0.4, \"#fde0ef\"], [0.5, \"#f7f7f7\"], [0.6, \"#e6f5d0\"], [0.7, \"#b8e186\"], [0.8, \"#7fbc41\"], [0.9, \"#4d9221\"], [1, \"#276419\"]], \"sequential\": [[0.0, \"#0d0887\"], [0.1111111111111111, \"#46039f\"], [0.2222222222222222, \"#7201a8\"], [0.3333333333333333, \"#9c179e\"], [0.4444444444444444, \"#bd3786\"], [0.5555555555555556, \"#d8576b\"], [0.6666666666666666, \"#ed7953\"], [0.7777777777777778, \"#fb9f3a\"], [0.8888888888888888, \"#fdca26\"], [1.0, \"#f0f921\"]], \"sequentialminus\": [[0.0, \"#0d0887\"], [0.1111111111111111, \"#46039f\"], [0.2222222222222222, \"#7201a8\"], [0.3333333333333333, \"#9c179e\"], [0.4444444444444444, \"#bd3786\"], [0.5555555555555556, \"#d8576b\"], [0.6666666666666666, \"#ed7953\"], [0.7777777777777778, \"#fb9f3a\"], [0.8888888888888888, \"#fdca26\"], [1.0, \"#f0f921\"]]}, \"colorway\": [\"#636efa\", \"#EF553B\", \"#00cc96\", \"#ab63fa\", \"#FFA15A\", \"#19d3f3\", \"#FF6692\", \"#B6E880\", \"#FF97FF\", \"#FECB52\"], \"font\": {\"color\": \"#2a3f5f\"}, \"geo\": {\"bgcolor\": \"white\", \"lakecolor\": \"white\", \"landcolor\": \"#E5ECF6\", \"showlakes\": true, \"showland\": true, \"subunitcolor\": \"white\"}, \"hoverlabel\": {\"align\": \"left\"}, \"hovermode\": \"closest\", \"mapbox\": {\"style\": \"light\"}, \"paper_bgcolor\": \"white\", \"plot_bgcolor\": \"#E5ECF6\", \"polar\": {\"angularaxis\": {\"gridcolor\": \"white\", \"linecolor\": \"white\", \"ticks\": \"\"}, \"bgcolor\": \"#E5ECF6\", \"radialaxis\": {\"gridcolor\": \"white\", \"linecolor\": \"white\", \"ticks\": \"\"}}, \"scene\": {\"xaxis\": {\"backgroundcolor\": \"#E5ECF6\", \"gridcolor\": \"white\", \"gridwidth\": 2, \"linecolor\": \"white\", \"showbackground\": true, \"ticks\": \"\", \"zerolinecolor\": \"white\"}, \"yaxis\": {\"backgroundcolor\": \"#E5ECF6\", \"gridcolor\": \"white\", \"gridwidth\": 2, \"linecolor\": \"white\", \"showbackground\": true, \"ticks\": \"\", \"zerolinecolor\": \"white\"}, \"zaxis\": {\"backgroundcolor\": \"#E5ECF6\", \"gridcolor\": \"white\", \"gridwidth\": 2, \"linecolor\": \"white\", \"showbackground\": true, \"ticks\": \"\", \"zerolinecolor\": \"white\"}}, \"shapedefaults\": {\"line\": {\"color\": \"#2a3f5f\"}}, \"ternary\": {\"aaxis\": {\"gridcolor\": \"white\", \"linecolor\": \"white\", \"ticks\": \"\"}, \"baxis\": {\"gridcolor\": \"white\", \"linecolor\": \"white\", \"ticks\": \"\"}, \"bgcolor\": \"#E5ECF6\", \"caxis\": {\"gridcolor\": \"white\", \"linecolor\": \"white\", \"ticks\": \"\"}}, \"title\": {\"x\": 0.05}, \"xaxis\": {\"automargin\": true, \"gridcolor\": \"white\", \"linecolor\": \"white\", \"ticks\": \"\", \"title\": {\"standoff\": 15}, \"zerolinecolor\": \"white\", \"zerolinewidth\": 2}, \"yaxis\": {\"automargin\": true, \"gridcolor\": \"white\", \"linecolor\": \"white\", \"ticks\": \"\", \"title\": {\"standoff\": 15}, \"zerolinecolor\": \"white\", \"zerolinewidth\": 2}}}, \"title\": {\"text\": \"Per Capita Income(In USD)\"}, \"xaxis\": {\"anchor\": \"y\", \"domain\": [0.0, 1.0], \"title\": {\"text\": \"Per Capita Income(In USD)\"}}, \"yaxis\": {\"anchor\": \"x\", \"domain\": [0.0, 1.0], \"title\": {\"text\": \"count\"}}},\n",
              "                        {\"responsive\": true}\n",
              "                    ).then(function(){\n",
              "                            \n",
              "var gd = document.getElementById('75985605-9456-4f6c-8b9e-0aa4a3b239e2');\n",
              "var x = new MutationObserver(function (mutations, observer) {{\n",
              "        var display = window.getComputedStyle(gd).display;\n",
              "        if (!display || display === 'none') {{\n",
              "            console.log([gd, 'removed!']);\n",
              "            Plotly.purge(gd);\n",
              "            observer.disconnect();\n",
              "        }}\n",
              "}});\n",
              "\n",
              "// Listen for the removal of the full notebook cells\n",
              "var notebookContainer = gd.closest('#notebook-container');\n",
              "if (notebookContainer) {{\n",
              "    x.observe(notebookContainer, {childList: true});\n",
              "}}\n",
              "\n",
              "// Listen for the clearing of the current output cell\n",
              "var outputEl = gd.closest('.output');\n",
              "if (outputEl) {{\n",
              "    x.observe(outputEl, {childList: true});\n",
              "}}\n",
              "\n",
              "                        })\n",
              "                };\n",
              "                \n",
              "            </script>\n",
              "        </div>\n",
              "</body>\n",
              "</html>"
            ]
          },
          "metadata": {
            "tags": []
          }
        },
        {
          "output_type": "display_data",
          "data": {
            "text/html": [
              "<html>\n",
              "<head><meta charset=\"utf-8\" /></head>\n",
              "<body>\n",
              "    <div>\n",
              "            <script src=\"https://cdnjs.cloudflare.com/ajax/libs/mathjax/2.7.5/MathJax.js?config=TeX-AMS-MML_SVG\"></script><script type=\"text/javascript\">if (window.MathJax) {MathJax.Hub.Config({SVG: {font: \"STIX-Web\"}});}</script>\n",
              "                <script type=\"text/javascript\">window.PlotlyConfig = {MathJaxConfig: 'local'};</script>\n",
              "        <script src=\"https://cdn.plot.ly/plotly-latest.min.js\"></script>    \n",
              "            <div id=\"5c1a9321-59d5-4f3a-9159-c8c4ef985951\" class=\"plotly-graph-div\" style=\"height:525px; width:100%;\"></div>\n",
              "            <script type=\"text/javascript\">\n",
              "                \n",
              "                    window.PLOTLYENV=window.PLOTLYENV || {};\n",
              "                    \n",
              "                if (document.getElementById(\"5c1a9321-59d5-4f3a-9159-c8c4ef985951\")) {\n",
              "                    Plotly.newPlot(\n",
              "                        '5c1a9321-59d5-4f3a-9159-c8c4ef985951',\n",
              "                        [{\"alignmentgroup\": \"True\", \"bingroup\": \"x\", \"hoverlabel\": {\"namelength\": 0}, \"hovertemplate\": \"Female=%{x}<br>count=%{y}\", \"legendgroup\": \"\", \"marker\": {\"color\": \"#636efa\"}, \"name\": \"\", \"offsetgroup\": \"\", \"orientation\": \"v\", \"showlegend\": false, \"type\": \"histogram\", \"x\": [79.8, 74.7, 75.4, 72.7, 72.0, 70.7, 69.6, 69.5, 68.6, 64.2, 67.9, 67.0, 67.4, 66.4, 64.9, 65.8, 65.9, 65.8, 65.3, 64.5, 64.1, 63.3, 62.8, 61.0, 63.1, 62.8, 60.9, 60.8, 62.2, 61.4, 61.1, 61.5, 60.5, 60.6, 58.6, 59.4, 57.1, 55.8, 57.9, 52.9, 52.9, 56.0, 55.7, 55.2, 49.2, 55.7, 53.7, 52.9, 54.9, 53.5, 53.9, 52.1, 50.5, 52.4, 51.9, 48.7, 45.7, 42.3, 43.9, 42.9, 43.3, 40.1, 45.0, 40.8, 42.6, 40.6, 46.5, 40.7, 36.9, 40.2, 39.2, 33.0, 36.6, 36.6, 32.0], \"xaxis\": \"x\", \"yaxis\": \"y\"}],\n",
              "                        {\"barmode\": \"relative\", \"legend\": {\"tracegroupgap\": 0}, \"template\": {\"data\": {\"bar\": [{\"error_x\": {\"color\": \"#2a3f5f\"}, \"error_y\": {\"color\": \"#2a3f5f\"}, \"marker\": {\"line\": {\"color\": \"#E5ECF6\", \"width\": 0.5}}, \"type\": \"bar\"}], \"barpolar\": [{\"marker\": {\"line\": {\"color\": \"#E5ECF6\", \"width\": 0.5}}, \"type\": \"barpolar\"}], \"carpet\": [{\"aaxis\": {\"endlinecolor\": \"#2a3f5f\", \"gridcolor\": \"white\", \"linecolor\": \"white\", \"minorgridcolor\": \"white\", \"startlinecolor\": \"#2a3f5f\"}, \"baxis\": {\"endlinecolor\": \"#2a3f5f\", \"gridcolor\": \"white\", \"linecolor\": \"white\", \"minorgridcolor\": \"white\", \"startlinecolor\": \"#2a3f5f\"}, \"type\": \"carpet\"}], \"choropleth\": [{\"colorbar\": {\"outlinewidth\": 0, \"ticks\": \"\"}, \"type\": \"choropleth\"}], \"contour\": [{\"colorbar\": {\"outlinewidth\": 0, \"ticks\": \"\"}, \"colorscale\": [[0.0, \"#0d0887\"], [0.1111111111111111, \"#46039f\"], [0.2222222222222222, \"#7201a8\"], [0.3333333333333333, \"#9c179e\"], [0.4444444444444444, \"#bd3786\"], [0.5555555555555556, \"#d8576b\"], [0.6666666666666666, \"#ed7953\"], [0.7777777777777778, \"#fb9f3a\"], [0.8888888888888888, \"#fdca26\"], [1.0, \"#f0f921\"]], \"type\": \"contour\"}], \"contourcarpet\": [{\"colorbar\": {\"outlinewidth\": 0, \"ticks\": \"\"}, \"type\": \"contourcarpet\"}], \"heatmap\": [{\"colorbar\": {\"outlinewidth\": 0, \"ticks\": \"\"}, \"colorscale\": [[0.0, \"#0d0887\"], [0.1111111111111111, \"#46039f\"], [0.2222222222222222, \"#7201a8\"], [0.3333333333333333, \"#9c179e\"], [0.4444444444444444, \"#bd3786\"], [0.5555555555555556, \"#d8576b\"], [0.6666666666666666, \"#ed7953\"], [0.7777777777777778, \"#fb9f3a\"], [0.8888888888888888, \"#fdca26\"], [1.0, \"#f0f921\"]], \"type\": \"heatmap\"}], \"heatmapgl\": [{\"colorbar\": {\"outlinewidth\": 0, \"ticks\": \"\"}, \"colorscale\": [[0.0, \"#0d0887\"], [0.1111111111111111, \"#46039f\"], [0.2222222222222222, \"#7201a8\"], [0.3333333333333333, \"#9c179e\"], [0.4444444444444444, \"#bd3786\"], [0.5555555555555556, \"#d8576b\"], [0.6666666666666666, \"#ed7953\"], [0.7777777777777778, \"#fb9f3a\"], [0.8888888888888888, \"#fdca26\"], [1.0, \"#f0f921\"]], \"type\": \"heatmapgl\"}], \"histogram\": [{\"marker\": {\"colorbar\": {\"outlinewidth\": 0, \"ticks\": \"\"}}, \"type\": \"histogram\"}], \"histogram2d\": [{\"colorbar\": {\"outlinewidth\": 0, \"ticks\": \"\"}, \"colorscale\": [[0.0, \"#0d0887\"], [0.1111111111111111, \"#46039f\"], [0.2222222222222222, \"#7201a8\"], [0.3333333333333333, \"#9c179e\"], [0.4444444444444444, \"#bd3786\"], [0.5555555555555556, \"#d8576b\"], [0.6666666666666666, \"#ed7953\"], [0.7777777777777778, \"#fb9f3a\"], [0.8888888888888888, \"#fdca26\"], [1.0, \"#f0f921\"]], \"type\": \"histogram2d\"}], \"histogram2dcontour\": [{\"colorbar\": {\"outlinewidth\": 0, \"ticks\": \"\"}, \"colorscale\": [[0.0, \"#0d0887\"], [0.1111111111111111, \"#46039f\"], [0.2222222222222222, \"#7201a8\"], [0.3333333333333333, \"#9c179e\"], [0.4444444444444444, \"#bd3786\"], [0.5555555555555556, \"#d8576b\"], [0.6666666666666666, \"#ed7953\"], [0.7777777777777778, \"#fb9f3a\"], [0.8888888888888888, \"#fdca26\"], [1.0, \"#f0f921\"]], \"type\": \"histogram2dcontour\"}], \"mesh3d\": [{\"colorbar\": {\"outlinewidth\": 0, \"ticks\": \"\"}, \"type\": \"mesh3d\"}], \"parcoords\": [{\"line\": {\"colorbar\": {\"outlinewidth\": 0, \"ticks\": \"\"}}, \"type\": \"parcoords\"}], \"pie\": [{\"automargin\": true, \"type\": \"pie\"}], \"scatter\": [{\"marker\": {\"colorbar\": {\"outlinewidth\": 0, \"ticks\": \"\"}}, \"type\": \"scatter\"}], \"scatter3d\": [{\"line\": {\"colorbar\": {\"outlinewidth\": 0, \"ticks\": \"\"}}, \"marker\": {\"colorbar\": {\"outlinewidth\": 0, \"ticks\": \"\"}}, \"type\": \"scatter3d\"}], \"scattercarpet\": [{\"marker\": {\"colorbar\": {\"outlinewidth\": 0, \"ticks\": \"\"}}, \"type\": \"scattercarpet\"}], \"scattergeo\": [{\"marker\": {\"colorbar\": {\"outlinewidth\": 0, \"ticks\": \"\"}}, \"type\": \"scattergeo\"}], \"scattergl\": [{\"marker\": {\"colorbar\": {\"outlinewidth\": 0, \"ticks\": \"\"}}, \"type\": \"scattergl\"}], \"scattermapbox\": [{\"marker\": {\"colorbar\": {\"outlinewidth\": 0, \"ticks\": \"\"}}, \"type\": \"scattermapbox\"}], \"scatterpolar\": [{\"marker\": {\"colorbar\": {\"outlinewidth\": 0, \"ticks\": \"\"}}, \"type\": \"scatterpolar\"}], \"scatterpolargl\": [{\"marker\": {\"colorbar\": {\"outlinewidth\": 0, \"ticks\": \"\"}}, \"type\": \"scatterpolargl\"}], \"scatterternary\": [{\"marker\": {\"colorbar\": {\"outlinewidth\": 0, \"ticks\": \"\"}}, \"type\": \"scatterternary\"}], \"surface\": [{\"colorbar\": {\"outlinewidth\": 0, \"ticks\": \"\"}, \"colorscale\": [[0.0, \"#0d0887\"], [0.1111111111111111, \"#46039f\"], [0.2222222222222222, \"#7201a8\"], [0.3333333333333333, \"#9c179e\"], [0.4444444444444444, \"#bd3786\"], [0.5555555555555556, \"#d8576b\"], [0.6666666666666666, \"#ed7953\"], [0.7777777777777778, \"#fb9f3a\"], [0.8888888888888888, \"#fdca26\"], [1.0, \"#f0f921\"]], \"type\": \"surface\"}], \"table\": [{\"cells\": {\"fill\": {\"color\": \"#EBF0F8\"}, \"line\": {\"color\": \"white\"}}, \"header\": {\"fill\": {\"color\": \"#C8D4E3\"}, \"line\": {\"color\": \"white\"}}, \"type\": \"table\"}]}, \"layout\": {\"annotationdefaults\": {\"arrowcolor\": \"#2a3f5f\", \"arrowhead\": 0, \"arrowwidth\": 1}, \"coloraxis\": {\"colorbar\": {\"outlinewidth\": 0, \"ticks\": \"\"}}, \"colorscale\": {\"diverging\": [[0, \"#8e0152\"], [0.1, \"#c51b7d\"], [0.2, \"#de77ae\"], [0.3, \"#f1b6da\"], [0.4, \"#fde0ef\"], [0.5, \"#f7f7f7\"], [0.6, \"#e6f5d0\"], [0.7, \"#b8e186\"], [0.8, \"#7fbc41\"], [0.9, \"#4d9221\"], [1, \"#276419\"]], \"sequential\": [[0.0, \"#0d0887\"], [0.1111111111111111, \"#46039f\"], [0.2222222222222222, \"#7201a8\"], [0.3333333333333333, \"#9c179e\"], [0.4444444444444444, \"#bd3786\"], [0.5555555555555556, \"#d8576b\"], [0.6666666666666666, \"#ed7953\"], [0.7777777777777778, \"#fb9f3a\"], [0.8888888888888888, \"#fdca26\"], [1.0, \"#f0f921\"]], \"sequentialminus\": [[0.0, \"#0d0887\"], [0.1111111111111111, \"#46039f\"], [0.2222222222222222, \"#7201a8\"], [0.3333333333333333, \"#9c179e\"], [0.4444444444444444, \"#bd3786\"], [0.5555555555555556, \"#d8576b\"], [0.6666666666666666, \"#ed7953\"], [0.7777777777777778, \"#fb9f3a\"], [0.8888888888888888, \"#fdca26\"], [1.0, \"#f0f921\"]]}, \"colorway\": [\"#636efa\", \"#EF553B\", \"#00cc96\", \"#ab63fa\", \"#FFA15A\", \"#19d3f3\", \"#FF6692\", \"#B6E880\", \"#FF97FF\", \"#FECB52\"], \"font\": {\"color\": \"#2a3f5f\"}, \"geo\": {\"bgcolor\": \"white\", \"lakecolor\": \"white\", \"landcolor\": \"#E5ECF6\", \"showlakes\": true, \"showland\": true, \"subunitcolor\": \"white\"}, \"hoverlabel\": {\"align\": \"left\"}, \"hovermode\": \"closest\", \"mapbox\": {\"style\": \"light\"}, \"paper_bgcolor\": \"white\", \"plot_bgcolor\": \"#E5ECF6\", \"polar\": {\"angularaxis\": {\"gridcolor\": \"white\", \"linecolor\": \"white\", \"ticks\": \"\"}, \"bgcolor\": \"#E5ECF6\", \"radialaxis\": {\"gridcolor\": \"white\", \"linecolor\": \"white\", \"ticks\": \"\"}}, \"scene\": {\"xaxis\": {\"backgroundcolor\": \"#E5ECF6\", \"gridcolor\": \"white\", \"gridwidth\": 2, \"linecolor\": \"white\", \"showbackground\": true, \"ticks\": \"\", \"zerolinecolor\": \"white\"}, \"yaxis\": {\"backgroundcolor\": \"#E5ECF6\", \"gridcolor\": \"white\", \"gridwidth\": 2, \"linecolor\": \"white\", \"showbackground\": true, \"ticks\": \"\", \"zerolinecolor\": \"white\"}, \"zaxis\": {\"backgroundcolor\": \"#E5ECF6\", \"gridcolor\": \"white\", \"gridwidth\": 2, \"linecolor\": \"white\", \"showbackground\": true, \"ticks\": \"\", \"zerolinecolor\": \"white\"}}, \"shapedefaults\": {\"line\": {\"color\": \"#2a3f5f\"}}, \"ternary\": {\"aaxis\": {\"gridcolor\": \"white\", \"linecolor\": \"white\", \"ticks\": \"\"}, \"baxis\": {\"gridcolor\": \"white\", \"linecolor\": \"white\", \"ticks\": \"\"}, \"bgcolor\": \"#E5ECF6\", \"caxis\": {\"gridcolor\": \"white\", \"linecolor\": \"white\", \"ticks\": \"\"}}, \"title\": {\"x\": 0.05}, \"xaxis\": {\"automargin\": true, \"gridcolor\": \"white\", \"linecolor\": \"white\", \"ticks\": \"\", \"title\": {\"standoff\": 15}, \"zerolinecolor\": \"white\", \"zerolinewidth\": 2}, \"yaxis\": {\"automargin\": true, \"gridcolor\": \"white\", \"linecolor\": \"white\", \"ticks\": \"\", \"title\": {\"standoff\": 15}, \"zerolinecolor\": \"white\", \"zerolinewidth\": 2}}}, \"title\": {\"text\": \"Female\"}, \"xaxis\": {\"anchor\": \"y\", \"domain\": [0.0, 1.0], \"title\": {\"text\": \"Female\"}}, \"yaxis\": {\"anchor\": \"x\", \"domain\": [0.0, 1.0], \"title\": {\"text\": \"count\"}}},\n",
              "                        {\"responsive\": true}\n",
              "                    ).then(function(){\n",
              "                            \n",
              "var gd = document.getElementById('5c1a9321-59d5-4f3a-9159-c8c4ef985951');\n",
              "var x = new MutationObserver(function (mutations, observer) {{\n",
              "        var display = window.getComputedStyle(gd).display;\n",
              "        if (!display || display === 'none') {{\n",
              "            console.log([gd, 'removed!']);\n",
              "            Plotly.purge(gd);\n",
              "            observer.disconnect();\n",
              "        }}\n",
              "}});\n",
              "\n",
              "// Listen for the removal of the full notebook cells\n",
              "var notebookContainer = gd.closest('#notebook-container');\n",
              "if (notebookContainer) {{\n",
              "    x.observe(notebookContainer, {childList: true});\n",
              "}}\n",
              "\n",
              "// Listen for the clearing of the current output cell\n",
              "var outputEl = gd.closest('.output');\n",
              "if (outputEl) {{\n",
              "    x.observe(outputEl, {childList: true});\n",
              "}}\n",
              "\n",
              "                        })\n",
              "                };\n",
              "                \n",
              "            </script>\n",
              "        </div>\n",
              "</body>\n",
              "</html>"
            ]
          },
          "metadata": {
            "tags": []
          }
        },
        {
          "output_type": "display_data",
          "data": {
            "text/html": [
              "<html>\n",
              "<head><meta charset=\"utf-8\" /></head>\n",
              "<body>\n",
              "    <div>\n",
              "            <script src=\"https://cdnjs.cloudflare.com/ajax/libs/mathjax/2.7.5/MathJax.js?config=TeX-AMS-MML_SVG\"></script><script type=\"text/javascript\">if (window.MathJax) {MathJax.Hub.Config({SVG: {font: \"STIX-Web\"}});}</script>\n",
              "                <script type=\"text/javascript\">window.PlotlyConfig = {MathJaxConfig: 'local'};</script>\n",
              "        <script src=\"https://cdn.plot.ly/plotly-latest.min.js\"></script>    \n",
              "            <div id=\"77fa4ba0-2294-45bb-9f8b-f5cfc0be20d9\" class=\"plotly-graph-div\" style=\"height:525px; width:100%;\"></div>\n",
              "            <script type=\"text/javascript\">\n",
              "                \n",
              "                    window.PLOTLYENV=window.PLOTLYENV || {};\n",
              "                    \n",
              "                if (document.getElementById(\"77fa4ba0-2294-45bb-9f8b-f5cfc0be20d9\")) {\n",
              "                    Plotly.newPlot(\n",
              "                        '77fa4ba0-2294-45bb-9f8b-f5cfc0be20d9',\n",
              "                        [{\"alignmentgroup\": \"True\", \"bingroup\": \"x\", \"hoverlabel\": {\"namelength\": 0}, \"hovertemplate\": \"Male=%{x}<br>count=%{y}\", \"legendgroup\": \"\", \"marker\": {\"color\": \"#636efa\"}, \"name\": \"\", \"offsetgroup\": \"\", \"orientation\": \"v\", \"showlegend\": false, \"type\": \"histogram\", \"x\": [92.2, 90.1, 90.1, 90.5, 84.2, 83.9, 86.1, 84.9, 82.3, 83.0, 83.7, 83.5, 82.4, 83.4, 82.0, 81.8, 81.6, 80.3, 80.6, 81.1, 79.3, 80.7, 79.9, 81.3, 78.7, 78.9, 79.6, 79.2, 77.5, 78.4, 77.7, 77.2, 77.0, 75.4, 78.2, 75.1, 76.2, 75.4, 73.5, 79.3, 79.7, 74.3, 73.4, 73.9, 79.0, 71.1, 73.3, 72.8, 70.0, 72.6, 71.2, 69.8, 71.5, 68.0, 68.0, 65.9, 67.9, 73.4, 66.9, 70.7, 68.8, 73.0, 64.9, 68.2, 67.0, 67.9, 60.9, 62.8, 65.2, 60.6, 61.9, 62.1, 56.6, 55.8, 50.9], \"xaxis\": \"x\", \"yaxis\": \"y\"}],\n",
              "                        {\"barmode\": \"relative\", \"legend\": {\"tracegroupgap\": 0}, \"template\": {\"data\": {\"bar\": [{\"error_x\": {\"color\": \"#2a3f5f\"}, \"error_y\": {\"color\": \"#2a3f5f\"}, \"marker\": {\"line\": {\"color\": \"#E5ECF6\", \"width\": 0.5}}, \"type\": \"bar\"}], \"barpolar\": [{\"marker\": {\"line\": {\"color\": \"#E5ECF6\", \"width\": 0.5}}, \"type\": \"barpolar\"}], \"carpet\": [{\"aaxis\": {\"endlinecolor\": \"#2a3f5f\", \"gridcolor\": \"white\", \"linecolor\": \"white\", \"minorgridcolor\": \"white\", \"startlinecolor\": \"#2a3f5f\"}, \"baxis\": {\"endlinecolor\": \"#2a3f5f\", \"gridcolor\": \"white\", \"linecolor\": \"white\", \"minorgridcolor\": \"white\", \"startlinecolor\": \"#2a3f5f\"}, \"type\": \"carpet\"}], \"choropleth\": [{\"colorbar\": {\"outlinewidth\": 0, \"ticks\": \"\"}, \"type\": \"choropleth\"}], \"contour\": [{\"colorbar\": {\"outlinewidth\": 0, \"ticks\": \"\"}, \"colorscale\": [[0.0, \"#0d0887\"], [0.1111111111111111, \"#46039f\"], [0.2222222222222222, \"#7201a8\"], [0.3333333333333333, \"#9c179e\"], [0.4444444444444444, \"#bd3786\"], [0.5555555555555556, \"#d8576b\"], [0.6666666666666666, \"#ed7953\"], [0.7777777777777778, \"#fb9f3a\"], [0.8888888888888888, \"#fdca26\"], [1.0, \"#f0f921\"]], \"type\": \"contour\"}], \"contourcarpet\": [{\"colorbar\": {\"outlinewidth\": 0, \"ticks\": \"\"}, \"type\": \"contourcarpet\"}], \"heatmap\": [{\"colorbar\": {\"outlinewidth\": 0, \"ticks\": \"\"}, \"colorscale\": [[0.0, \"#0d0887\"], [0.1111111111111111, \"#46039f\"], [0.2222222222222222, \"#7201a8\"], [0.3333333333333333, \"#9c179e\"], [0.4444444444444444, \"#bd3786\"], [0.5555555555555556, \"#d8576b\"], [0.6666666666666666, \"#ed7953\"], [0.7777777777777778, \"#fb9f3a\"], [0.8888888888888888, \"#fdca26\"], [1.0, \"#f0f921\"]], \"type\": \"heatmap\"}], \"heatmapgl\": [{\"colorbar\": {\"outlinewidth\": 0, \"ticks\": \"\"}, \"colorscale\": [[0.0, \"#0d0887\"], [0.1111111111111111, \"#46039f\"], [0.2222222222222222, \"#7201a8\"], [0.3333333333333333, \"#9c179e\"], [0.4444444444444444, \"#bd3786\"], [0.5555555555555556, \"#d8576b\"], [0.6666666666666666, \"#ed7953\"], [0.7777777777777778, \"#fb9f3a\"], [0.8888888888888888, \"#fdca26\"], [1.0, \"#f0f921\"]], \"type\": \"heatmapgl\"}], \"histogram\": [{\"marker\": {\"colorbar\": {\"outlinewidth\": 0, \"ticks\": \"\"}}, \"type\": \"histogram\"}], \"histogram2d\": [{\"colorbar\": {\"outlinewidth\": 0, \"ticks\": \"\"}, \"colorscale\": [[0.0, \"#0d0887\"], [0.1111111111111111, \"#46039f\"], [0.2222222222222222, \"#7201a8\"], [0.3333333333333333, \"#9c179e\"], [0.4444444444444444, \"#bd3786\"], [0.5555555555555556, \"#d8576b\"], [0.6666666666666666, \"#ed7953\"], [0.7777777777777778, \"#fb9f3a\"], [0.8888888888888888, \"#fdca26\"], [1.0, \"#f0f921\"]], \"type\": \"histogram2d\"}], \"histogram2dcontour\": [{\"colorbar\": {\"outlinewidth\": 0, \"ticks\": \"\"}, \"colorscale\": [[0.0, \"#0d0887\"], [0.1111111111111111, \"#46039f\"], [0.2222222222222222, \"#7201a8\"], [0.3333333333333333, \"#9c179e\"], [0.4444444444444444, \"#bd3786\"], [0.5555555555555556, \"#d8576b\"], [0.6666666666666666, \"#ed7953\"], [0.7777777777777778, \"#fb9f3a\"], [0.8888888888888888, \"#fdca26\"], [1.0, \"#f0f921\"]], \"type\": \"histogram2dcontour\"}], \"mesh3d\": [{\"colorbar\": {\"outlinewidth\": 0, \"ticks\": \"\"}, \"type\": \"mesh3d\"}], \"parcoords\": [{\"line\": {\"colorbar\": {\"outlinewidth\": 0, \"ticks\": \"\"}}, \"type\": \"parcoords\"}], \"pie\": [{\"automargin\": true, \"type\": \"pie\"}], \"scatter\": [{\"marker\": {\"colorbar\": {\"outlinewidth\": 0, \"ticks\": \"\"}}, \"type\": \"scatter\"}], \"scatter3d\": [{\"line\": {\"colorbar\": {\"outlinewidth\": 0, \"ticks\": \"\"}}, \"marker\": {\"colorbar\": {\"outlinewidth\": 0, \"ticks\": \"\"}}, \"type\": \"scatter3d\"}], \"scattercarpet\": [{\"marker\": {\"colorbar\": {\"outlinewidth\": 0, \"ticks\": \"\"}}, \"type\": \"scattercarpet\"}], \"scattergeo\": [{\"marker\": {\"colorbar\": {\"outlinewidth\": 0, \"ticks\": \"\"}}, \"type\": \"scattergeo\"}], \"scattergl\": [{\"marker\": {\"colorbar\": {\"outlinewidth\": 0, \"ticks\": \"\"}}, \"type\": \"scattergl\"}], \"scattermapbox\": [{\"marker\": {\"colorbar\": {\"outlinewidth\": 0, \"ticks\": \"\"}}, \"type\": \"scattermapbox\"}], \"scatterpolar\": [{\"marker\": {\"colorbar\": {\"outlinewidth\": 0, \"ticks\": \"\"}}, \"type\": \"scatterpolar\"}], \"scatterpolargl\": [{\"marker\": {\"colorbar\": {\"outlinewidth\": 0, \"ticks\": \"\"}}, \"type\": \"scatterpolargl\"}], \"scatterternary\": [{\"marker\": {\"colorbar\": {\"outlinewidth\": 0, \"ticks\": \"\"}}, \"type\": \"scatterternary\"}], \"surface\": [{\"colorbar\": {\"outlinewidth\": 0, \"ticks\": \"\"}, \"colorscale\": [[0.0, \"#0d0887\"], [0.1111111111111111, \"#46039f\"], [0.2222222222222222, \"#7201a8\"], [0.3333333333333333, \"#9c179e\"], [0.4444444444444444, \"#bd3786\"], [0.5555555555555556, \"#d8576b\"], [0.6666666666666666, \"#ed7953\"], [0.7777777777777778, \"#fb9f3a\"], [0.8888888888888888, \"#fdca26\"], [1.0, \"#f0f921\"]], \"type\": \"surface\"}], \"table\": [{\"cells\": {\"fill\": {\"color\": \"#EBF0F8\"}, \"line\": {\"color\": \"white\"}}, \"header\": {\"fill\": {\"color\": \"#C8D4E3\"}, \"line\": {\"color\": \"white\"}}, \"type\": \"table\"}]}, \"layout\": {\"annotationdefaults\": {\"arrowcolor\": \"#2a3f5f\", \"arrowhead\": 0, \"arrowwidth\": 1}, \"coloraxis\": {\"colorbar\": {\"outlinewidth\": 0, \"ticks\": \"\"}}, \"colorscale\": {\"diverging\": [[0, \"#8e0152\"], [0.1, \"#c51b7d\"], [0.2, \"#de77ae\"], [0.3, \"#f1b6da\"], [0.4, \"#fde0ef\"], [0.5, \"#f7f7f7\"], [0.6, \"#e6f5d0\"], [0.7, \"#b8e186\"], [0.8, \"#7fbc41\"], [0.9, \"#4d9221\"], [1, \"#276419\"]], \"sequential\": [[0.0, \"#0d0887\"], [0.1111111111111111, \"#46039f\"], [0.2222222222222222, \"#7201a8\"], [0.3333333333333333, \"#9c179e\"], [0.4444444444444444, \"#bd3786\"], [0.5555555555555556, \"#d8576b\"], [0.6666666666666666, \"#ed7953\"], [0.7777777777777778, \"#fb9f3a\"], [0.8888888888888888, \"#fdca26\"], [1.0, \"#f0f921\"]], \"sequentialminus\": [[0.0, \"#0d0887\"], [0.1111111111111111, \"#46039f\"], [0.2222222222222222, \"#7201a8\"], [0.3333333333333333, \"#9c179e\"], [0.4444444444444444, \"#bd3786\"], [0.5555555555555556, \"#d8576b\"], [0.6666666666666666, \"#ed7953\"], [0.7777777777777778, \"#fb9f3a\"], [0.8888888888888888, \"#fdca26\"], [1.0, \"#f0f921\"]]}, \"colorway\": [\"#636efa\", \"#EF553B\", \"#00cc96\", \"#ab63fa\", \"#FFA15A\", \"#19d3f3\", \"#FF6692\", \"#B6E880\", \"#FF97FF\", \"#FECB52\"], \"font\": {\"color\": \"#2a3f5f\"}, \"geo\": {\"bgcolor\": \"white\", \"lakecolor\": \"white\", \"landcolor\": \"#E5ECF6\", \"showlakes\": true, \"showland\": true, \"subunitcolor\": \"white\"}, \"hoverlabel\": {\"align\": \"left\"}, \"hovermode\": \"closest\", \"mapbox\": {\"style\": \"light\"}, \"paper_bgcolor\": \"white\", \"plot_bgcolor\": \"#E5ECF6\", \"polar\": {\"angularaxis\": {\"gridcolor\": \"white\", \"linecolor\": \"white\", \"ticks\": \"\"}, \"bgcolor\": \"#E5ECF6\", \"radialaxis\": {\"gridcolor\": \"white\", \"linecolor\": \"white\", \"ticks\": \"\"}}, \"scene\": {\"xaxis\": {\"backgroundcolor\": \"#E5ECF6\", \"gridcolor\": \"white\", \"gridwidth\": 2, \"linecolor\": \"white\", \"showbackground\": true, \"ticks\": \"\", \"zerolinecolor\": \"white\"}, \"yaxis\": {\"backgroundcolor\": \"#E5ECF6\", \"gridcolor\": \"white\", \"gridwidth\": 2, \"linecolor\": \"white\", \"showbackground\": true, \"ticks\": \"\", \"zerolinecolor\": \"white\"}, \"zaxis\": {\"backgroundcolor\": \"#E5ECF6\", \"gridcolor\": \"white\", \"gridwidth\": 2, \"linecolor\": \"white\", \"showbackground\": true, \"ticks\": \"\", \"zerolinecolor\": \"white\"}}, \"shapedefaults\": {\"line\": {\"color\": \"#2a3f5f\"}}, \"ternary\": {\"aaxis\": {\"gridcolor\": \"white\", \"linecolor\": \"white\", \"ticks\": \"\"}, \"baxis\": {\"gridcolor\": \"white\", \"linecolor\": \"white\", \"ticks\": \"\"}, \"bgcolor\": \"#E5ECF6\", \"caxis\": {\"gridcolor\": \"white\", \"linecolor\": \"white\", \"ticks\": \"\"}}, \"title\": {\"x\": 0.05}, \"xaxis\": {\"automargin\": true, \"gridcolor\": \"white\", \"linecolor\": \"white\", \"ticks\": \"\", \"title\": {\"standoff\": 15}, \"zerolinecolor\": \"white\", \"zerolinewidth\": 2}, \"yaxis\": {\"automargin\": true, \"gridcolor\": \"white\", \"linecolor\": \"white\", \"ticks\": \"\", \"title\": {\"standoff\": 15}, \"zerolinecolor\": \"white\", \"zerolinewidth\": 2}}}, \"title\": {\"text\": \"Male\"}, \"xaxis\": {\"anchor\": \"y\", \"domain\": [0.0, 1.0], \"title\": {\"text\": \"Male\"}}, \"yaxis\": {\"anchor\": \"x\", \"domain\": [0.0, 1.0], \"title\": {\"text\": \"count\"}}},\n",
              "                        {\"responsive\": true}\n",
              "                    ).then(function(){\n",
              "                            \n",
              "var gd = document.getElementById('77fa4ba0-2294-45bb-9f8b-f5cfc0be20d9');\n",
              "var x = new MutationObserver(function (mutations, observer) {{\n",
              "        var display = window.getComputedStyle(gd).display;\n",
              "        if (!display || display === 'none') {{\n",
              "            console.log([gd, 'removed!']);\n",
              "            Plotly.purge(gd);\n",
              "            observer.disconnect();\n",
              "        }}\n",
              "}});\n",
              "\n",
              "// Listen for the removal of the full notebook cells\n",
              "var notebookContainer = gd.closest('#notebook-container');\n",
              "if (notebookContainer) {{\n",
              "    x.observe(notebookContainer, {childList: true});\n",
              "}}\n",
              "\n",
              "// Listen for the clearing of the current output cell\n",
              "var outputEl = gd.closest('.output');\n",
              "if (outputEl) {{\n",
              "    x.observe(outputEl, {childList: true});\n",
              "}}\n",
              "\n",
              "                        })\n",
              "                };\n",
              "                \n",
              "            </script>\n",
              "        </div>\n",
              "</body>\n",
              "</html>"
            ]
          },
          "metadata": {
            "tags": []
          }
        }
      ]
    },
    {
      "cell_type": "code",
      "metadata": {
        "id": "IkPOkYpl5mZE",
        "colab_type": "code",
        "outputId": "5e985829-3905-48f6-ad2c-91e6f019fcc5",
        "colab": {
          "base_uri": "https://localhost:8080/",
          "height": 312
        }
      },
      "source": [
        "sns.distplot(lite_df['Male'],hist=True, label=\"Male\")\n",
        "sns.distplot(lite_df['Female'],hist=True, label=\"Female\")\n",
        "plt.legend()\n",
        "plt.ylabel(\"Distribution\")\n",
        "plt.xlabel(\"Literacy Value\")\n",
        "plt.title('Literacy Distribution Plot ')"
      ],
      "execution_count": 60,
      "outputs": [
        {
          "output_type": "execute_result",
          "data": {
            "text/plain": [
              "Text(0.5, 1.0, 'Literacy Distribution Plot ')"
            ]
          },
          "metadata": {
            "tags": []
          },
          "execution_count": 60
        },
        {
          "output_type": "display_data",
          "data": {
            "image/png": "[encoded data removed]",
            "text/plain": [
              "<Figure size 432x288 with 1 Axes>"
            ]
          },
          "metadata": {
            "tags": [],
            "needs_background": "light"
          }
        }
      ]
    },
    {
      "cell_type": "markdown",
      "metadata": {
        "id": "1hZYmKQ50jcN",
        "colab_type": "text"
      },
      "source": [
        "Joint Plot"
      ]
    },
    {
      "cell_type": "code",
      "metadata": {
        "id": "YTekw27v0gKq",
        "colab_type": "code",
        "outputId": "13683711-5839-4d6e-d024-c82e05aa1768",
        "colab": {
          "base_uri": "https://localhost:8080/",
          "height": 476
        }
      },
      "source": [
        "sns.jointplot(x=lite_df['Male'],y=lite_df['Female'],kind=\"kde\")\n",
        "plt.legend()\n",
        "# plt.title('Density Distribution Chart Male Female')"
      ],
      "execution_count": 61,
      "outputs": [
        {
          "output_type": "stream",
          "text": [
            "No handles with labels found to put in legend.\n"
          ],
          "name": "stderr"
        },
        {
          "output_type": "execute_result",
          "data": {
            "text/plain": [
              "<matplotlib.legend.Legend at 0x7f5cf1a1edd8>"
            ]
          },
          "metadata": {
            "tags": []
          },
          "execution_count": 61
        },
        {
          "output_type": "display_data",
          "data": {
            "image/png": "[encoded data removed]",
            "text/plain": [
              "<Figure size 432x432 with 3 Axes>"
            ]
          },
          "metadata": {
            "tags": [],
            "needs_background": "light"
          }
        }
      ]
    },
    {
      "cell_type": "code",
      "metadata": {
        "id": "QMsBH862HQyU",
        "colab_type": "code",
        "colab": {}
      },
      "source": [
        "lite_df['District']=lite_df['District'].str.rstrip()"
      ],
      "execution_count": 0,
      "outputs": []
    },
    {
      "cell_type": "code",
      "metadata": {
        "id": "HQFtuXUwLfof",
        "colab_type": "code",
        "outputId": "f620498f-f32a-420a-b498-2b1bb58cbb39",
        "colab": {
          "base_uri": "https://localhost:8080/",
          "height": 1000
        }
      },
      "source": [
        "lite_df['District']"
      ],
      "execution_count": 63,
      "outputs": [
        {
          "output_type": "execute_result",
          "data": {
            "text/plain": [
              "0          Kathmandu\n",
              "1           Lalitpur\n",
              "2              Kaski\n",
              "3          Bhaktapur\n",
              "4               Ilam\n",
              "5           Chitawan\n",
              "6            Syangja\n",
              "7              Palpa\n",
              "8              Jhapa\n",
              "9             Manang\n",
              "10            Tanahu\n",
              "11         Terhathum\n",
              "12          Dhankuta\n",
              "13            Parbat\n",
              "14           Surkhet\n",
              "15      Arghakhanchi\n",
              "16             Gulmi\n",
              "17         Panchthar\n",
              "18           Baglung\n",
              "19            Myagdi\n",
              "20         Taplejung\n",
              "21           Lamjung\n",
              "22       Nawalparasi\n",
              "23        Kanchanpur\n",
              "24            Morang\n",
              "25              Dang\n",
              "26    Kavrepalanchok\n",
              "27         Rupandehi\n",
              "28     Sankhuwasabha\n",
              "29           Bhojpur\n",
              "30           Khotang\n",
              "31          Udayapur\n",
              "32           Sunsari\n",
              "33         Makwanpur\n",
              "34           Pyuthan\n",
              "35            Gorkha\n",
              "36           Kailali\n",
              "37           Mustang\n",
              "38           Bardiya\n",
              "39          Darchula\n",
              "40        Dadeldhura\n",
              "41       Okhaldhunga\n",
              "42        Solukhumbu\n",
              "43            Salyan\n",
              "44           Baitadi\n",
              "45           Dhading\n",
              "46           Dolakha\n",
              "47           Dailekh\n",
              "48             Banke\n",
              "49         Ramechhap\n",
              "50             Rukum\n",
              "51          Sindhuli\n",
              "52             Rolpa\n",
              "53           Nuwakot\n",
              "54     Sindhupalchok\n",
              "55          Jajarkot\n",
              "56           Kalikot\n",
              "57              Doti\n",
              "58             Parsa\n",
              "59            Achham\n",
              "60            Bajura\n",
              "61           Bajhang\n",
              "62        Kapilbastu\n",
              "63             Jumla\n",
              "64           Saptari\n",
              "65             Dolpa\n",
              "66            Rasuwa\n",
              "67              Bara\n",
              "68              Mugu\n",
              "69           Dhanusa\n",
              "70            Siraha\n",
              "71             Humla\n",
              "72         Mahottari\n",
              "73           Sarlahi\n",
              "74          Rautahat\n",
              "Name: District, dtype: object"
            ]
          },
          "metadata": {
            "tags": []
          },
          "execution_count": 63
        }
      ]
    },
    {
      "cell_type": "code",
      "metadata": {
        "id": "LgzKcYtC7F_N",
        "colab_type": "code",
        "outputId": "e491aad7-ecc4-4fb8-ef5e-c87442794a50",
        "colab": {
          "base_uri": "https://localhost:8080/",
          "height": 34
        }
      },
      "source": [
        "# set(lite_df['District'].unique()).difference(life_df['District'].unique())\n",
        "set(life_df['District'].unique()).difference(lite_df['District'].unique())"
      ],
      "execution_count": 64,
      "outputs": [
        {
          "output_type": "execute_result",
          "data": {
            "text/plain": [
              "{'Chitwan', 'Tehrathum'}"
            ]
          },
          "metadata": {
            "tags": []
          },
          "execution_count": 64
        }
      ]
    },
    {
      "cell_type": "code",
      "metadata": {
        "id": "MfaF1ZU0XRin",
        "colab_type": "code",
        "colab": {}
      },
      "source": [
        "lite_df['District']=lite_df['District'].map(lambda x: 'Chitwan' if x=='Chitawan' else x)\n",
        "lite_df['District']=lite_df['District'].map(lambda x: 'Tehrathum' if x=='Terhathum' else x)"
      ],
      "execution_count": 0,
      "outputs": []
    },
    {
      "cell_type": "code",
      "metadata": {
        "id": "lAAYxeXCir1G",
        "colab_type": "code",
        "colab": {}
      },
      "source": [
        "lite_df.drop([' Year'],axis=1,inplace=True)"
      ],
      "execution_count": 0,
      "outputs": []
    },
    {
      "cell_type": "code",
      "metadata": {
        "id": "MzRzvIp5Y5N8",
        "colab_type": "code",
        "colab": {}
      },
      "source": [
        "mixed_df = pd.merge(lite_df,life_df,on='District',how='inner')\n",
        "mixed_df.columns=mixed_df.columns.str.strip()"
      ],
      "execution_count": 0,
      "outputs": []
    },
    {
      "cell_type": "code",
      "metadata": {
        "id": "7p7uGrYSZL_A",
        "colab_type": "code",
        "colab": {}
      },
      "source": [
        "# mixed_df.drop([' Year'],inplace=True,axis=1)"
      ],
      "execution_count": 0,
      "outputs": []
    },
    {
      "cell_type": "code",
      "metadata": {
        "id": "_fq7uHsUZMfw",
        "colab_type": "code",
        "outputId": "9fafcda5-b4b0-4e7f-b2b5-04247a08a076",
        "colab": {
          "base_uri": "https://localhost:8080/",
          "height": 69
        }
      },
      "source": [
        "mixed_df.columns"
      ],
      "execution_count": 69,
      "outputs": [
        {
          "output_type": "execute_result",
          "data": {
            "text/plain": [
              "Index(['District', 'Total', 'Female', 'Male', 'Life expectancy(In Years)',\n",
              "       'Per Capita Income(In USD)'],\n",
              "      dtype='object')"
            ]
          },
          "metadata": {
            "tags": []
          },
          "execution_count": 69
        }
      ]
    },
    {
      "cell_type": "code",
      "metadata": {
        "id": "KVvR2IYqWVrX",
        "colab_type": "code",
        "outputId": "b020c73b-b67f-44fc-ebf7-72380188774d",
        "colab": {
          "base_uri": "https://localhost:8080/",
          "height": 865
        }
      },
      "source": [
        "plt.scatter(x='Male',y='Female',data=lite_df)\n",
        "plt.show()\n",
        "\n",
        "# plt.scatter(life_df['Life expectancy(In Years)'],life_df['Per Capita Income(In USD)'])\n",
        "colors = ['cyan', 'red', 'green', 'blue', 'orange', 'deeppink', 'black']\n",
        "vectorizer = np.vectorize(lambda x: colors[x % len(colors)])\n",
        "\n",
        "\n",
        "fig=px.scatter(lite_df, x='Male',y='Female',hover_data=['District'],width=600, height=600)\n",
        "fig.update_layout(\n",
        "    title=\"Male Vs Female Literacy Rate\",\n",
        "    font=dict(\n",
        "        family=\"Courier New, monospace\",\n",
        "        size=12,\n",
        "        color=\"#7f7f7f\"\n",
        "    ),\n",
        ")\n",
        "fig.show()"
      ],
      "execution_count": 70,
      "outputs": [
        {
          "output_type": "display_data",
          "data": {
            "image/png": "[encoded data removed]",
            "text/plain": [
              "<Figure size 432x288 with 1 Axes>"
            ]
          },
          "metadata": {
            "tags": [],
            "needs_background": "light"
          }
        },
        {
          "output_type": "display_data",
          "data": {
            "text/html": [
              "<html>\n",
              "<head><meta charset=\"utf-8\" /></head>\n",
              "<body>\n",
              "    <div>\n",
              "            <script src=\"https://cdnjs.cloudflare.com/ajax/libs/mathjax/2.7.5/MathJax.js?config=TeX-AMS-MML_SVG\"></script><script type=\"text/javascript\">if (window.MathJax) {MathJax.Hub.Config({SVG: {font: \"STIX-Web\"}});}</script>\n",
              "                <script type=\"text/javascript\">window.PlotlyConfig = {MathJaxConfig: 'local'};</script>\n",
              "        <script src=\"https://cdn.plot.ly/plotly-latest.min.js\"></script>    \n",
              "            <div id=\"6cfdafd5-6422-4b23-b22e-190340ec0aee\" class=\"plotly-graph-div\" style=\"height:600px; width:600px;\"></div>\n",
              "            <script type=\"text/javascript\">\n",
              "                \n",
              "                    window.PLOTLYENV=window.PLOTLYENV || {};\n",
              "                    \n",
              "                if (document.getElementById(\"6cfdafd5-6422-4b23-b22e-190340ec0aee\")) {\n",
              "                    Plotly.newPlot(\n",
              "                        '6cfdafd5-6422-4b23-b22e-190340ec0aee',\n",
              "                        [{\"customdata\": [[\"Kathmandu\"], [\"Lalitpur\"], [\"Kaski\"], [\"Bhaktapur\"], [\"Ilam\"], [\"Chitwan\"], [\"Syangja\"], [\"Palpa\"], [\"Jhapa\"], [\"Manang\"], [\"Tanahu\"], [\"Tehrathum\"], [\"Dhankuta\"], [\"Parbat\"], [\"Surkhet\"], [\"Arghakhanchi\"], [\"Gulmi\"], [\"Panchthar\"], [\"Baglung\"], [\"Myagdi\"], [\"Taplejung\"], [\"Lamjung\"], [\"Nawalparasi\"], [\"Kanchanpur\"], [\"Morang\"], [\"Dang\"], [\"Kavrepalanchok\"], [\"Rupandehi\"], [\"Sankhuwasabha\"], [\"Bhojpur\"], [\"Khotang\"], [\"Udayapur\"], [\"Sunsari\"], [\"Makwanpur\"], [\"Pyuthan\"], [\"Gorkha\"], [\"Kailali\"], [\"Mustang\"], [\"Bardiya\"], [\"Darchula\"], [\"Dadeldhura\"], [\"Okhaldhunga\"], [\"Solukhumbu\"], [\"Salyan\"], [\"Baitadi\"], [\"Dhading\"], [\"Dolakha\"], [\"Dailekh\"], [\"Banke\"], [\"Ramechhap\"], [\"Rukum\"], [\"Sindhuli\"], [\"Rolpa\"], [\"Nuwakot\"], [\"Sindhupalchok\"], [\"Jajarkot\"], [\"Kalikot\"], [\"Doti\"], [\"Parsa\"], [\"Achham\"], [\"Bajura\"], [\"Bajhang\"], [\"Kapilbastu\"], [\"Jumla\"], [\"Saptari\"], [\"Dolpa\"], [\"Rasuwa\"], [\"Bara\"], [\"Mugu\"], [\"Dhanusa\"], [\"Siraha\"], [\"Humla\"], [\"Mahottari\"], [\"Sarlahi\"], [\"Rautahat\"]], \"hoverlabel\": {\"namelength\": 0}, \"hovertemplate\": \"Male=%{x}<br>Female=%{y}<br>District=%{customdata[0]}\", \"legendgroup\": \"\", \"marker\": {\"color\": \"#636efa\", \"symbol\": \"circle\"}, \"mode\": \"markers\", \"name\": \"\", \"showlegend\": false, \"type\": \"scatter\", \"x\": [92.2, 90.1, 90.1, 90.5, 84.2, 83.9, 86.1, 84.9, 82.3, 83.0, 83.7, 83.5, 82.4, 83.4, 82.0, 81.8, 81.6, 80.3, 80.6, 81.1, 79.3, 80.7, 79.9, 81.3, 78.7, 78.9, 79.6, 79.2, 77.5, 78.4, 77.7, 77.2, 77.0, 75.4, 78.2, 75.1, 76.2, 75.4, 73.5, 79.3, 79.7, 74.3, 73.4, 73.9, 79.0, 71.1, 73.3, 72.8, 70.0, 72.6, 71.2, 69.8, 71.5, 68.0, 68.0, 65.9, 67.9, 73.4, 66.9, 70.7, 68.8, 73.0, 64.9, 68.2, 67.0, 67.9, 60.9, 62.8, 65.2, 60.6, 61.9, 62.1, 56.6, 55.8, 50.9], \"xaxis\": \"x\", \"y\": [79.8, 74.7, 75.4, 72.7, 72.0, 70.7, 69.6, 69.5, 68.6, 64.2, 67.9, 67.0, 67.4, 66.4, 64.9, 65.8, 65.9, 65.8, 65.3, 64.5, 64.1, 63.3, 62.8, 61.0, 63.1, 62.8, 60.9, 60.8, 62.2, 61.4, 61.1, 61.5, 60.5, 60.6, 58.6, 59.4, 57.1, 55.8, 57.9, 52.9, 52.9, 56.0, 55.7, 55.2, 49.2, 55.7, 53.7, 52.9, 54.9, 53.5, 53.9, 52.1, 50.5, 52.4, 51.9, 48.7, 45.7, 42.3, 43.9, 42.9, 43.3, 40.1, 45.0, 40.8, 42.6, 40.6, 46.5, 40.7, 36.9, 40.2, 39.2, 33.0, 36.6, 36.6, 32.0], \"yaxis\": \"y\"}],\n",
              "                        {\"font\": {\"color\": \"#7f7f7f\", \"family\": \"Courier New, monospace\", \"size\": 12}, \"height\": 600, \"legend\": {\"tracegroupgap\": 0}, \"margin\": {\"t\": 60}, \"template\": {\"data\": {\"bar\": [{\"error_x\": {\"color\": \"#2a3f5f\"}, \"error_y\": {\"color\": \"#2a3f5f\"}, \"marker\": {\"line\": {\"color\": \"#E5ECF6\", \"width\": 0.5}}, \"type\": \"bar\"}], \"barpolar\": [{\"marker\": {\"line\": {\"color\": \"#E5ECF6\", \"width\": 0.5}}, \"type\": \"barpolar\"}], \"carpet\": [{\"aaxis\": {\"endlinecolor\": \"#2a3f5f\", \"gridcolor\": \"white\", \"linecolor\": \"white\", \"minorgridcolor\": \"white\", \"startlinecolor\": \"#2a3f5f\"}, \"baxis\": {\"endlinecolor\": \"#2a3f5f\", \"gridcolor\": \"white\", \"linecolor\": \"white\", \"minorgridcolor\": \"white\", \"startlinecolor\": \"#2a3f5f\"}, \"type\": \"carpet\"}], \"choropleth\": [{\"colorbar\": {\"outlinewidth\": 0, \"ticks\": \"\"}, \"type\": \"choropleth\"}], \"contour\": [{\"colorbar\": {\"outlinewidth\": 0, \"ticks\": \"\"}, \"colorscale\": [[0.0, \"#0d0887\"], [0.1111111111111111, \"#46039f\"], [0.2222222222222222, \"#7201a8\"], [0.3333333333333333, \"#9c179e\"], [0.4444444444444444, \"#bd3786\"], [0.5555555555555556, \"#d8576b\"], [0.6666666666666666, \"#ed7953\"], [0.7777777777777778, \"#fb9f3a\"], [0.8888888888888888, \"#fdca26\"], [1.0, \"#f0f921\"]], \"type\": \"contour\"}], \"contourcarpet\": [{\"colorbar\": {\"outlinewidth\": 0, \"ticks\": \"\"}, \"type\": \"contourcarpet\"}], \"heatmap\": [{\"colorbar\": {\"outlinewidth\": 0, \"ticks\": \"\"}, \"colorscale\": [[0.0, \"#0d0887\"], [0.1111111111111111, \"#46039f\"], [0.2222222222222222, \"#7201a8\"], [0.3333333333333333, \"#9c179e\"], [0.4444444444444444, \"#bd3786\"], [0.5555555555555556, \"#d8576b\"], [0.6666666666666666, \"#ed7953\"], [0.7777777777777778, \"#fb9f3a\"], [0.8888888888888888, \"#fdca26\"], [1.0, \"#f0f921\"]], \"type\": \"heatmap\"}], \"heatmapgl\": [{\"colorbar\": {\"outlinewidth\": 0, \"ticks\": \"\"}, \"colorscale\": [[0.0, \"#0d0887\"], [0.1111111111111111, \"#46039f\"], [0.2222222222222222, \"#7201a8\"], [0.3333333333333333, \"#9c179e\"], [0.4444444444444444, \"#bd3786\"], [0.5555555555555556, \"#d8576b\"], [0.6666666666666666, \"#ed7953\"], [0.7777777777777778, \"#fb9f3a\"], [0.8888888888888888, \"#fdca26\"], [1.0, \"#f0f921\"]], \"type\": \"heatmapgl\"}], \"histogram\": [{\"marker\": {\"colorbar\": {\"outlinewidth\": 0, \"ticks\": \"\"}}, \"type\": \"histogram\"}], \"histogram2d\": [{\"colorbar\": {\"outlinewidth\": 0, \"ticks\": \"\"}, \"colorscale\": [[0.0, \"#0d0887\"], [0.1111111111111111, \"#46039f\"], [0.2222222222222222, \"#7201a8\"], [0.3333333333333333, \"#9c179e\"], [0.4444444444444444, \"#bd3786\"], [0.5555555555555556, \"#d8576b\"], [0.6666666666666666, \"#ed7953\"], [0.7777777777777778, \"#fb9f3a\"], [0.8888888888888888, \"#fdca26\"], [1.0, \"#f0f921\"]], \"type\": \"histogram2d\"}], \"histogram2dcontour\": [{\"colorbar\": {\"outlinewidth\": 0, \"ticks\": \"\"}, \"colorscale\": [[0.0, \"#0d0887\"], [0.1111111111111111, \"#46039f\"], [0.2222222222222222, \"#7201a8\"], [0.3333333333333333, \"#9c179e\"], [0.4444444444444444, \"#bd3786\"], [0.5555555555555556, \"#d8576b\"], [0.6666666666666666, \"#ed7953\"], [0.7777777777777778, \"#fb9f3a\"], [0.8888888888888888, \"#fdca26\"], [1.0, \"#f0f921\"]], \"type\": \"histogram2dcontour\"}], \"mesh3d\": [{\"colorbar\": {\"outlinewidth\": 0, \"ticks\": \"\"}, \"type\": \"mesh3d\"}], \"parcoords\": [{\"line\": {\"colorbar\": {\"outlinewidth\": 0, \"ticks\": \"\"}}, \"type\": \"parcoords\"}], \"pie\": [{\"automargin\": true, \"type\": \"pie\"}], \"scatter\": [{\"marker\": {\"colorbar\": {\"outlinewidth\": 0, \"ticks\": \"\"}}, \"type\": \"scatter\"}], \"scatter3d\": [{\"line\": {\"colorbar\": {\"outlinewidth\": 0, \"ticks\": \"\"}}, \"marker\": {\"colorbar\": {\"outlinewidth\": 0, \"ticks\": \"\"}}, \"type\": \"scatter3d\"}], \"scattercarpet\": [{\"marker\": {\"colorbar\": {\"outlinewidth\": 0, \"ticks\": \"\"}}, \"type\": \"scattercarpet\"}], \"scattergeo\": [{\"marker\": {\"colorbar\": {\"outlinewidth\": 0, \"ticks\": \"\"}}, \"type\": \"scattergeo\"}], \"scattergl\": [{\"marker\": {\"colorbar\": {\"outlinewidth\": 0, \"ticks\": \"\"}}, \"type\": \"scattergl\"}], \"scattermapbox\": [{\"marker\": {\"colorbar\": {\"outlinewidth\": 0, \"ticks\": \"\"}}, \"type\": \"scattermapbox\"}], \"scatterpolar\": [{\"marker\": {\"colorbar\": {\"outlinewidth\": 0, \"ticks\": \"\"}}, \"type\": \"scatterpolar\"}], \"scatterpolargl\": [{\"marker\": {\"colorbar\": {\"outlinewidth\": 0, \"ticks\": \"\"}}, \"type\": \"scatterpolargl\"}], \"scatterternary\": [{\"marker\": {\"colorbar\": {\"outlinewidth\": 0, \"ticks\": \"\"}}, \"type\": \"scatterternary\"}], \"surface\": [{\"colorbar\": {\"outlinewidth\": 0, \"ticks\": \"\"}, \"colorscale\": [[0.0, \"#0d0887\"], [0.1111111111111111, \"#46039f\"], [0.2222222222222222, \"#7201a8\"], [0.3333333333333333, \"#9c179e\"], [0.4444444444444444, \"#bd3786\"], [0.5555555555555556, \"#d8576b\"], [0.6666666666666666, \"#ed7953\"], [0.7777777777777778, \"#fb9f3a\"], [0.8888888888888888, \"#fdca26\"], [1.0, \"#f0f921\"]], \"type\": \"surface\"}], \"table\": [{\"cells\": {\"fill\": {\"color\": \"#EBF0F8\"}, \"line\": {\"color\": \"white\"}}, \"header\": {\"fill\": {\"color\": \"#C8D4E3\"}, \"line\": {\"color\": \"white\"}}, \"type\": \"table\"}]}, \"layout\": {\"annotationdefaults\": {\"arrowcolor\": \"#2a3f5f\", \"arrowhead\": 0, \"arrowwidth\": 1}, \"coloraxis\": {\"colorbar\": {\"outlinewidth\": 0, \"ticks\": \"\"}}, \"colorscale\": {\"diverging\": [[0, \"#8e0152\"], [0.1, \"#c51b7d\"], [0.2, \"#de77ae\"], [0.3, \"#f1b6da\"], [0.4, \"#fde0ef\"], [0.5, \"#f7f7f7\"], [0.6, \"#e6f5d0\"], [0.7, \"#b8e186\"], [0.8, \"#7fbc41\"], [0.9, \"#4d9221\"], [1, \"#276419\"]], \"sequential\": [[0.0, \"#0d0887\"], [0.1111111111111111, \"#46039f\"], [0.2222222222222222, \"#7201a8\"], [0.3333333333333333, \"#9c179e\"], [0.4444444444444444, \"#bd3786\"], [0.5555555555555556, \"#d8576b\"], [0.6666666666666666, \"#ed7953\"], [0.7777777777777778, \"#fb9f3a\"], [0.8888888888888888, \"#fdca26\"], [1.0, \"#f0f921\"]], \"sequentialminus\": [[0.0, \"#0d0887\"], [0.1111111111111111, \"#46039f\"], [0.2222222222222222, \"#7201a8\"], [0.3333333333333333, \"#9c179e\"], [0.4444444444444444, \"#bd3786\"], [0.5555555555555556, \"#d8576b\"], [0.6666666666666666, \"#ed7953\"], [0.7777777777777778, \"#fb9f3a\"], [0.8888888888888888, \"#fdca26\"], [1.0, \"#f0f921\"]]}, \"colorway\": [\"#636efa\", \"#EF553B\", \"#00cc96\", \"#ab63fa\", \"#FFA15A\", \"#19d3f3\", \"#FF6692\", \"#B6E880\", \"#FF97FF\", \"#FECB52\"], \"font\": {\"color\": \"#2a3f5f\"}, \"geo\": {\"bgcolor\": \"white\", \"lakecolor\": \"white\", \"landcolor\": \"#E5ECF6\", \"showlakes\": true, \"showland\": true, \"subunitcolor\": \"white\"}, \"hoverlabel\": {\"align\": \"left\"}, \"hovermode\": \"closest\", \"mapbox\": {\"style\": \"light\"}, \"paper_bgcolor\": \"white\", \"plot_bgcolor\": \"#E5ECF6\", \"polar\": {\"angularaxis\": {\"gridcolor\": \"white\", \"linecolor\": \"white\", \"ticks\": \"\"}, \"bgcolor\": \"#E5ECF6\", \"radialaxis\": {\"gridcolor\": \"white\", \"linecolor\": \"white\", \"ticks\": \"\"}}, \"scene\": {\"xaxis\": {\"backgroundcolor\": \"#E5ECF6\", \"gridcolor\": \"white\", \"gridwidth\": 2, \"linecolor\": \"white\", \"showbackground\": true, \"ticks\": \"\", \"zerolinecolor\": \"white\"}, \"yaxis\": {\"backgroundcolor\": \"#E5ECF6\", \"gridcolor\": \"white\", \"gridwidth\": 2, \"linecolor\": \"white\", \"showbackground\": true, \"ticks\": \"\", \"zerolinecolor\": \"white\"}, \"zaxis\": {\"backgroundcolor\": \"#E5ECF6\", \"gridcolor\": \"white\", \"gridwidth\": 2, \"linecolor\": \"white\", \"showbackground\": true, \"ticks\": \"\", \"zerolinecolor\": \"white\"}}, \"shapedefaults\": {\"line\": {\"color\": \"#2a3f5f\"}}, \"ternary\": {\"aaxis\": {\"gridcolor\": \"white\", \"linecolor\": \"white\", \"ticks\": \"\"}, \"baxis\": {\"gridcolor\": \"white\", \"linecolor\": \"white\", \"ticks\": \"\"}, \"bgcolor\": \"#E5ECF6\", \"caxis\": {\"gridcolor\": \"white\", \"linecolor\": \"white\", \"ticks\": \"\"}}, \"title\": {\"x\": 0.05}, \"xaxis\": {\"automargin\": true, \"gridcolor\": \"white\", \"linecolor\": \"white\", \"ticks\": \"\", \"title\": {\"standoff\": 15}, \"zerolinecolor\": \"white\", \"zerolinewidth\": 2}, \"yaxis\": {\"automargin\": true, \"gridcolor\": \"white\", \"linecolor\": \"white\", \"ticks\": \"\", \"title\": {\"standoff\": 15}, \"zerolinecolor\": \"white\", \"zerolinewidth\": 2}}}, \"title\": {\"text\": \"Male Vs Female Literacy Rate\"}, \"width\": 600, \"xaxis\": {\"anchor\": \"y\", \"domain\": [0.0, 1.0], \"title\": {\"text\": \"Male\"}}, \"yaxis\": {\"anchor\": \"x\", \"domain\": [0.0, 1.0], \"title\": {\"text\": \"Female\"}}},\n",
              "                        {\"responsive\": true}\n",
              "                    ).then(function(){\n",
              "                            \n",
              "var gd = document.getElementById('6cfdafd5-6422-4b23-b22e-190340ec0aee');\n",
              "var x = new MutationObserver(function (mutations, observer) {{\n",
              "        var display = window.getComputedStyle(gd).display;\n",
              "        if (!display || display === 'none') {{\n",
              "            console.log([gd, 'removed!']);\n",
              "            Plotly.purge(gd);\n",
              "            observer.disconnect();\n",
              "        }}\n",
              "}});\n",
              "\n",
              "// Listen for the removal of the full notebook cells\n",
              "var notebookContainer = gd.closest('#notebook-container');\n",
              "if (notebookContainer) {{\n",
              "    x.observe(notebookContainer, {childList: true});\n",
              "}}\n",
              "\n",
              "// Listen for the clearing of the current output cell\n",
              "var outputEl = gd.closest('.output');\n",
              "if (outputEl) {{\n",
              "    x.observe(outputEl, {childList: true});\n",
              "}}\n",
              "\n",
              "                        })\n",
              "                };\n",
              "                \n",
              "            </script>\n",
              "        </div>\n",
              "</body>\n",
              "</html>"
            ]
          },
          "metadata": {
            "tags": []
          }
        }
      ]
    },
    {
      "cell_type": "code",
      "metadata": {
        "id": "pjNIgwSIFICf",
        "colab_type": "code",
        "outputId": "2e6d2a72-d602-46a0-90e4-803d75218769",
        "colab": {
          "base_uri": "https://localhost:8080/",
          "height": 490
        }
      },
      "source": [
        "plt.figure(figsize=(6,5))\n",
        "cor=mixed_df.drop(columns=['Total']).corr()\n",
        "sns.heatmap(cor,annot=True,cmap=plt.cm.Reds)\n",
        "plt.title('\\nCorrelation of Life Expectancy, Per Capita with Gender')"
      ],
      "execution_count": 71,
      "outputs": [
        {
          "output_type": "execute_result",
          "data": {
            "text/plain": [
              "Text(0.5, 1.0, '\\nCorrelation of Life Expectancy, Per Capita with Gender')"
            ]
          },
          "metadata": {
            "tags": []
          },
          "execution_count": 71
        },
        {
          "output_type": "display_data",
          "data": {
            "image/png": "[encoded data removed]",
            "text/plain": [
              "<Figure size 432x360 with 2 Axes>"
            ]
          },
          "metadata": {
            "tags": [],
            "needs_background": "light"
          }
        }
      ]
    },
    {
      "cell_type": "code",
      "metadata": {
        "id": "8BJDqRRqgzVI",
        "colab_type": "code",
        "outputId": "e082d7d4-4848-4027-ee0d-707c5367b3c5",
        "colab": {
          "base_uri": "https://localhost:8080/",
          "height": 224
        }
      },
      "source": [
        "mixed_df.tail()"
      ],
      "execution_count": 72,
      "outputs": [
        {
          "output_type": "execute_result",
          "data": {
            "text/html": [
              "<div>\n",
              "<style scoped>\n",
              "    .dataframe tbody tr th:only-of-type {\n",
              "        vertical-align: middle;\n",
              "    }\n",
              "\n",
              "    .dataframe tbody tr th {\n",
              "        vertical-align: top;\n",
              "    }\n",
              "\n",
              "    .dataframe thead th {\n",
              "        text-align: right;\n",
              "    }\n",
              "</style>\n",
              "<table border=\"1\" class=\"dataframe\">\n",
              "  <thead>\n",
              "    <tr style=\"text-align: right;\">\n",
              "      <th></th>\n",
              "      <th>District</th>\n",
              "      <th>Total</th>\n",
              "      <th>Female</th>\n",
              "      <th>Male</th>\n",
              "      <th>Life expectancy(In Years)</th>\n",
              "      <th>Per Capita Income(In USD)</th>\n",
              "    </tr>\n",
              "  </thead>\n",
              "  <tbody>\n",
              "    <tr>\n",
              "      <th>70</th>\n",
              "      <td>Siraha</td>\n",
              "      <td>50.2</td>\n",
              "      <td>39.2</td>\n",
              "      <td>61.9</td>\n",
              "      <td>71.29</td>\n",
              "      <td>689</td>\n",
              "    </tr>\n",
              "    <tr>\n",
              "      <th>71</th>\n",
              "      <td>Humla</td>\n",
              "      <td>47.8</td>\n",
              "      <td>33.0</td>\n",
              "      <td>62.1</td>\n",
              "      <td>64.15</td>\n",
              "      <td>794</td>\n",
              "    </tr>\n",
              "    <tr>\n",
              "      <th>72</th>\n",
              "      <td>Mahottari</td>\n",
              "      <td>46.4</td>\n",
              "      <td>36.6</td>\n",
              "      <td>56.6</td>\n",
              "      <td>69.47</td>\n",
              "      <td>681</td>\n",
              "    </tr>\n",
              "    <tr>\n",
              "      <th>73</th>\n",
              "      <td>Sarlahi</td>\n",
              "      <td>46.3</td>\n",
              "      <td>36.6</td>\n",
              "      <td>55.8</td>\n",
              "      <td>70.06</td>\n",
              "      <td>809</td>\n",
              "    </tr>\n",
              "    <tr>\n",
              "      <th>74</th>\n",
              "      <td>Rautahat</td>\n",
              "      <td>41.7</td>\n",
              "      <td>32.0</td>\n",
              "      <td>50.9</td>\n",
              "      <td>70.99</td>\n",
              "      <td>757</td>\n",
              "    </tr>\n",
              "  </tbody>\n",
              "</table>\n",
              "</div>"
            ],
            "text/plain": [
              "     District  Total  ...  Life expectancy(In Years)  Per Capita Income(In USD)\n",
              "70     Siraha   50.2  ...                      71.29                        689\n",
              "71      Humla   47.8  ...                      64.15                        794\n",
              "72  Mahottari   46.4  ...                      69.47                        681\n",
              "73    Sarlahi   46.3  ...                      70.06                        809\n",
              "74   Rautahat   41.7  ...                      70.99                        757\n",
              "\n",
              "[5 rows x 6 columns]"
            ]
          },
          "metadata": {
            "tags": []
          },
          "execution_count": 72
        }
      ]
    },
    {
      "cell_type": "code",
      "metadata": {
        "id": "5ZsE7uZzCCqx",
        "colab_type": "code",
        "outputId": "4c579330-d233-48d2-aa09-95347d8dc201",
        "colab": {
          "base_uri": "https://localhost:8080/",
          "height": 542
        }
      },
      "source": [
        "px.scatter_3d(mixed_df, x='Female', y='Life expectancy(In Years)', z='Per Capita Income(In USD)',color=mixed_df['Female'],hover_data=['District'])\n"
      ],
      "execution_count": 73,
      "outputs": [
        {
          "output_type": "display_data",
          "data": {
            "text/html": [
              "<html>\n",
              "<head><meta charset=\"utf-8\" /></head>\n",
              "<body>\n",
              "    <div>\n",
              "            <script src=\"https://cdnjs.cloudflare.com/ajax/libs/mathjax/2.7.5/MathJax.js?config=TeX-AMS-MML_SVG\"></script><script type=\"text/javascript\">if (window.MathJax) {MathJax.Hub.Config({SVG: {font: \"STIX-Web\"}});}</script>\n",
              "                <script type=\"text/javascript\">window.PlotlyConfig = {MathJaxConfig: 'local'};</script>\n",
              "        <script src=\"https://cdn.plot.ly/plotly-latest.min.js\"></script>    \n",
              "            <div id=\"a08f0d15-1582-4547-9dd9-4ebd0e52c051\" class=\"plotly-graph-div\" style=\"height:525px; width:100%;\"></div>\n",
              "            <script type=\"text/javascript\">\n",
              "                \n",
              "                    window.PLOTLYENV=window.PLOTLYENV || {};\n",
              "                    \n",
              "                if (document.getElementById(\"a08f0d15-1582-4547-9dd9-4ebd0e52c051\")) {\n",
              "                    Plotly.newPlot(\n",
              "                        'a08f0d15-1582-4547-9dd9-4ebd0e52c051',\n",
              "                        [{\"customdata\": [[\"Kathmandu\"], [\"Lalitpur\"], [\"Kaski\"], [\"Bhaktapur\"], [\"Ilam\"], [\"Chitwan\"], [\"Syangja\"], [\"Palpa\"], [\"Jhapa\"], [\"Manang\"], [\"Tanahu\"], [\"Tehrathum\"], [\"Dhankuta\"], [\"Parbat\"], [\"Surkhet\"], [\"Arghakhanchi\"], [\"Gulmi\"], [\"Panchthar\"], [\"Baglung\"], [\"Myagdi\"], [\"Taplejung\"], [\"Lamjung\"], [\"Nawalparasi\"], [\"Kanchanpur\"], [\"Morang\"], [\"Dang\"], [\"Kavrepalanchok\"], [\"Rupandehi\"], [\"Sankhuwasabha\"], [\"Bhojpur\"], [\"Khotang\"], [\"Udayapur\"], [\"Sunsari\"], [\"Makwanpur\"], [\"Pyuthan\"], [\"Gorkha\"], [\"Kailali\"], [\"Mustang\"], [\"Bardiya\"], [\"Darchula\"], [\"Dadeldhura\"], [\"Okhaldhunga\"], [\"Solukhumbu\"], [\"Salyan\"], [\"Baitadi\"], [\"Dhading\"], [\"Dolakha\"], [\"Dailekh\"], [\"Banke\"], [\"Ramechhap\"], [\"Rukum\"], [\"Sindhuli\"], [\"Rolpa\"], [\"Nuwakot\"], [\"Sindhupalchok\"], [\"Jajarkot\"], [\"Kalikot\"], [\"Doti\"], [\"Parsa\"], [\"Achham\"], [\"Bajura\"], [\"Bajhang\"], [\"Kapilbastu\"], [\"Jumla\"], [\"Saptari\"], [\"Dolpa\"], [\"Rasuwa\"], [\"Bara\"], [\"Mugu\"], [\"Dhanusa\"], [\"Siraha\"], [\"Humla\"], [\"Mahottari\"], [\"Sarlahi\"], [\"Rautahat\"]], \"hoverlabel\": {\"namelength\": 0}, \"hovertemplate\": \"Female=%{marker.color}<br>Life expectancy(In Years)=%{y}<br>Per Capita Income(In USD)=%{z}<br>District=%{customdata[0]}\", \"legendgroup\": \"\", \"marker\": {\"color\": [79.8, 74.7, 75.4, 72.7, 72.0, 70.7, 69.6, 69.5, 68.6, 64.2, 67.9, 67.0, 67.4, 66.4, 64.9, 65.8, 65.9, 65.8, 65.3, 64.5, 64.1, 63.3, 62.8, 61.0, 63.1, 62.8, 60.9, 60.8, 62.2, 61.4, 61.1, 61.5, 60.5, 60.6, 58.6, 59.4, 57.1, 55.8, 57.9, 52.9, 52.9, 56.0, 55.7, 55.2, 49.2, 55.7, 53.7, 52.9, 54.9, 53.5, 53.9, 52.1, 50.5, 52.4, 51.9, 48.7, 45.7, 42.3, 43.9, 42.9, 43.3, 40.1, 45.0, 40.8, 42.6, 40.6, 46.5, 40.7, 36.9, 40.2, 39.2, 33.0, 36.6, 36.6, 32.0], \"coloraxis\": \"coloraxis\", \"symbol\": \"circle\"}, \"mode\": \"markers\", \"name\": \"\", \"scene\": \"scene\", \"showlegend\": false, \"type\": \"scatter3d\", \"x\": [79.8, 74.7, 75.4, 72.7, 72.0, 70.7, 69.6, 69.5, 68.6, 64.2, 67.9, 67.0, 67.4, 66.4, 64.9, 65.8, 65.9, 65.8, 65.3, 64.5, 64.1, 63.3, 62.8, 61.0, 63.1, 62.8, 60.9, 60.8, 62.2, 61.4, 61.1, 61.5, 60.5, 60.6, 58.6, 59.4, 57.1, 55.8, 57.9, 52.9, 52.9, 56.0, 55.7, 55.2, 49.2, 55.7, 53.7, 52.9, 54.9, 53.5, 53.9, 52.1, 50.5, 52.4, 51.9, 48.7, 45.7, 42.3, 43.9, 42.9, 43.3, 40.1, 45.0, 40.8, 42.6, 40.6, 46.5, 40.7, 36.9, 40.2, 39.2, 33.0, 36.6, 36.6, 32.0], \"y\": [68.55, 70.3, 70.51, 70.48, 67.95, 69.78, 69.68, 68.27, 67.29, 65.04, 70.14, 68.05, 69.04, 70.55, 67.28, 68.56, 68.09, 68.12, 68.83, 70.05, 65.83, 70.94, 67.81, 67.08, 69.05, 67.33, 70.86, 68.29, 68.42, 68.33, 70.24, 69.29, 68.33, 68.08, 64.33, 71.7, 66.46, 65.04, 67.26, 69.05, 67.9, 70.56, 68.83, 68.8, 68.88, 70.86, 70.85, 68.03, 68.35, 72.9, 68.39, 70.04, 66.28, 70.81, 69.57, 66.45, 63.64, 66.74, 70.25, 67.14, 63.92, 65.22, 67.56, 63.14, 71.34, 61.2, 70.91, 70.5, 65.57, 69.53, 71.29, 64.15, 69.47, 70.06, 70.99], \"z\": [2764, 1894, 1561, 1379, 1260, 1537, 1215, 985, 1226, 3166, 1072, 1419, 1257, 1013, 911, 909, 752, 1082, 868, 1028, 1313, 1186, 1157, 938, 1251, 1127, 1399, 1123, 1193, 999, 1132, 920, 1104, 1410, 681, 1039, 942, 1922, 1086, 627, 764, 957, 1841, 786, 573, 982, 922, 684, 1133, 951, 782, 822, 643, 1086, 1110, 611, 578, 774, 1223, 536, 523, 487, 990, 1007, 801, 1040, 1520, 1480, 866, 938, 689, 794, 681, 809, 757]}],\n",
              "                        {\"coloraxis\": {\"colorbar\": {\"title\": {\"text\": \"Female\"}}, \"colorscale\": [[0.0, \"#0d0887\"], [0.1111111111111111, \"#46039f\"], [0.2222222222222222, \"#7201a8\"], [0.3333333333333333, \"#9c179e\"], [0.4444444444444444, \"#bd3786\"], [0.5555555555555556, \"#d8576b\"], [0.6666666666666666, \"#ed7953\"], [0.7777777777777778, \"#fb9f3a\"], [0.8888888888888888, \"#fdca26\"], [1.0, \"#f0f921\"]]}, \"legend\": {\"tracegroupgap\": 0}, \"margin\": {\"t\": 60}, \"scene\": {\"domain\": {\"x\": [0.0, 1.0], \"y\": [0.0, 1.0]}, \"xaxis\": {\"title\": {\"text\": \"Female\"}}, \"yaxis\": {\"title\": {\"text\": \"Life expectancy(In Years)\"}}, \"zaxis\": {\"title\": {\"text\": \"Per Capita Income(In USD)\"}}}, \"template\": {\"data\": {\"bar\": [{\"error_x\": {\"color\": \"#2a3f5f\"}, \"error_y\": {\"color\": \"#2a3f5f\"}, \"marker\": {\"line\": {\"color\": \"#E5ECF6\", \"width\": 0.5}}, \"type\": \"bar\"}], \"barpolar\": [{\"marker\": {\"line\": {\"color\": \"#E5ECF6\", \"width\": 0.5}}, \"type\": \"barpolar\"}], \"carpet\": [{\"aaxis\": {\"endlinecolor\": \"#2a3f5f\", \"gridcolor\": \"white\", \"linecolor\": \"white\", \"minorgridcolor\": \"white\", \"startlinecolor\": \"#2a3f5f\"}, \"baxis\": {\"endlinecolor\": \"#2a3f5f\", \"gridcolor\": \"white\", \"linecolor\": \"white\", \"minorgridcolor\": \"white\", \"startlinecolor\": \"#2a3f5f\"}, \"type\": \"carpet\"}], \"choropleth\": [{\"colorbar\": {\"outlinewidth\": 0, \"ticks\": \"\"}, \"type\": \"choropleth\"}], \"contour\": [{\"colorbar\": {\"outlinewidth\": 0, \"ticks\": \"\"}, \"colorscale\": [[0.0, \"#0d0887\"], [0.1111111111111111, \"#46039f\"], [0.2222222222222222, \"#7201a8\"], [0.3333333333333333, \"#9c179e\"], [0.4444444444444444, \"#bd3786\"], [0.5555555555555556, \"#d8576b\"], [0.6666666666666666, \"#ed7953\"], [0.7777777777777778, \"#fb9f3a\"], [0.8888888888888888, \"#fdca26\"], [1.0, \"#f0f921\"]], \"type\": \"contour\"}], \"contourcarpet\": [{\"colorbar\": {\"outlinewidth\": 0, \"ticks\": \"\"}, \"type\": \"contourcarpet\"}], \"heatmap\": [{\"colorbar\": {\"outlinewidth\": 0, \"ticks\": \"\"}, \"colorscale\": [[0.0, \"#0d0887\"], [0.1111111111111111, \"#46039f\"], [0.2222222222222222, \"#7201a8\"], [0.3333333333333333, \"#9c179e\"], [0.4444444444444444, \"#bd3786\"], [0.5555555555555556, \"#d8576b\"], [0.6666666666666666, \"#ed7953\"], [0.7777777777777778, \"#fb9f3a\"], [0.8888888888888888, \"#fdca26\"], [1.0, \"#f0f921\"]], \"type\": \"heatmap\"}], \"heatmapgl\": [{\"colorbar\": {\"outlinewidth\": 0, \"ticks\": \"\"}, \"colorscale\": [[0.0, \"#0d0887\"], [0.1111111111111111, \"#46039f\"], [0.2222222222222222, \"#7201a8\"], [0.3333333333333333, \"#9c179e\"], [0.4444444444444444, \"#bd3786\"], [0.5555555555555556, \"#d8576b\"], [0.6666666666666666, \"#ed7953\"], [0.7777777777777778, \"#fb9f3a\"], [0.8888888888888888, \"#fdca26\"], [1.0, \"#f0f921\"]], \"type\": \"heatmapgl\"}], \"histogram\": [{\"marker\": {\"colorbar\": {\"outlinewidth\": 0, \"ticks\": \"\"}}, \"type\": \"histogram\"}], \"histogram2d\": [{\"colorbar\": {\"outlinewidth\": 0, \"ticks\": \"\"}, \"colorscale\": [[0.0, \"#0d0887\"], [0.1111111111111111, \"#46039f\"], [0.2222222222222222, \"#7201a8\"], [0.3333333333333333, \"#9c179e\"], [0.4444444444444444, \"#bd3786\"], [0.5555555555555556, \"#d8576b\"], [0.6666666666666666, \"#ed7953\"], [0.7777777777777778, \"#fb9f3a\"], [0.8888888888888888, \"#fdca26\"], [1.0, \"#f0f921\"]], \"type\": \"histogram2d\"}], \"histogram2dcontour\": [{\"colorbar\": {\"outlinewidth\": 0, \"ticks\": \"\"}, \"colorscale\": [[0.0, \"#0d0887\"], [0.1111111111111111, \"#46039f\"], [0.2222222222222222, \"#7201a8\"], [0.3333333333333333, \"#9c179e\"], [0.4444444444444444, \"#bd3786\"], [0.5555555555555556, \"#d8576b\"], [0.6666666666666666, \"#ed7953\"], [0.7777777777777778, \"#fb9f3a\"], [0.8888888888888888, \"#fdca26\"], [1.0, \"#f0f921\"]], \"type\": \"histogram2dcontour\"}], \"mesh3d\": [{\"colorbar\": {\"outlinewidth\": 0, \"ticks\": \"\"}, \"type\": \"mesh3d\"}], \"parcoords\": [{\"line\": {\"colorbar\": {\"outlinewidth\": 0, \"ticks\": \"\"}}, \"type\": \"parcoords\"}], \"pie\": [{\"automargin\": true, \"type\": \"pie\"}], \"scatter\": [{\"marker\": {\"colorbar\": {\"outlinewidth\": 0, \"ticks\": \"\"}}, \"type\": \"scatter\"}], \"scatter3d\": [{\"line\": {\"colorbar\": {\"outlinewidth\": 0, \"ticks\": \"\"}}, \"marker\": {\"colorbar\": {\"outlinewidth\": 0, \"ticks\": \"\"}}, \"type\": \"scatter3d\"}], \"scattercarpet\": [{\"marker\": {\"colorbar\": {\"outlinewidth\": 0, \"ticks\": \"\"}}, \"type\": \"scattercarpet\"}], \"scattergeo\": [{\"marker\": {\"colorbar\": {\"outlinewidth\": 0, \"ticks\": \"\"}}, \"type\": \"scattergeo\"}], \"scattergl\": [{\"marker\": {\"colorbar\": {\"outlinewidth\": 0, \"ticks\": \"\"}}, \"type\": \"scattergl\"}], \"scattermapbox\": [{\"marker\": {\"colorbar\": {\"outlinewidth\": 0, \"ticks\": \"\"}}, \"type\": \"scattermapbox\"}], \"scatterpolar\": [{\"marker\": {\"colorbar\": {\"outlinewidth\": 0, \"ticks\": \"\"}}, \"type\": \"scatterpolar\"}], \"scatterpolargl\": [{\"marker\": {\"colorbar\": {\"outlinewidth\": 0, \"ticks\": \"\"}}, \"type\": \"scatterpolargl\"}], \"scatterternary\": [{\"marker\": {\"colorbar\": {\"outlinewidth\": 0, \"ticks\": \"\"}}, \"type\": \"scatterternary\"}], \"surface\": [{\"colorbar\": {\"outlinewidth\": 0, \"ticks\": \"\"}, \"colorscale\": [[0.0, \"#0d0887\"], [0.1111111111111111, \"#46039f\"], [0.2222222222222222, \"#7201a8\"], [0.3333333333333333, \"#9c179e\"], [0.4444444444444444, \"#bd3786\"], [0.5555555555555556, \"#d8576b\"], [0.6666666666666666, \"#ed7953\"], [0.7777777777777778, \"#fb9f3a\"], [0.8888888888888888, \"#fdca26\"], [1.0, \"#f0f921\"]], \"type\": \"surface\"}], \"table\": [{\"cells\": {\"fill\": {\"color\": \"#EBF0F8\"}, \"line\": {\"color\": \"white\"}}, \"header\": {\"fill\": {\"color\": \"#C8D4E3\"}, \"line\": {\"color\": \"white\"}}, \"type\": \"table\"}]}, \"layout\": {\"annotationdefaults\": {\"arrowcolor\": \"#2a3f5f\", \"arrowhead\": 0, \"arrowwidth\": 1}, \"coloraxis\": {\"colorbar\": {\"outlinewidth\": 0, \"ticks\": \"\"}}, \"colorscale\": {\"diverging\": [[0, \"#8e0152\"], [0.1, \"#c51b7d\"], [0.2, \"#de77ae\"], [0.3, \"#f1b6da\"], [0.4, \"#fde0ef\"], [0.5, \"#f7f7f7\"], [0.6, \"#e6f5d0\"], [0.7, \"#b8e186\"], [0.8, \"#7fbc41\"], [0.9, \"#4d9221\"], [1, \"#276419\"]], \"sequential\": [[0.0, \"#0d0887\"], [0.1111111111111111, \"#46039f\"], [0.2222222222222222, \"#7201a8\"], [0.3333333333333333, \"#9c179e\"], [0.4444444444444444, \"#bd3786\"], [0.5555555555555556, \"#d8576b\"], [0.6666666666666666, \"#ed7953\"], [0.7777777777777778, \"#fb9f3a\"], [0.8888888888888888, \"#fdca26\"], [1.0, \"#f0f921\"]], \"sequentialminus\": [[0.0, \"#0d0887\"], [0.1111111111111111, \"#46039f\"], [0.2222222222222222, \"#7201a8\"], [0.3333333333333333, \"#9c179e\"], [0.4444444444444444, \"#bd3786\"], [0.5555555555555556, \"#d8576b\"], [0.6666666666666666, \"#ed7953\"], [0.7777777777777778, \"#fb9f3a\"], [0.8888888888888888, \"#fdca26\"], [1.0, \"#f0f921\"]]}, \"colorway\": [\"#636efa\", \"#EF553B\", \"#00cc96\", \"#ab63fa\", \"#FFA15A\", \"#19d3f3\", \"#FF6692\", \"#B6E880\", \"#FF97FF\", \"#FECB52\"], \"font\": {\"color\": \"#2a3f5f\"}, \"geo\": {\"bgcolor\": \"white\", \"lakecolor\": \"white\", \"landcolor\": \"#E5ECF6\", \"showlakes\": true, \"showland\": true, \"subunitcolor\": \"white\"}, \"hoverlabel\": {\"align\": \"left\"}, \"hovermode\": \"closest\", \"mapbox\": {\"style\": \"light\"}, \"paper_bgcolor\": \"white\", \"plot_bgcolor\": \"#E5ECF6\", \"polar\": {\"angularaxis\": {\"gridcolor\": \"white\", \"linecolor\": \"white\", \"ticks\": \"\"}, \"bgcolor\": \"#E5ECF6\", \"radialaxis\": {\"gridcolor\": \"white\", \"linecolor\": \"white\", \"ticks\": \"\"}}, \"scene\": {\"xaxis\": {\"backgroundcolor\": \"#E5ECF6\", \"gridcolor\": \"white\", \"gridwidth\": 2, \"linecolor\": \"white\", \"showbackground\": true, \"ticks\": \"\", \"zerolinecolor\": \"white\"}, \"yaxis\": {\"backgroundcolor\": \"#E5ECF6\", \"gridcolor\": \"white\", \"gridwidth\": 2, \"linecolor\": \"white\", \"showbackground\": true, \"ticks\": \"\", \"zerolinecolor\": \"white\"}, \"zaxis\": {\"backgroundcolor\": \"#E5ECF6\", \"gridcolor\": \"white\", \"gridwidth\": 2, \"linecolor\": \"white\", \"showbackground\": true, \"ticks\": \"\", \"zerolinecolor\": \"white\"}}, \"shapedefaults\": {\"line\": {\"color\": \"#2a3f5f\"}}, \"ternary\": {\"aaxis\": {\"gridcolor\": \"white\", \"linecolor\": \"white\", \"ticks\": \"\"}, \"baxis\": {\"gridcolor\": \"white\", \"linecolor\": \"white\", \"ticks\": \"\"}, \"bgcolor\": \"#E5ECF6\", \"caxis\": {\"gridcolor\": \"white\", \"linecolor\": \"white\", \"ticks\": \"\"}}, \"title\": {\"x\": 0.05}, \"xaxis\": {\"automargin\": true, \"gridcolor\": \"white\", \"linecolor\": \"white\", \"ticks\": \"\", \"title\": {\"standoff\": 15}, \"zerolinecolor\": \"white\", \"zerolinewidth\": 2}, \"yaxis\": {\"automargin\": true, \"gridcolor\": \"white\", \"linecolor\": \"white\", \"ticks\": \"\", \"title\": {\"standoff\": 15}, \"zerolinecolor\": \"white\", \"zerolinewidth\": 2}}}},\n",
              "                        {\"responsive\": true}\n",
              "                    ).then(function(){\n",
              "                            \n",
              "var gd = document.getElementById('a08f0d15-1582-4547-9dd9-4ebd0e52c051');\n",
              "var x = new MutationObserver(function (mutations, observer) {{\n",
              "        var display = window.getComputedStyle(gd).display;\n",
              "        if (!display || display === 'none') {{\n",
              "            console.log([gd, 'removed!']);\n",
              "            Plotly.purge(gd);\n",
              "            observer.disconnect();\n",
              "        }}\n",
              "}});\n",
              "\n",
              "// Listen for the removal of the full notebook cells\n",
              "var notebookContainer = gd.closest('#notebook-container');\n",
              "if (notebookContainer) {{\n",
              "    x.observe(notebookContainer, {childList: true});\n",
              "}}\n",
              "\n",
              "// Listen for the clearing of the current output cell\n",
              "var outputEl = gd.closest('.output');\n",
              "if (outputEl) {{\n",
              "    x.observe(outputEl, {childList: true});\n",
              "}}\n",
              "\n",
              "                        })\n",
              "                };\n",
              "                \n",
              "            </script>\n",
              "        </div>\n",
              "</body>\n",
              "</html>"
            ]
          },
          "metadata": {
            "tags": []
          }
        }
      ]
    },
    {
      "cell_type": "code",
      "metadata": {
        "id": "kHVInComfzxu",
        "colab_type": "code",
        "outputId": "3f411a30-0d8e-458e-e0c6-32d36443eb1c",
        "colab": {
          "base_uri": "https://localhost:8080/",
          "height": 542
        }
      },
      "source": [
        "px.scatter_3d(mixed_df, x='Male', y='Life expectancy(In Years)', z='Per Capita Income(In USD)',color=mixed_df['Male'],hover_data=['District'])\n",
        "# fig.update_layout(\n",
        "#     title=\"Per Capita, Life Expectancy vs Male Literacy\",\n",
        "#     font=dict(\n",
        "#         family=\"Courier New, monospace\",\n",
        "#         size=10,\n",
        "#         color=\"#7f7f7f\"\n",
        "#     ),\n",
        "# )"
      ],
      "execution_count": 74,
      "outputs": [
        {
          "output_type": "display_data",
          "data": {
            "text/html": [
              "<html>\n",
              "<head><meta charset=\"utf-8\" /></head>\n",
              "<body>\n",
              "    <div>\n",
              "            <script src=\"https://cdnjs.cloudflare.com/ajax/libs/mathjax/2.7.5/MathJax.js?config=TeX-AMS-MML_SVG\"></script><script type=\"text/javascript\">if (window.MathJax) {MathJax.Hub.Config({SVG: {font: \"STIX-Web\"}});}</script>\n",
              "                <script type=\"text/javascript\">window.PlotlyConfig = {MathJaxConfig: 'local'};</script>\n",
              "        <script src=\"https://cdn.plot.ly/plotly-latest.min.js\"></script>    \n",
              "            <div id=\"9b717988-3166-4070-8e0d-bf3bb13e21cd\" class=\"plotly-graph-div\" style=\"height:525px; width:100%;\"></div>\n",
              "            <script type=\"text/javascript\">\n",
              "                \n",
              "                    window.PLOTLYENV=window.PLOTLYENV || {};\n",
              "                    \n",
              "                if (document.getElementById(\"9b717988-3166-4070-8e0d-bf3bb13e21cd\")) {\n",
              "                    Plotly.newPlot(\n",
              "                        '9b717988-3166-4070-8e0d-bf3bb13e21cd',\n",
              "                        [{\"customdata\": [[\"Kathmandu\"], [\"Lalitpur\"], [\"Kaski\"], [\"Bhaktapur\"], [\"Ilam\"], [\"Chitwan\"], [\"Syangja\"], [\"Palpa\"], [\"Jhapa\"], [\"Manang\"], [\"Tanahu\"], [\"Tehrathum\"], [\"Dhankuta\"], [\"Parbat\"], [\"Surkhet\"], [\"Arghakhanchi\"], [\"Gulmi\"], [\"Panchthar\"], [\"Baglung\"], [\"Myagdi\"], [\"Taplejung\"], [\"Lamjung\"], [\"Nawalparasi\"], [\"Kanchanpur\"], [\"Morang\"], [\"Dang\"], [\"Kavrepalanchok\"], [\"Rupandehi\"], [\"Sankhuwasabha\"], [\"Bhojpur\"], [\"Khotang\"], [\"Udayapur\"], [\"Sunsari\"], [\"Makwanpur\"], [\"Pyuthan\"], [\"Gorkha\"], [\"Kailali\"], [\"Mustang\"], [\"Bardiya\"], [\"Darchula\"], [\"Dadeldhura\"], [\"Okhaldhunga\"], [\"Solukhumbu\"], [\"Salyan\"], [\"Baitadi\"], [\"Dhading\"], [\"Dolakha\"], [\"Dailekh\"], [\"Banke\"], [\"Ramechhap\"], [\"Rukum\"], [\"Sindhuli\"], [\"Rolpa\"], [\"Nuwakot\"], [\"Sindhupalchok\"], [\"Jajarkot\"], [\"Kalikot\"], [\"Doti\"], [\"Parsa\"], [\"Achham\"], [\"Bajura\"], [\"Bajhang\"], [\"Kapilbastu\"], [\"Jumla\"], [\"Saptari\"], [\"Dolpa\"], [\"Rasuwa\"], [\"Bara\"], [\"Mugu\"], [\"Dhanusa\"], [\"Siraha\"], [\"Humla\"], [\"Mahottari\"], [\"Sarlahi\"], [\"Rautahat\"]], \"hoverlabel\": {\"namelength\": 0}, \"hovertemplate\": \"Male=%{marker.color}<br>Life expectancy(In Years)=%{y}<br>Per Capita Income(In USD)=%{z}<br>District=%{customdata[0]}\", \"legendgroup\": \"\", \"marker\": {\"color\": [92.2, 90.1, 90.1, 90.5, 84.2, 83.9, 86.1, 84.9, 82.3, 83.0, 83.7, 83.5, 82.4, 83.4, 82.0, 81.8, 81.6, 80.3, 80.6, 81.1, 79.3, 80.7, 79.9, 81.3, 78.7, 78.9, 79.6, 79.2, 77.5, 78.4, 77.7, 77.2, 77.0, 75.4, 78.2, 75.1, 76.2, 75.4, 73.5, 79.3, 79.7, 74.3, 73.4, 73.9, 79.0, 71.1, 73.3, 72.8, 70.0, 72.6, 71.2, 69.8, 71.5, 68.0, 68.0, 65.9, 67.9, 73.4, 66.9, 70.7, 68.8, 73.0, 64.9, 68.2, 67.0, 67.9, 60.9, 62.8, 65.2, 60.6, 61.9, 62.1, 56.6, 55.8, 50.9], \"coloraxis\": \"coloraxis\", \"symbol\": \"circle\"}, \"mode\": \"markers\", \"name\": \"\", \"scene\": \"scene\", \"showlegend\": false, \"type\": \"scatter3d\", \"x\": [92.2, 90.1, 90.1, 90.5, 84.2, 83.9, 86.1, 84.9, 82.3, 83.0, 83.7, 83.5, 82.4, 83.4, 82.0, 81.8, 81.6, 80.3, 80.6, 81.1, 79.3, 80.7, 79.9, 81.3, 78.7, 78.9, 79.6, 79.2, 77.5, 78.4, 77.7, 77.2, 77.0, 75.4, 78.2, 75.1, 76.2, 75.4, 73.5, 79.3, 79.7, 74.3, 73.4, 73.9, 79.0, 71.1, 73.3, 72.8, 70.0, 72.6, 71.2, 69.8, 71.5, 68.0, 68.0, 65.9, 67.9, 73.4, 66.9, 70.7, 68.8, 73.0, 64.9, 68.2, 67.0, 67.9, 60.9, 62.8, 65.2, 60.6, 61.9, 62.1, 56.6, 55.8, 50.9], \"y\": [68.55, 70.3, 70.51, 70.48, 67.95, 69.78, 69.68, 68.27, 67.29, 65.04, 70.14, 68.05, 69.04, 70.55, 67.28, 68.56, 68.09, 68.12, 68.83, 70.05, 65.83, 70.94, 67.81, 67.08, 69.05, 67.33, 70.86, 68.29, 68.42, 68.33, 70.24, 69.29, 68.33, 68.08, 64.33, 71.7, 66.46, 65.04, 67.26, 69.05, 67.9, 70.56, 68.83, 68.8, 68.88, 70.86, 70.85, 68.03, 68.35, 72.9, 68.39, 70.04, 66.28, 70.81, 69.57, 66.45, 63.64, 66.74, 70.25, 67.14, 63.92, 65.22, 67.56, 63.14, 71.34, 61.2, 70.91, 70.5, 65.57, 69.53, 71.29, 64.15, 69.47, 70.06, 70.99], \"z\": [2764, 1894, 1561, 1379, 1260, 1537, 1215, 985, 1226, 3166, 1072, 1419, 1257, 1013, 911, 909, 752, 1082, 868, 1028, 1313, 1186, 1157, 938, 1251, 1127, 1399, 1123, 1193, 999, 1132, 920, 1104, 1410, 681, 1039, 942, 1922, 1086, 627, 764, 957, 1841, 786, 573, 982, 922, 684, 1133, 951, 782, 822, 643, 1086, 1110, 611, 578, 774, 1223, 536, 523, 487, 990, 1007, 801, 1040, 1520, 1480, 866, 938, 689, 794, 681, 809, 757]}],\n",
              "                        {\"coloraxis\": {\"colorbar\": {\"title\": {\"text\": \"Male\"}}, \"colorscale\": [[0.0, \"#0d0887\"], [0.1111111111111111, \"#46039f\"], [0.2222222222222222, \"#7201a8\"], [0.3333333333333333, \"#9c179e\"], [0.4444444444444444, \"#bd3786\"], [0.5555555555555556, \"#d8576b\"], [0.6666666666666666, \"#ed7953\"], [0.7777777777777778, \"#fb9f3a\"], [0.8888888888888888, \"#fdca26\"], [1.0, \"#f0f921\"]]}, \"legend\": {\"tracegroupgap\": 0}, \"margin\": {\"t\": 60}, \"scene\": {\"domain\": {\"x\": [0.0, 1.0], \"y\": [0.0, 1.0]}, \"xaxis\": {\"title\": {\"text\": \"Male\"}}, \"yaxis\": {\"title\": {\"text\": \"Life expectancy(In Years)\"}}, \"zaxis\": {\"title\": {\"text\": \"Per Capita Income(In USD)\"}}}, \"template\": {\"data\": {\"bar\": [{\"error_x\": {\"color\": \"#2a3f5f\"}, \"error_y\": {\"color\": \"#2a3f5f\"}, \"marker\": {\"line\": {\"color\": \"#E5ECF6\", \"width\": 0.5}}, \"type\": \"bar\"}], \"barpolar\": [{\"marker\": {\"line\": {\"color\": \"#E5ECF6\", \"width\": 0.5}}, \"type\": \"barpolar\"}], \"carpet\": [{\"aaxis\": {\"endlinecolor\": \"#2a3f5f\", \"gridcolor\": \"white\", \"linecolor\": \"white\", \"minorgridcolor\": \"white\", \"startlinecolor\": \"#2a3f5f\"}, \"baxis\": {\"endlinecolor\": \"#2a3f5f\", \"gridcolor\": \"white\", \"linecolor\": \"white\", \"minorgridcolor\": \"white\", \"startlinecolor\": \"#2a3f5f\"}, \"type\": \"carpet\"}], \"choropleth\": [{\"colorbar\": {\"outlinewidth\": 0, \"ticks\": \"\"}, \"type\": \"choropleth\"}], \"contour\": [{\"colorbar\": {\"outlinewidth\": 0, \"ticks\": \"\"}, \"colorscale\": [[0.0, \"#0d0887\"], [0.1111111111111111, \"#46039f\"], [0.2222222222222222, \"#7201a8\"], [0.3333333333333333, \"#9c179e\"], [0.4444444444444444, \"#bd3786\"], [0.5555555555555556, \"#d8576b\"], [0.6666666666666666, \"#ed7953\"], [0.7777777777777778, \"#fb9f3a\"], [0.8888888888888888, \"#fdca26\"], [1.0, \"#f0f921\"]], \"type\": \"contour\"}], \"contourcarpet\": [{\"colorbar\": {\"outlinewidth\": 0, \"ticks\": \"\"}, \"type\": \"contourcarpet\"}], \"heatmap\": [{\"colorbar\": {\"outlinewidth\": 0, \"ticks\": \"\"}, \"colorscale\": [[0.0, \"#0d0887\"], [0.1111111111111111, \"#46039f\"], [0.2222222222222222, \"#7201a8\"], [0.3333333333333333, \"#9c179e\"], [0.4444444444444444, \"#bd3786\"], [0.5555555555555556, \"#d8576b\"], [0.6666666666666666, \"#ed7953\"], [0.7777777777777778, \"#fb9f3a\"], [0.8888888888888888, \"#fdca26\"], [1.0, \"#f0f921\"]], \"type\": \"heatmap\"}], \"heatmapgl\": [{\"colorbar\": {\"outlinewidth\": 0, \"ticks\": \"\"}, \"colorscale\": [[0.0, \"#0d0887\"], [0.1111111111111111, \"#46039f\"], [0.2222222222222222, \"#7201a8\"], [0.3333333333333333, \"#9c179e\"], [0.4444444444444444, \"#bd3786\"], [0.5555555555555556, \"#d8576b\"], [0.6666666666666666, \"#ed7953\"], [0.7777777777777778, \"#fb9f3a\"], [0.8888888888888888, \"#fdca26\"], [1.0, \"#f0f921\"]], \"type\": \"heatmapgl\"}], \"histogram\": [{\"marker\": {\"colorbar\": {\"outlinewidth\": 0, \"ticks\": \"\"}}, \"type\": \"histogram\"}], \"histogram2d\": [{\"colorbar\": {\"outlinewidth\": 0, \"ticks\": \"\"}, \"colorscale\": [[0.0, \"#0d0887\"], [0.1111111111111111, \"#46039f\"], [0.2222222222222222, \"#7201a8\"], [0.3333333333333333, \"#9c179e\"], [0.4444444444444444, \"#bd3786\"], [0.5555555555555556, \"#d8576b\"], [0.6666666666666666, \"#ed7953\"], [0.7777777777777778, \"#fb9f3a\"], [0.8888888888888888, \"#fdca26\"], [1.0, \"#f0f921\"]], \"type\": \"histogram2d\"}], \"histogram2dcontour\": [{\"colorbar\": {\"outlinewidth\": 0, \"ticks\": \"\"}, \"colorscale\": [[0.0, \"#0d0887\"], [0.1111111111111111, \"#46039f\"], [0.2222222222222222, \"#7201a8\"], [0.3333333333333333, \"#9c179e\"], [0.4444444444444444, \"#bd3786\"], [0.5555555555555556, \"#d8576b\"], [0.6666666666666666, \"#ed7953\"], [0.7777777777777778, \"#fb9f3a\"], [0.8888888888888888, \"#fdca26\"], [1.0, \"#f0f921\"]], \"type\": \"histogram2dcontour\"}], \"mesh3d\": [{\"colorbar\": {\"outlinewidth\": 0, \"ticks\": \"\"}, \"type\": \"mesh3d\"}], \"parcoords\": [{\"line\": {\"colorbar\": {\"outlinewidth\": 0, \"ticks\": \"\"}}, \"type\": \"parcoords\"}], \"pie\": [{\"automargin\": true, \"type\": \"pie\"}], \"scatter\": [{\"marker\": {\"colorbar\": {\"outlinewidth\": 0, \"ticks\": \"\"}}, \"type\": \"scatter\"}], \"scatter3d\": [{\"line\": {\"colorbar\": {\"outlinewidth\": 0, \"ticks\": \"\"}}, \"marker\": {\"colorbar\": {\"outlinewidth\": 0, \"ticks\": \"\"}}, \"type\": \"scatter3d\"}], \"scattercarpet\": [{\"marker\": {\"colorbar\": {\"outlinewidth\": 0, \"ticks\": \"\"}}, \"type\": \"scattercarpet\"}], \"scattergeo\": [{\"marker\": {\"colorbar\": {\"outlinewidth\": 0, \"ticks\": \"\"}}, \"type\": \"scattergeo\"}], \"scattergl\": [{\"marker\": {\"colorbar\": {\"outlinewidth\": 0, \"ticks\": \"\"}}, \"type\": \"scattergl\"}], \"scattermapbox\": [{\"marker\": {\"colorbar\": {\"outlinewidth\": 0, \"ticks\": \"\"}}, \"type\": \"scattermapbox\"}], \"scatterpolar\": [{\"marker\": {\"colorbar\": {\"outlinewidth\": 0, \"ticks\": \"\"}}, \"type\": \"scatterpolar\"}], \"scatterpolargl\": [{\"marker\": {\"colorbar\": {\"outlinewidth\": 0, \"ticks\": \"\"}}, \"type\": \"scatterpolargl\"}], \"scatterternary\": [{\"marker\": {\"colorbar\": {\"outlinewidth\": 0, \"ticks\": \"\"}}, \"type\": \"scatterternary\"}], \"surface\": [{\"colorbar\": {\"outlinewidth\": 0, \"ticks\": \"\"}, \"colorscale\": [[0.0, \"#0d0887\"], [0.1111111111111111, \"#46039f\"], [0.2222222222222222, \"#7201a8\"], [0.3333333333333333, \"#9c179e\"], [0.4444444444444444, \"#bd3786\"], [0.5555555555555556, \"#d8576b\"], [0.6666666666666666, \"#ed7953\"], [0.7777777777777778, \"#fb9f3a\"], [0.8888888888888888, \"#fdca26\"], [1.0, \"#f0f921\"]], \"type\": \"surface\"}], \"table\": [{\"cells\": {\"fill\": {\"color\": \"#EBF0F8\"}, \"line\": {\"color\": \"white\"}}, \"header\": {\"fill\": {\"color\": \"#C8D4E3\"}, \"line\": {\"color\": \"white\"}}, \"type\": \"table\"}]}, \"layout\": {\"annotationdefaults\": {\"arrowcolor\": \"#2a3f5f\", \"arrowhead\": 0, \"arrowwidth\": 1}, \"coloraxis\": {\"colorbar\": {\"outlinewidth\": 0, \"ticks\": \"\"}}, \"colorscale\": {\"diverging\": [[0, \"#8e0152\"], [0.1, \"#c51b7d\"], [0.2, \"#de77ae\"], [0.3, \"#f1b6da\"], [0.4, \"#fde0ef\"], [0.5, \"#f7f7f7\"], [0.6, \"#e6f5d0\"], [0.7, \"#b8e186\"], [0.8, \"#7fbc41\"], [0.9, \"#4d9221\"], [1, \"#276419\"]], \"sequential\": [[0.0, \"#0d0887\"], [0.1111111111111111, \"#46039f\"], [0.2222222222222222, \"#7201a8\"], [0.3333333333333333, \"#9c179e\"], [0.4444444444444444, \"#bd3786\"], [0.5555555555555556, \"#d8576b\"], [0.6666666666666666, \"#ed7953\"], [0.7777777777777778, \"#fb9f3a\"], [0.8888888888888888, \"#fdca26\"], [1.0, \"#f0f921\"]], \"sequentialminus\": [[0.0, \"#0d0887\"], [0.1111111111111111, \"#46039f\"], [0.2222222222222222, \"#7201a8\"], [0.3333333333333333, \"#9c179e\"], [0.4444444444444444, \"#bd3786\"], [0.5555555555555556, \"#d8576b\"], [0.6666666666666666, \"#ed7953\"], [0.7777777777777778, \"#fb9f3a\"], [0.8888888888888888, \"#fdca26\"], [1.0, \"#f0f921\"]]}, \"colorway\": [\"#636efa\", \"#EF553B\", \"#00cc96\", \"#ab63fa\", \"#FFA15A\", \"#19d3f3\", \"#FF6692\", \"#B6E880\", \"#FF97FF\", \"#FECB52\"], \"font\": {\"color\": \"#2a3f5f\"}, \"geo\": {\"bgcolor\": \"white\", \"lakecolor\": \"white\", \"landcolor\": \"#E5ECF6\", \"showlakes\": true, \"showland\": true, \"subunitcolor\": \"white\"}, \"hoverlabel\": {\"align\": \"left\"}, \"hovermode\": \"closest\", \"mapbox\": {\"style\": \"light\"}, \"paper_bgcolor\": \"white\", \"plot_bgcolor\": \"#E5ECF6\", \"polar\": {\"angularaxis\": {\"gridcolor\": \"white\", \"linecolor\": \"white\", \"ticks\": \"\"}, \"bgcolor\": \"#E5ECF6\", \"radialaxis\": {\"gridcolor\": \"white\", \"linecolor\": \"white\", \"ticks\": \"\"}}, \"scene\": {\"xaxis\": {\"backgroundcolor\": \"#E5ECF6\", \"gridcolor\": \"white\", \"gridwidth\": 2, \"linecolor\": \"white\", \"showbackground\": true, \"ticks\": \"\", \"zerolinecolor\": \"white\"}, \"yaxis\": {\"backgroundcolor\": \"#E5ECF6\", \"gridcolor\": \"white\", \"gridwidth\": 2, \"linecolor\": \"white\", \"showbackground\": true, \"ticks\": \"\", \"zerolinecolor\": \"white\"}, \"zaxis\": {\"backgroundcolor\": \"#E5ECF6\", \"gridcolor\": \"white\", \"gridwidth\": 2, \"linecolor\": \"white\", \"showbackground\": true, \"ticks\": \"\", \"zerolinecolor\": \"white\"}}, \"shapedefaults\": {\"line\": {\"color\": \"#2a3f5f\"}}, \"ternary\": {\"aaxis\": {\"gridcolor\": \"white\", \"linecolor\": \"white\", \"ticks\": \"\"}, \"baxis\": {\"gridcolor\": \"white\", \"linecolor\": \"white\", \"ticks\": \"\"}, \"bgcolor\": \"#E5ECF6\", \"caxis\": {\"gridcolor\": \"white\", \"linecolor\": \"white\", \"ticks\": \"\"}}, \"title\": {\"x\": 0.05}, \"xaxis\": {\"automargin\": true, \"gridcolor\": \"white\", \"linecolor\": \"white\", \"ticks\": \"\", \"title\": {\"standoff\": 15}, \"zerolinecolor\": \"white\", \"zerolinewidth\": 2}, \"yaxis\": {\"automargin\": true, \"gridcolor\": \"white\", \"linecolor\": \"white\", \"ticks\": \"\", \"title\": {\"standoff\": 15}, \"zerolinecolor\": \"white\", \"zerolinewidth\": 2}}}},\n",
              "                        {\"responsive\": true}\n",
              "                    ).then(function(){\n",
              "                            \n",
              "var gd = document.getElementById('9b717988-3166-4070-8e0d-bf3bb13e21cd');\n",
              "var x = new MutationObserver(function (mutations, observer) {{\n",
              "        var display = window.getComputedStyle(gd).display;\n",
              "        if (!display || display === 'none') {{\n",
              "            console.log([gd, 'removed!']);\n",
              "            Plotly.purge(gd);\n",
              "            observer.disconnect();\n",
              "        }}\n",
              "}});\n",
              "\n",
              "// Listen for the removal of the full notebook cells\n",
              "var notebookContainer = gd.closest('#notebook-container');\n",
              "if (notebookContainer) {{\n",
              "    x.observe(notebookContainer, {childList: true});\n",
              "}}\n",
              "\n",
              "// Listen for the clearing of the current output cell\n",
              "var outputEl = gd.closest('.output');\n",
              "if (outputEl) {{\n",
              "    x.observe(outputEl, {childList: true});\n",
              "}}\n",
              "\n",
              "                        })\n",
              "                };\n",
              "                \n",
              "            </script>\n",
              "        </div>\n",
              "</body>\n",
              "</html>"
            ]
          },
          "metadata": {
            "tags": []
          }
        }
      ]
    },
    {
      "cell_type": "markdown",
      "metadata": {
        "id": "3CWxYr1lFUx0",
        "colab_type": "text"
      },
      "source": [
        "## Standarization"
      ]
    },
    {
      "cell_type": "code",
      "metadata": {
        "id": "RSVhvJ_yP0CQ",
        "colab_type": "code",
        "colab": {}
      },
      "source": [
        ""
      ],
      "execution_count": 0,
      "outputs": []
    },
    {
      "cell_type": "code",
      "metadata": {
        "id": "j-gM7nIMFEL1",
        "colab_type": "code",
        "colab": {}
      },
      "source": [
        "from sklearn.preprocessing import StandardScaler\n",
        "\n",
        "def scaling(data,column):\n",
        "  scaler=StandardScaler()\n",
        "  X=data.drop(columns=[column])\n",
        "  scaler.fit(X)\n",
        "  scaled_data=scaler.transform(X)\n",
        "  return scaled_data,X\n",
        "\n",
        "scaled_merged,X_merged=scaling(mixed_df.drop(columns=['Total']),'District')\n",
        "scaled_life,X_life=scaling(life_df,'District')\n",
        "scaled_lite,X_lite=scaling(lite_df.drop(columns=['Total']),'District')"
      ],
      "execution_count": 0,
      "outputs": []
    },
    {
      "cell_type": "code",
      "metadata": {
        "id": "WqrRtVNwguDZ",
        "colab_type": "code",
        "outputId": "9fee7c71-1035-4b9d-b7c3-9ee3d509dccb",
        "colab": {
          "base_uri": "https://localhost:8080/",
          "height": 69
        }
      },
      "source": [
        "print('Scaled Merged Dataset: ',scaled_merged.shape)\n",
        "print('Scaled Life E Dataset: ',scaled_life.shape)\n",
        "print('Scaled Litera Dataset: ',scaled_lite.shape)"
      ],
      "execution_count": 76,
      "outputs": [
        {
          "output_type": "stream",
          "text": [
            "Scaled Merged Dataset:  (75, 4)\n",
            "Scaled Life E Dataset:  (75, 2)\n",
            "Scaled Litera Dataset:  (75, 2)\n"
          ],
          "name": "stdout"
        }
      ]
    },
    {
      "cell_type": "markdown",
      "metadata": {
        "id": "w_y1FqnzFYhz",
        "colab_type": "text"
      },
      "source": [
        "## Clustering"
      ]
    },
    {
      "cell_type": "code",
      "metadata": {
        "id": "hrTtA4-dFPee",
        "colab_type": "code",
        "colab": {}
      },
      "source": [
        "from sklearn.cluster import KMeans, DBSCAN\n",
        "from sklearn.neighbors import NearestNeighbors"
      ],
      "execution_count": 0,
      "outputs": []
    },
    {
      "cell_type": "code",
      "metadata": {
        "id": "BgUgo8GYFPh8",
        "colab_type": "code",
        "colab": {}
      },
      "source": [
        "def neigh(scaled_data,n_of_neigh):\n",
        "  neigh= NearestNeighbors(n_neighbors=n_of_neigh)\n",
        "  nbrs= neigh.fit(scaled_data)\n",
        "  distances, indices = nbrs.kneighbors(scaled_data)\n",
        "  print(distances.shape)\n",
        "  distances =np.sort(distances, axis =0)\n",
        "  distances_=distances[:,n_of_neigh-1]\n",
        "  return distances, indices, distances_"
      ],
      "execution_count": 0,
      "outputs": []
    },
    {
      "cell_type": "code",
      "metadata": {
        "id": "3CYFdtJiXyvH",
        "colab_type": "code",
        "outputId": "55864328-6be9-4ff2-9a0f-047c9e46d1c4",
        "colab": {
          "base_uri": "https://localhost:8080/",
          "height": 69
        }
      },
      "source": [
        "life_distances,life_indices,life_distances_=neigh(scaled_life,3)\n",
        "lite_distances,lite_indices,lite_distances_=neigh(scaled_lite,3)\n",
        "merged_distances,merged_indices,merged_distances_=neigh(scaled_merged,3)\n"
      ],
      "execution_count": 79,
      "outputs": [
        {
          "output_type": "stream",
          "text": [
            "(75, 3)\n",
            "(75, 3)\n",
            "(75, 3)\n"
          ],
          "name": "stdout"
        }
      ]
    },
    {
      "cell_type": "code",
      "metadata": {
        "id": "Gnl-K_UnFPld",
        "colab_type": "code",
        "outputId": "3e70b645-c68c-41bb-e261-0dc5e932748f",
        "colab": {
          "base_uri": "https://localhost:8080/",
          "height": 1000
        }
      },
      "source": [
        "def epsilon_plot(scaled_data,distances_):  \n",
        "  plt.plot(distances_)\n",
        "  plt.grid(color='grey', linestyle='-',axis='y',alpha=0.3)\n",
        "  plt.xlabel('Samples')\n",
        "  plt.ylabel('Epsilon Value')\n",
        "  plt.yticks(np.arange(0,3,0.25))\n",
        "  plt.show()\n",
        "\n",
        "plt.figure(figsize=(6,5))\n",
        "plt.title('Epsilon Plot for Literacy Dataset')\n",
        "epsilon_plot(scaled_lite,lite_distances_)\n",
        "\n",
        "plt.figure(figsize=(6,5))\n",
        "plt.title('Epsilon Plot for Life Expectancy Dataset')\n",
        "epsilon_plot(scaled_life,life_distances_)\n",
        "\n",
        "plt.figure(figsize=(6,5))\n",
        "plt.title('Epsilon Plot for HDI Dataset')\n",
        "epsilon_plot(scaled_merged,merged_distances_)\n",
        "\n"
      ],
      "execution_count": 80,
      "outputs": [
        {
          "output_type": "display_data",
          "data": {
            "image/png": "[encoded data removed]",
            "text/plain": [
              "<Figure size 432x360 with 1 Axes>"
            ]
          },
          "metadata": {
            "tags": [],
            "needs_background": "light"
          }
        },
        {
          "output_type": "display_data",
          "data": {
            "image/png": "[encoded data removed]",
            "text/plain": [
              "<Figure size 432x360 with 1 Axes>"
            ]
          },
          "metadata": {
            "tags": [],
            "needs_background": "light"
          }
        },
        {
          "output_type": "display_data",
          "data": {
            "image/png": "[encoded data removed]",
            "text/plain": [
              "<Figure size 432x360 with 1 Axes>"
            ]
          },
          "metadata": {
            "tags": [],
            "needs_background": "light"
          }
        }
      ]
    },
    {
      "cell_type": "code",
      "metadata": {
        "id": "kASCrXB2FPp4",
        "colab_type": "code",
        "colab": {}
      },
      "source": [
        "def dbscan(eps,min_samples,scaled_data,dataset):\n",
        "  dbscan=DBSCAN(eps=eps,min_samples=min_samples)\n",
        "  dbscan.fit(scaled_data)\n",
        "  dataset['DBSCAN Label']=dbscan.labels_\n",
        "  print(np.unique(dbscan.labels_))\n",
        "  return dbscan.labels_"
      ],
      "execution_count": 0,
      "outputs": []
    },
    {
      "cell_type": "code",
      "metadata": {
        "id": "liy7vlUPFPon",
        "colab_type": "code",
        "outputId": "f3110e44-1d32-4867-d568-deabea66201f",
        "colab": {
          "base_uri": "https://localhost:8080/",
          "height": 330
        }
      },
      "source": [
        "print('Lite Labels')\n",
        "lite_labels=dbscan(0.35,3,scaled_lite,lite_df)\n",
        "print(lite_labels)\n",
        "\n",
        "\n",
        "print('Life Labels')\n",
        "life_labels=dbscan(0.35,3,scaled_life,life_df)\n",
        "print(life_labels)\n",
        "\n",
        "print('Merged Labels')\n",
        "merged_labels=dbscan(0.45,3,scaled_merged,mixed_df)\n",
        "print(merged_labels)\n",
        "\n",
        "\n",
        "\n"
      ],
      "execution_count": 82,
      "outputs": [
        {
          "output_type": "stream",
          "text": [
            "Lite Labels\n",
            "[-1  0  1  2  3  4]\n",
            "[-1  0  0  0  1  1  1  1  1  1  1  1  1  1  1  1  1  1  1  1  1  1  1  1\n",
            "  1  1  1  1  1  1  1  1  1  1  1  1  1  1  1  2  2  1  1  1  2  1  1  1\n",
            "  1  1  1  1  1  1  1 -1  3  3  3  3  3  3  3  3  3  3 -1  4 -1  4  4 -1\n",
            " -1 -1 -1]\n",
            "Life Labels\n",
            "[-1  0  1  2  3]\n",
            "[-1 -1  0  0  0  1  2  1  2  1  1  1  1  2  2  2 -1  1  1  1  1  1  1  2\n",
            "  1  1  1  3  1  1  3  1  3 -1  1  1  1 -1  1  1  1  1  1  1  1  1  1  1\n",
            "  1  1  1  1  1  1  1  1  1  1 -1  1 -1  1 -1 -1 -1 -1 -1 -1 -1 -1 -1 -1\n",
            " -1 -1 -1]\n",
            "Merged Labels\n",
            "[-1  0  1  2  3  4]\n",
            "[-1 -1 -1 -1 -1 -1 -1 -1 -1 -1  0 -1 -1  0 -1  1  1  2  1  0 -1 -1  2 -1\n",
            "  2  2 -1  2  2  2 -1 -1  2 -1 -1 -1 -1 -1 -1 -1 -1  3 -1  4 -1  3  3  4\n",
            " -1 -1  4 -1 -1 -1 -1 -1 -1 -1 -1 -1 -1 -1 -1 -1 -1 -1 -1 -1 -1 -1 -1 -1\n",
            " -1 -1 -1]\n"
          ],
          "name": "stdout"
        }
      ]
    },
    {
      "cell_type": "code",
      "metadata": {
        "id": "Zi2UQWbCF6_1",
        "colab_type": "code",
        "outputId": "1b0ae9e5-0fae-4946-e68c-c1556dbf3404",
        "colab": {
          "base_uri": "https://localhost:8080/",
          "height": 241
        }
      },
      "source": [
        "pd.set_option(\"Max_rows\",100)\n",
        "mixed_df.sort_values(by='DBSCAN Label').head()"
      ],
      "execution_count": 83,
      "outputs": [
        {
          "output_type": "execute_result",
          "data": {
            "text/html": [
              "<div>\n",
              "<style scoped>\n",
              "    .dataframe tbody tr th:only-of-type {\n",
              "        vertical-align: middle;\n",
              "    }\n",
              "\n",
              "    .dataframe tbody tr th {\n",
              "        vertical-align: top;\n",
              "    }\n",
              "\n",
              "    .dataframe thead th {\n",
              "        text-align: right;\n",
              "    }\n",
              "</style>\n",
              "<table border=\"1\" class=\"dataframe\">\n",
              "  <thead>\n",
              "    <tr style=\"text-align: right;\">\n",
              "      <th></th>\n",
              "      <th>District</th>\n",
              "      <th>Total</th>\n",
              "      <th>Female</th>\n",
              "      <th>Male</th>\n",
              "      <th>Life expectancy(In Years)</th>\n",
              "      <th>Per Capita Income(In USD)</th>\n",
              "      <th>DBSCAN Label</th>\n",
              "    </tr>\n",
              "  </thead>\n",
              "  <tbody>\n",
              "    <tr>\n",
              "      <th>0</th>\n",
              "      <td>Kathmandu</td>\n",
              "      <td>86.3</td>\n",
              "      <td>79.8</td>\n",
              "      <td>92.2</td>\n",
              "      <td>68.55</td>\n",
              "      <td>2764</td>\n",
              "      <td>-1</td>\n",
              "    </tr>\n",
              "    <tr>\n",
              "      <th>36</th>\n",
              "      <td>Kailali</td>\n",
              "      <td>66.3</td>\n",
              "      <td>57.1</td>\n",
              "      <td>76.2</td>\n",
              "      <td>66.46</td>\n",
              "      <td>942</td>\n",
              "      <td>-1</td>\n",
              "    </tr>\n",
              "    <tr>\n",
              "      <th>73</th>\n",
              "      <td>Sarlahi</td>\n",
              "      <td>46.3</td>\n",
              "      <td>36.6</td>\n",
              "      <td>55.8</td>\n",
              "      <td>70.06</td>\n",
              "      <td>809</td>\n",
              "      <td>-1</td>\n",
              "    </tr>\n",
              "    <tr>\n",
              "      <th>38</th>\n",
              "      <td>Bardiya</td>\n",
              "      <td>65.4</td>\n",
              "      <td>57.9</td>\n",
              "      <td>73.5</td>\n",
              "      <td>67.26</td>\n",
              "      <td>1086</td>\n",
              "      <td>-1</td>\n",
              "    </tr>\n",
              "    <tr>\n",
              "      <th>39</th>\n",
              "      <td>Darchula</td>\n",
              "      <td>65.4</td>\n",
              "      <td>52.9</td>\n",
              "      <td>79.3</td>\n",
              "      <td>69.05</td>\n",
              "      <td>627</td>\n",
              "      <td>-1</td>\n",
              "    </tr>\n",
              "  </tbody>\n",
              "</table>\n",
              "</div>"
            ],
            "text/plain": [
              "     District  Total  ...  Per Capita Income(In USD)  DBSCAN Label\n",
              "0   Kathmandu   86.3  ...                       2764            -1\n",
              "36    Kailali   66.3  ...                        942            -1\n",
              "73    Sarlahi   46.3  ...                        809            -1\n",
              "38    Bardiya   65.4  ...                       1086            -1\n",
              "39   Darchula   65.4  ...                        627            -1\n",
              "\n",
              "[5 rows x 7 columns]"
            ]
          },
          "metadata": {
            "tags": []
          },
          "execution_count": 83
        }
      ]
    },
    {
      "cell_type": "code",
      "metadata": {
        "id": "lsPs_FKDCBmb",
        "colab_type": "code",
        "outputId": "d644c336-5476-42d5-e9e9-d6a191b91269",
        "colab": {
          "base_uri": "https://localhost:8080/",
          "height": 224
        }
      },
      "source": [
        "life_df.sort_values(by='DBSCAN Label').head()"
      ],
      "execution_count": 84,
      "outputs": [
        {
          "output_type": "execute_result",
          "data": {
            "text/html": [
              "<div>\n",
              "<style scoped>\n",
              "    .dataframe tbody tr th:only-of-type {\n",
              "        vertical-align: middle;\n",
              "    }\n",
              "\n",
              "    .dataframe tbody tr th {\n",
              "        vertical-align: top;\n",
              "    }\n",
              "\n",
              "    .dataframe thead th {\n",
              "        text-align: right;\n",
              "    }\n",
              "</style>\n",
              "<table border=\"1\" class=\"dataframe\">\n",
              "  <thead>\n",
              "    <tr style=\"text-align: right;\">\n",
              "      <th></th>\n",
              "      <th>District</th>\n",
              "      <th>Life expectancy(In Years)</th>\n",
              "      <th>Per Capita Income(In USD)</th>\n",
              "      <th>DBSCAN Label</th>\n",
              "    </tr>\n",
              "  </thead>\n",
              "  <tbody>\n",
              "    <tr>\n",
              "      <th>0</th>\n",
              "      <td>Ramechhap</td>\n",
              "      <td>72.90</td>\n",
              "      <td>951</td>\n",
              "      <td>-1</td>\n",
              "    </tr>\n",
              "    <tr>\n",
              "      <th>72</th>\n",
              "      <td>Kalikot</td>\n",
              "      <td>63.64</td>\n",
              "      <td>578</td>\n",
              "      <td>-1</td>\n",
              "    </tr>\n",
              "    <tr>\n",
              "      <th>71</th>\n",
              "      <td>Bajura</td>\n",
              "      <td>63.92</td>\n",
              "      <td>523</td>\n",
              "      <td>-1</td>\n",
              "    </tr>\n",
              "    <tr>\n",
              "      <th>70</th>\n",
              "      <td>Humla</td>\n",
              "      <td>64.15</td>\n",
              "      <td>794</td>\n",
              "      <td>-1</td>\n",
              "    </tr>\n",
              "    <tr>\n",
              "      <th>69</th>\n",
              "      <td>Pyuthan</td>\n",
              "      <td>64.33</td>\n",
              "      <td>681</td>\n",
              "      <td>-1</td>\n",
              "    </tr>\n",
              "  </tbody>\n",
              "</table>\n",
              "</div>"
            ],
            "text/plain": [
              "     District  ...  DBSCAN Label\n",
              "0   Ramechhap  ...            -1\n",
              "72    Kalikot  ...            -1\n",
              "71     Bajura  ...            -1\n",
              "70      Humla  ...            -1\n",
              "69    Pyuthan  ...            -1\n",
              "\n",
              "[5 rows x 4 columns]"
            ]
          },
          "metadata": {
            "tags": []
          },
          "execution_count": 84
        }
      ]
    },
    {
      "cell_type": "code",
      "metadata": {
        "id": "TZEz-L01F9R1",
        "colab_type": "code",
        "outputId": "26fa5ade-e69d-4a99-91fe-275dc3303749",
        "colab": {
          "base_uri": "https://localhost:8080/",
          "height": 54
        }
      },
      "source": [
        "str(life_df['DBSCAN Label'].tolist())"
      ],
      "execution_count": 85,
      "outputs": [
        {
          "output_type": "execute_result",
          "data": {
            "text/plain": [
              "'[-1, -1, 0, 0, 0, 1, 2, 1, 2, 1, 1, 1, 1, 2, 2, 2, -1, 1, 1, 1, 1, 1, 1, 2, 1, 1, 1, 3, 1, 1, 3, 1, 3, -1, 1, 1, 1, -1, 1, 1, 1, 1, 1, 1, 1, 1, 1, 1, 1, 1, 1, 1, 1, 1, 1, 1, 1, 1, -1, 1, -1, 1, -1, -1, -1, -1, -1, -1, -1, -1, -1, -1, -1, -1, -1]'"
            ]
          },
          "metadata": {
            "tags": []
          },
          "execution_count": 85
        }
      ]
    },
    {
      "cell_type": "code",
      "metadata": {
        "id": "jiad3kDOEgWT",
        "colab_type": "code",
        "colab": {}
      },
      "source": [
        "colors = ['purple', 'red', 'green', 'yellow', 'skyblue', 'deeppink',  'orange', 'black']\n",
        "vectorizer = np.vectorize(lambda x: colors[x % len(colors)])"
      ],
      "execution_count": 0,
      "outputs": []
    },
    {
      "cell_type": "code",
      "metadata": {
        "id": "RO7FCAoQGJF6",
        "colab_type": "code",
        "outputId": "573f70d3-00e5-4803-d95e-fde79de07bdd",
        "colab": {
          "base_uri": "https://localhost:8080/",
          "height": 417
        }
      },
      "source": [
        "\n",
        "fig=px.scatter(life_df, x= 'Life expectancy(In Years)',y='Per Capita Income(In USD)',color='DBSCAN Label',hover_data=['District'],width=600, height=400)\n",
        "fig.update_layout(\n",
        "    title=\"Clusters by DBSCAN on Life Expectancy and Per Capita dataset\",\n",
        "    xaxis_title=\"Life expectancy(In Years)\",\n",
        "    yaxis_title=\"Per Capita Income(In USD)\",\n",
        "    font=dict(\n",
        "        family=\"Courier New, monospace\",\n",
        "        size=10,\n",
        "        color=\"#7f7f7f\"\n",
        "    ),\n",
        ")\n",
        "fig.show()"
      ],
      "execution_count": 87,
      "outputs": [
        {
          "output_type": "display_data",
          "data": {
            "text/html": [
              "<html>\n",
              "<head><meta charset=\"utf-8\" /></head>\n",
              "<body>\n",
              "    <div>\n",
              "            <script src=\"https://cdnjs.cloudflare.com/ajax/libs/mathjax/2.7.5/MathJax.js?config=TeX-AMS-MML_SVG\"></script><script type=\"text/javascript\">if (window.MathJax) {MathJax.Hub.Config({SVG: {font: \"STIX-Web\"}});}</script>\n",
              "                <script type=\"text/javascript\">window.PlotlyConfig = {MathJaxConfig: 'local'};</script>\n",
              "        <script src=\"https://cdn.plot.ly/plotly-latest.min.js\"></script>    \n",
              "            <div id=\"8a9e772e-2306-4261-b024-90a7139a07ca\" class=\"plotly-graph-div\" style=\"height:400px; width:600px;\"></div>\n",
              "            <script type=\"text/javascript\">\n",
              "                \n",
              "                    window.PLOTLYENV=window.PLOTLYENV || {};\n",
              "                    \n",
              "                if (document.getElementById(\"8a9e772e-2306-4261-b024-90a7139a07ca\")) {\n",
              "                    Plotly.newPlot(\n",
              "                        '8a9e772e-2306-4261-b024-90a7139a07ca',\n",
              "                        [{\"customdata\": [[\"Ramechhap\"], [\"Gorkha\"], [\"Saptari\"], [\"Siraha\"], [\"Rautahat\"], [\"Lamjung\"], [\"Rasuwa\"], [\"Dhading\"], [\"Kavrepalanchok\"], [\"Dolakha\"], [\"Nuwakot\"], [\"Okhaldhunga\"], [\"Parbat\"], [\"Kaski\"], [\"Bara\"], [\"Bhaktapur\"], [\"Lalitpur\"], [\"Parsa\"], [\"Khotang\"], [\"Tanahu\"], [\"Sarlahi\"], [\"Myagdi\"], [\"Sindhuli\"], [\"Chitwan\"], [\"Syangja\"], [\"Sindhupalchok\"], [\"Dhanusa\"], [\"Mahottari\"], [\"Udayapur\"], [\"Morang\"], [\"Darchula\"], [\"Dhankuta\"], [\"Baitadi\"], [\"Solukhumbu\"], [\"Baglung\"], [\"Salyan\"], [\"Arghakhanchi\"], [\"Kathmandu\"], [\"Sankhuwasabha\"], [\"Rukum\"], [\"Banke\"], [\"Sunsari\"], [\"Bhojpur\"], [\"Rupandehi\"], [\"Palpa\"], [\"Panchthar\"], [\"Gulmi\"], [\"Makwanpur\"], [\"Tehrathum\"], [\"Dailekh\"], [\"Ilam\"], [\"Dadeldhura\"], [\"Nawalparasi\"], [\"Kapilbastu\"], [\"Dang\"], [\"Jhapa\"], [\"Surkhet\"], [\"Bardiya\"], [\"Achham\"], [\"Kanchanpur\"], [\"Doti\"], [\"Kailali\"], [\"Jajarkot\"], [\"Rolpa\"], [\"Taplejung\"], [\"Mugu\"], [\"Bajhang\"], [\"Mustang\"], [\"Manang\"], [\"Pyuthan\"], [\"Humla\"], [\"Bajura\"], [\"Kalikot\"], [\"Jumla\"], [\"Dolpa\"]], \"hoverlabel\": {\"namelength\": 0}, \"hovertemplate\": \"Life expectancy(In Years)=%{x}<br>Per Capita Income(In USD)=%{y}<br>District=%{customdata[0]}<br>DBSCAN Label=%{marker.color}\", \"legendgroup\": \"\", \"marker\": {\"color\": [-1, -1, 0, 0, 0, 1, 2, 1, 2, 1, 1, 1, 1, 2, 2, 2, -1, 1, 1, 1, 1, 1, 1, 2, 1, 1, 1, 3, 1, 1, 3, 1, 3, -1, 1, 1, 1, -1, 1, 1, 1, 1, 1, 1, 1, 1, 1, 1, 1, 1, 1, 1, 1, 1, 1, 1, 1, 1, -1, 1, -1, 1, -1, -1, -1, -1, -1, -1, -1, -1, -1, -1, -1, -1, -1], \"coloraxis\": \"coloraxis\", \"symbol\": \"circle\"}, \"mode\": \"markers\", \"name\": \"\", \"showlegend\": false, \"type\": \"scatter\", \"x\": [72.9, 71.7, 71.34, 71.29, 70.99, 70.94, 70.91, 70.86, 70.86, 70.85, 70.81, 70.56, 70.55, 70.51, 70.5, 70.48, 70.3, 70.25, 70.24, 70.14, 70.06, 70.05, 70.04, 69.78, 69.68, 69.57, 69.53, 69.47, 69.29, 69.05, 69.05, 69.04, 68.88, 68.83, 68.83, 68.8, 68.56, 68.55, 68.42, 68.39, 68.35, 68.33, 68.33, 68.29, 68.27, 68.12, 68.09, 68.08, 68.05, 68.03, 67.95, 67.9, 67.81, 67.56, 67.33, 67.29, 67.28, 67.26, 67.14, 67.08, 66.74, 66.46, 66.45, 66.28, 65.83, 65.57, 65.22, 65.04, 65.04, 64.33, 64.15, 63.92, 63.64, 63.14, 61.2], \"xaxis\": \"x\", \"y\": [951, 1039, 801, 689, 757, 1186, 1520, 982, 1399, 922, 1086, 957, 1013, 1561, 1480, 1379, 1894, 1223, 1132, 1072, 809, 1028, 822, 1537, 1215, 1110, 938, 681, 920, 1251, 627, 1257, 573, 1841, 868, 786, 909, 2764, 1193, 782, 1133, 1104, 999, 1123, 985, 1082, 752, 1410, 1419, 684, 1260, 764, 1157, 990, 1127, 1226, 911, 1086, 536, 938, 774, 942, 611, 643, 1313, 866, 487, 1922, 3166, 681, 794, 523, 578, 1007, 1040], \"yaxis\": \"y\"}],\n",
              "                        {\"coloraxis\": {\"colorbar\": {\"title\": {\"text\": \"DBSCAN Label\"}}, \"colorscale\": [[0.0, \"#0d0887\"], [0.1111111111111111, \"#46039f\"], [0.2222222222222222, \"#7201a8\"], [0.3333333333333333, \"#9c179e\"], [0.4444444444444444, \"#bd3786\"], [0.5555555555555556, \"#d8576b\"], [0.6666666666666666, \"#ed7953\"], [0.7777777777777778, \"#fb9f3a\"], [0.8888888888888888, \"#fdca26\"], [1.0, \"#f0f921\"]]}, \"font\": {\"color\": \"#7f7f7f\", \"family\": \"Courier New, monospace\", \"size\": 10}, \"height\": 400, \"legend\": {\"tracegroupgap\": 0}, \"margin\": {\"t\": 60}, \"template\": {\"data\": {\"bar\": [{\"error_x\": {\"color\": \"#2a3f5f\"}, \"error_y\": {\"color\": \"#2a3f5f\"}, \"marker\": {\"line\": {\"color\": \"#E5ECF6\", \"width\": 0.5}}, \"type\": \"bar\"}], \"barpolar\": [{\"marker\": {\"line\": {\"color\": \"#E5ECF6\", \"width\": 0.5}}, \"type\": \"barpolar\"}], \"carpet\": [{\"aaxis\": {\"endlinecolor\": \"#2a3f5f\", \"gridcolor\": \"white\", \"linecolor\": \"white\", \"minorgridcolor\": \"white\", \"startlinecolor\": \"#2a3f5f\"}, \"baxis\": {\"endlinecolor\": \"#2a3f5f\", \"gridcolor\": \"white\", \"linecolor\": \"white\", \"minorgridcolor\": \"white\", \"startlinecolor\": \"#2a3f5f\"}, \"type\": \"carpet\"}], \"choropleth\": [{\"colorbar\": {\"outlinewidth\": 0, \"ticks\": \"\"}, \"type\": \"choropleth\"}], \"contour\": [{\"colorbar\": {\"outlinewidth\": 0, \"ticks\": \"\"}, \"colorscale\": [[0.0, \"#0d0887\"], [0.1111111111111111, \"#46039f\"], [0.2222222222222222, \"#7201a8\"], [0.3333333333333333, \"#9c179e\"], [0.4444444444444444, \"#bd3786\"], [0.5555555555555556, \"#d8576b\"], [0.6666666666666666, \"#ed7953\"], [0.7777777777777778, \"#fb9f3a\"], [0.8888888888888888, \"#fdca26\"], [1.0, \"#f0f921\"]], \"type\": \"contour\"}], \"contourcarpet\": [{\"colorbar\": {\"outlinewidth\": 0, \"ticks\": \"\"}, \"type\": \"contourcarpet\"}], \"heatmap\": [{\"colorbar\": {\"outlinewidth\": 0, \"ticks\": \"\"}, \"colorscale\": [[0.0, \"#0d0887\"], [0.1111111111111111, \"#46039f\"], [0.2222222222222222, \"#7201a8\"], [0.3333333333333333, \"#9c179e\"], [0.4444444444444444, \"#bd3786\"], [0.5555555555555556, \"#d8576b\"], [0.6666666666666666, \"#ed7953\"], [0.7777777777777778, \"#fb9f3a\"], [0.8888888888888888, \"#fdca26\"], [1.0, \"#f0f921\"]], \"type\": \"heatmap\"}], \"heatmapgl\": [{\"colorbar\": {\"outlinewidth\": 0, \"ticks\": \"\"}, \"colorscale\": [[0.0, \"#0d0887\"], [0.1111111111111111, \"#46039f\"], [0.2222222222222222, \"#7201a8\"], [0.3333333333333333, \"#9c179e\"], [0.4444444444444444, \"#bd3786\"], [0.5555555555555556, \"#d8576b\"], [0.6666666666666666, \"#ed7953\"], [0.7777777777777778, \"#fb9f3a\"], [0.8888888888888888, \"#fdca26\"], [1.0, \"#f0f921\"]], \"type\": \"heatmapgl\"}], \"histogram\": [{\"marker\": {\"colorbar\": {\"outlinewidth\": 0, \"ticks\": \"\"}}, \"type\": \"histogram\"}], \"histogram2d\": [{\"colorbar\": {\"outlinewidth\": 0, \"ticks\": \"\"}, \"colorscale\": [[0.0, \"#0d0887\"], [0.1111111111111111, \"#46039f\"], [0.2222222222222222, \"#7201a8\"], [0.3333333333333333, \"#9c179e\"], [0.4444444444444444, \"#bd3786\"], [0.5555555555555556, \"#d8576b\"], [0.6666666666666666, \"#ed7953\"], [0.7777777777777778, \"#fb9f3a\"], [0.8888888888888888, \"#fdca26\"], [1.0, \"#f0f921\"]], \"type\": \"histogram2d\"}], \"histogram2dcontour\": [{\"colorbar\": {\"outlinewidth\": 0, \"ticks\": \"\"}, \"colorscale\": [[0.0, \"#0d0887\"], [0.1111111111111111, \"#46039f\"], [0.2222222222222222, \"#7201a8\"], [0.3333333333333333, \"#9c179e\"], [0.4444444444444444, \"#bd3786\"], [0.5555555555555556, \"#d8576b\"], [0.6666666666666666, \"#ed7953\"], [0.7777777777777778, \"#fb9f3a\"], [0.8888888888888888, \"#fdca26\"], [1.0, \"#f0f921\"]], \"type\": \"histogram2dcontour\"}], \"mesh3d\": [{\"colorbar\": {\"outlinewidth\": 0, \"ticks\": \"\"}, \"type\": \"mesh3d\"}], \"parcoords\": [{\"line\": {\"colorbar\": {\"outlinewidth\": 0, \"ticks\": \"\"}}, \"type\": \"parcoords\"}], \"pie\": [{\"automargin\": true, \"type\": \"pie\"}], \"scatter\": [{\"marker\": {\"colorbar\": {\"outlinewidth\": 0, \"ticks\": \"\"}}, \"type\": \"scatter\"}], \"scatter3d\": [{\"line\": {\"colorbar\": {\"outlinewidth\": 0, \"ticks\": \"\"}}, \"marker\": {\"colorbar\": {\"outlinewidth\": 0, \"ticks\": \"\"}}, \"type\": \"scatter3d\"}], \"scattercarpet\": [{\"marker\": {\"colorbar\": {\"outlinewidth\": 0, \"ticks\": \"\"}}, \"type\": \"scattercarpet\"}], \"scattergeo\": [{\"marker\": {\"colorbar\": {\"outlinewidth\": 0, \"ticks\": \"\"}}, \"type\": \"scattergeo\"}], \"scattergl\": [{\"marker\": {\"colorbar\": {\"outlinewidth\": 0, \"ticks\": \"\"}}, \"type\": \"scattergl\"}], \"scattermapbox\": [{\"marker\": {\"colorbar\": {\"outlinewidth\": 0, \"ticks\": \"\"}}, \"type\": \"scattermapbox\"}], \"scatterpolar\": [{\"marker\": {\"colorbar\": {\"outlinewidth\": 0, \"ticks\": \"\"}}, \"type\": \"scatterpolar\"}], \"scatterpolargl\": [{\"marker\": {\"colorbar\": {\"outlinewidth\": 0, \"ticks\": \"\"}}, \"type\": \"scatterpolargl\"}], \"scatterternary\": [{\"marker\": {\"colorbar\": {\"outlinewidth\": 0, \"ticks\": \"\"}}, \"type\": \"scatterternary\"}], \"surface\": [{\"colorbar\": {\"outlinewidth\": 0, \"ticks\": \"\"}, \"colorscale\": [[0.0, \"#0d0887\"], [0.1111111111111111, \"#46039f\"], [0.2222222222222222, \"#7201a8\"], [0.3333333333333333, \"#9c179e\"], [0.4444444444444444, \"#bd3786\"], [0.5555555555555556, \"#d8576b\"], [0.6666666666666666, \"#ed7953\"], [0.7777777777777778, \"#fb9f3a\"], [0.8888888888888888, \"#fdca26\"], [1.0, \"#f0f921\"]], \"type\": \"surface\"}], \"table\": [{\"cells\": {\"fill\": {\"color\": \"#EBF0F8\"}, \"line\": {\"color\": \"white\"}}, \"header\": {\"fill\": {\"color\": \"#C8D4E3\"}, \"line\": {\"color\": \"white\"}}, \"type\": \"table\"}]}, \"layout\": {\"annotationdefaults\": {\"arrowcolor\": \"#2a3f5f\", \"arrowhead\": 0, \"arrowwidth\": 1}, \"coloraxis\": {\"colorbar\": {\"outlinewidth\": 0, \"ticks\": \"\"}}, \"colorscale\": {\"diverging\": [[0, \"#8e0152\"], [0.1, \"#c51b7d\"], [0.2, \"#de77ae\"], [0.3, \"#f1b6da\"], [0.4, \"#fde0ef\"], [0.5, \"#f7f7f7\"], [0.6, \"#e6f5d0\"], [0.7, \"#b8e186\"], [0.8, \"#7fbc41\"], [0.9, \"#4d9221\"], [1, \"#276419\"]], \"sequential\": [[0.0, \"#0d0887\"], [0.1111111111111111, \"#46039f\"], [0.2222222222222222, \"#7201a8\"], [0.3333333333333333, \"#9c179e\"], [0.4444444444444444, \"#bd3786\"], [0.5555555555555556, \"#d8576b\"], [0.6666666666666666, \"#ed7953\"], [0.7777777777777778, \"#fb9f3a\"], [0.8888888888888888, \"#fdca26\"], [1.0, \"#f0f921\"]], \"sequentialminus\": [[0.0, \"#0d0887\"], [0.1111111111111111, \"#46039f\"], [0.2222222222222222, \"#7201a8\"], [0.3333333333333333, \"#9c179e\"], [0.4444444444444444, \"#bd3786\"], [0.5555555555555556, \"#d8576b\"], [0.6666666666666666, \"#ed7953\"], [0.7777777777777778, \"#fb9f3a\"], [0.8888888888888888, \"#fdca26\"], [1.0, \"#f0f921\"]]}, \"colorway\": [\"#636efa\", \"#EF553B\", \"#00cc96\", \"#ab63fa\", \"#FFA15A\", \"#19d3f3\", \"#FF6692\", \"#B6E880\", \"#FF97FF\", \"#FECB52\"], \"font\": {\"color\": \"#2a3f5f\"}, \"geo\": {\"bgcolor\": \"white\", \"lakecolor\": \"white\", \"landcolor\": \"#E5ECF6\", \"showlakes\": true, \"showland\": true, \"subunitcolor\": \"white\"}, \"hoverlabel\": {\"align\": \"left\"}, \"hovermode\": \"closest\", \"mapbox\": {\"style\": \"light\"}, \"paper_bgcolor\": \"white\", \"plot_bgcolor\": \"#E5ECF6\", \"polar\": {\"angularaxis\": {\"gridcolor\": \"white\", \"linecolor\": \"white\", \"ticks\": \"\"}, \"bgcolor\": \"#E5ECF6\", \"radialaxis\": {\"gridcolor\": \"white\", \"linecolor\": \"white\", \"ticks\": \"\"}}, \"scene\": {\"xaxis\": {\"backgroundcolor\": \"#E5ECF6\", \"gridcolor\": \"white\", \"gridwidth\": 2, \"linecolor\": \"white\", \"showbackground\": true, \"ticks\": \"\", \"zerolinecolor\": \"white\"}, \"yaxis\": {\"backgroundcolor\": \"#E5ECF6\", \"gridcolor\": \"white\", \"gridwidth\": 2, \"linecolor\": \"white\", \"showbackground\": true, \"ticks\": \"\", \"zerolinecolor\": \"white\"}, \"zaxis\": {\"backgroundcolor\": \"#E5ECF6\", \"gridcolor\": \"white\", \"gridwidth\": 2, \"linecolor\": \"white\", \"showbackground\": true, \"ticks\": \"\", \"zerolinecolor\": \"white\"}}, \"shapedefaults\": {\"line\": {\"color\": \"#2a3f5f\"}}, \"ternary\": {\"aaxis\": {\"gridcolor\": \"white\", \"linecolor\": \"white\", \"ticks\": \"\"}, \"baxis\": {\"gridcolor\": \"white\", \"linecolor\": \"white\", \"ticks\": \"\"}, \"bgcolor\": \"#E5ECF6\", \"caxis\": {\"gridcolor\": \"white\", \"linecolor\": \"white\", \"ticks\": \"\"}}, \"title\": {\"x\": 0.05}, \"xaxis\": {\"automargin\": true, \"gridcolor\": \"white\", \"linecolor\": \"white\", \"ticks\": \"\", \"title\": {\"standoff\": 15}, \"zerolinecolor\": \"white\", \"zerolinewidth\": 2}, \"yaxis\": {\"automargin\": true, \"gridcolor\": \"white\", \"linecolor\": \"white\", \"ticks\": \"\", \"title\": {\"standoff\": 15}, \"zerolinecolor\": \"white\", \"zerolinewidth\": 2}}}, \"title\": {\"text\": \"Clusters by DBSCAN on Life Expectancy and Per Capita dataset\"}, \"width\": 600, \"xaxis\": {\"anchor\": \"y\", \"domain\": [0.0, 1.0], \"title\": {\"text\": \"Life expectancy(In Years)\"}}, \"yaxis\": {\"anchor\": \"x\", \"domain\": [0.0, 1.0], \"title\": {\"text\": \"Per Capita Income(In USD)\"}}},\n",
              "                        {\"responsive\": true}\n",
              "                    ).then(function(){\n",
              "                            \n",
              "var gd = document.getElementById('8a9e772e-2306-4261-b024-90a7139a07ca');\n",
              "var x = new MutationObserver(function (mutations, observer) {{\n",
              "        var display = window.getComputedStyle(gd).display;\n",
              "        if (!display || display === 'none') {{\n",
              "            console.log([gd, 'removed!']);\n",
              "            Plotly.purge(gd);\n",
              "            observer.disconnect();\n",
              "        }}\n",
              "}});\n",
              "\n",
              "// Listen for the removal of the full notebook cells\n",
              "var notebookContainer = gd.closest('#notebook-container');\n",
              "if (notebookContainer) {{\n",
              "    x.observe(notebookContainer, {childList: true});\n",
              "}}\n",
              "\n",
              "// Listen for the clearing of the current output cell\n",
              "var outputEl = gd.closest('.output');\n",
              "if (outputEl) {{\n",
              "    x.observe(outputEl, {childList: true});\n",
              "}}\n",
              "\n",
              "                        })\n",
              "                };\n",
              "                \n",
              "            </script>\n",
              "        </div>\n",
              "</body>\n",
              "</html>"
            ]
          },
          "metadata": {
            "tags": []
          }
        }
      ]
    },
    {
      "cell_type": "code",
      "metadata": {
        "id": "i7sH0HAzEHdF",
        "colab_type": "code",
        "outputId": "54ec6e1f-fb90-4015-8abb-5fff4d8a6224",
        "colab": {
          "base_uri": "https://localhost:8080/",
          "height": 34
        }
      },
      "source": [
        "lite_df.columns"
      ],
      "execution_count": 88,
      "outputs": [
        {
          "output_type": "execute_result",
          "data": {
            "text/plain": [
              "Index(['District', 'Total', 'Female', 'Male', 'DBSCAN Label'], dtype='object')"
            ]
          },
          "metadata": {
            "tags": []
          },
          "execution_count": 88
        }
      ]
    },
    {
      "cell_type": "code",
      "metadata": {
        "id": "KK2nrgupMLJc",
        "colab_type": "code",
        "outputId": "bb621ad0-f21e-4cc6-a2d1-861eacc03322",
        "colab": {
          "base_uri": "https://localhost:8080/",
          "height": 417
        }
      },
      "source": [
        "fig=px.scatter(lite_df, x= 'Male',y='Female',color='DBSCAN Label',hover_data=['District'],width=600, height=400)\n",
        "fig.update_layout(\n",
        "    title=\"Clusters by DBSCAN on Literacy Dataset\",\n",
        "    xaxis_title=\"Male\",\n",
        "    yaxis_title=\"Female\",\n",
        "    font=dict(\n",
        "        family=\"Courier New, monospace\",\n",
        "        size=12,\n",
        "        color=\"#7f7f7f\"\n",
        "    ),\n",
        ")\n",
        "fig.show()"
      ],
      "execution_count": 89,
      "outputs": [
        {
          "output_type": "display_data",
          "data": {
            "text/html": [
              "<html>\n",
              "<head><meta charset=\"utf-8\" /></head>\n",
              "<body>\n",
              "    <div>\n",
              "            <script src=\"https://cdnjs.cloudflare.com/ajax/libs/mathjax/2.7.5/MathJax.js?config=TeX-AMS-MML_SVG\"></script><script type=\"text/javascript\">if (window.MathJax) {MathJax.Hub.Config({SVG: {font: \"STIX-Web\"}});}</script>\n",
              "                <script type=\"text/javascript\">window.PlotlyConfig = {MathJaxConfig: 'local'};</script>\n",
              "        <script src=\"https://cdn.plot.ly/plotly-latest.min.js\"></script>    \n",
              "            <div id=\"8b69de22-ec89-4723-b7b8-b108fb1162e3\" class=\"plotly-graph-div\" style=\"height:400px; width:600px;\"></div>\n",
              "            <script type=\"text/javascript\">\n",
              "                \n",
              "                    window.PLOTLYENV=window.PLOTLYENV || {};\n",
              "                    \n",
              "                if (document.getElementById(\"8b69de22-ec89-4723-b7b8-b108fb1162e3\")) {\n",
              "                    Plotly.newPlot(\n",
              "                        '8b69de22-ec89-4723-b7b8-b108fb1162e3',\n",
              "                        [{\"customdata\": [[\"Kathmandu\"], [\"Lalitpur\"], [\"Kaski\"], [\"Bhaktapur\"], [\"Ilam\"], [\"Chitwan\"], [\"Syangja\"], [\"Palpa\"], [\"Jhapa\"], [\"Manang\"], [\"Tanahu\"], [\"Tehrathum\"], [\"Dhankuta\"], [\"Parbat\"], [\"Surkhet\"], [\"Arghakhanchi\"], [\"Gulmi\"], [\"Panchthar\"], [\"Baglung\"], [\"Myagdi\"], [\"Taplejung\"], [\"Lamjung\"], [\"Nawalparasi\"], [\"Kanchanpur\"], [\"Morang\"], [\"Dang\"], [\"Kavrepalanchok\"], [\"Rupandehi\"], [\"Sankhuwasabha\"], [\"Bhojpur\"], [\"Khotang\"], [\"Udayapur\"], [\"Sunsari\"], [\"Makwanpur\"], [\"Pyuthan\"], [\"Gorkha\"], [\"Kailali\"], [\"Mustang\"], [\"Bardiya\"], [\"Darchula\"], [\"Dadeldhura\"], [\"Okhaldhunga\"], [\"Solukhumbu\"], [\"Salyan\"], [\"Baitadi\"], [\"Dhading\"], [\"Dolakha\"], [\"Dailekh\"], [\"Banke\"], [\"Ramechhap\"], [\"Rukum\"], [\"Sindhuli\"], [\"Rolpa\"], [\"Nuwakot\"], [\"Sindhupalchok\"], [\"Jajarkot\"], [\"Kalikot\"], [\"Doti\"], [\"Parsa\"], [\"Achham\"], [\"Bajura\"], [\"Bajhang\"], [\"Kapilbastu\"], [\"Jumla\"], [\"Saptari\"], [\"Dolpa\"], [\"Rasuwa\"], [\"Bara\"], [\"Mugu\"], [\"Dhanusa\"], [\"Siraha\"], [\"Humla\"], [\"Mahottari\"], [\"Sarlahi\"], [\"Rautahat\"]], \"hoverlabel\": {\"namelength\": 0}, \"hovertemplate\": \"Male=%{x}<br>Female=%{y}<br>District=%{customdata[0]}<br>DBSCAN Label=%{marker.color}\", \"legendgroup\": \"\", \"marker\": {\"color\": [-1, 0, 0, 0, 1, 1, 1, 1, 1, 1, 1, 1, 1, 1, 1, 1, 1, 1, 1, 1, 1, 1, 1, 1, 1, 1, 1, 1, 1, 1, 1, 1, 1, 1, 1, 1, 1, 1, 1, 2, 2, 1, 1, 1, 2, 1, 1, 1, 1, 1, 1, 1, 1, 1, 1, -1, 3, 3, 3, 3, 3, 3, 3, 3, 3, 3, -1, 4, -1, 4, 4, -1, -1, -1, -1], \"coloraxis\": \"coloraxis\", \"symbol\": \"circle\"}, \"mode\": \"markers\", \"name\": \"\", \"showlegend\": false, \"type\": \"scatter\", \"x\": [92.2, 90.1, 90.1, 90.5, 84.2, 83.9, 86.1, 84.9, 82.3, 83.0, 83.7, 83.5, 82.4, 83.4, 82.0, 81.8, 81.6, 80.3, 80.6, 81.1, 79.3, 80.7, 79.9, 81.3, 78.7, 78.9, 79.6, 79.2, 77.5, 78.4, 77.7, 77.2, 77.0, 75.4, 78.2, 75.1, 76.2, 75.4, 73.5, 79.3, 79.7, 74.3, 73.4, 73.9, 79.0, 71.1, 73.3, 72.8, 70.0, 72.6, 71.2, 69.8, 71.5, 68.0, 68.0, 65.9, 67.9, 73.4, 66.9, 70.7, 68.8, 73.0, 64.9, 68.2, 67.0, 67.9, 60.9, 62.8, 65.2, 60.6, 61.9, 62.1, 56.6, 55.8, 50.9], \"xaxis\": \"x\", \"y\": [79.8, 74.7, 75.4, 72.7, 72.0, 70.7, 69.6, 69.5, 68.6, 64.2, 67.9, 67.0, 67.4, 66.4, 64.9, 65.8, 65.9, 65.8, 65.3, 64.5, 64.1, 63.3, 62.8, 61.0, 63.1, 62.8, 60.9, 60.8, 62.2, 61.4, 61.1, 61.5, 60.5, 60.6, 58.6, 59.4, 57.1, 55.8, 57.9, 52.9, 52.9, 56.0, 55.7, 55.2, 49.2, 55.7, 53.7, 52.9, 54.9, 53.5, 53.9, 52.1, 50.5, 52.4, 51.9, 48.7, 45.7, 42.3, 43.9, 42.9, 43.3, 40.1, 45.0, 40.8, 42.6, 40.6, 46.5, 40.7, 36.9, 40.2, 39.2, 33.0, 36.6, 36.6, 32.0], \"yaxis\": \"y\"}],\n",
              "                        {\"coloraxis\": {\"colorbar\": {\"title\": {\"text\": \"DBSCAN Label\"}}, \"colorscale\": [[0.0, \"#0d0887\"], [0.1111111111111111, \"#46039f\"], [0.2222222222222222, \"#7201a8\"], [0.3333333333333333, \"#9c179e\"], [0.4444444444444444, \"#bd3786\"], [0.5555555555555556, \"#d8576b\"], [0.6666666666666666, \"#ed7953\"], [0.7777777777777778, \"#fb9f3a\"], [0.8888888888888888, \"#fdca26\"], [1.0, \"#f0f921\"]]}, \"font\": {\"color\": \"#7f7f7f\", \"family\": \"Courier New, monospace\", \"size\": 12}, \"height\": 400, \"legend\": {\"tracegroupgap\": 0}, \"margin\": {\"t\": 60}, \"template\": {\"data\": {\"bar\": [{\"error_x\": {\"color\": \"#2a3f5f\"}, \"error_y\": {\"color\": \"#2a3f5f\"}, \"marker\": {\"line\": {\"color\": \"#E5ECF6\", \"width\": 0.5}}, \"type\": \"bar\"}], \"barpolar\": [{\"marker\": {\"line\": {\"color\": \"#E5ECF6\", \"width\": 0.5}}, \"type\": \"barpolar\"}], \"carpet\": [{\"aaxis\": {\"endlinecolor\": \"#2a3f5f\", \"gridcolor\": \"white\", \"linecolor\": \"white\", \"minorgridcolor\": \"white\", \"startlinecolor\": \"#2a3f5f\"}, \"baxis\": {\"endlinecolor\": \"#2a3f5f\", \"gridcolor\": \"white\", \"linecolor\": \"white\", \"minorgridcolor\": \"white\", \"startlinecolor\": \"#2a3f5f\"}, \"type\": \"carpet\"}], \"choropleth\": [{\"colorbar\": {\"outlinewidth\": 0, \"ticks\": \"\"}, \"type\": \"choropleth\"}], \"contour\": [{\"colorbar\": {\"outlinewidth\": 0, \"ticks\": \"\"}, \"colorscale\": [[0.0, \"#0d0887\"], [0.1111111111111111, \"#46039f\"], [0.2222222222222222, \"#7201a8\"], [0.3333333333333333, \"#9c179e\"], [0.4444444444444444, \"#bd3786\"], [0.5555555555555556, \"#d8576b\"], [0.6666666666666666, \"#ed7953\"], [0.7777777777777778, \"#fb9f3a\"], [0.8888888888888888, \"#fdca26\"], [1.0, \"#f0f921\"]], \"type\": \"contour\"}], \"contourcarpet\": [{\"colorbar\": {\"outlinewidth\": 0, \"ticks\": \"\"}, \"type\": \"contourcarpet\"}], \"heatmap\": [{\"colorbar\": {\"outlinewidth\": 0, \"ticks\": \"\"}, \"colorscale\": [[0.0, \"#0d0887\"], [0.1111111111111111, \"#46039f\"], [0.2222222222222222, \"#7201a8\"], [0.3333333333333333, \"#9c179e\"], [0.4444444444444444, \"#bd3786\"], [0.5555555555555556, \"#d8576b\"], [0.6666666666666666, \"#ed7953\"], [0.7777777777777778, \"#fb9f3a\"], [0.8888888888888888, \"#fdca26\"], [1.0, \"#f0f921\"]], \"type\": \"heatmap\"}], \"heatmapgl\": [{\"colorbar\": {\"outlinewidth\": 0, \"ticks\": \"\"}, \"colorscale\": [[0.0, \"#0d0887\"], [0.1111111111111111, \"#46039f\"], [0.2222222222222222, \"#7201a8\"], [0.3333333333333333, \"#9c179e\"], [0.4444444444444444, \"#bd3786\"], [0.5555555555555556, \"#d8576b\"], [0.6666666666666666, \"#ed7953\"], [0.7777777777777778, \"#fb9f3a\"], [0.8888888888888888, \"#fdca26\"], [1.0, \"#f0f921\"]], \"type\": \"heatmapgl\"}], \"histogram\": [{\"marker\": {\"colorbar\": {\"outlinewidth\": 0, \"ticks\": \"\"}}, \"type\": \"histogram\"}], \"histogram2d\": [{\"colorbar\": {\"outlinewidth\": 0, \"ticks\": \"\"}, \"colorscale\": [[0.0, \"#0d0887\"], [0.1111111111111111, \"#46039f\"], [0.2222222222222222, \"#7201a8\"], [0.3333333333333333, \"#9c179e\"], [0.4444444444444444, \"#bd3786\"], [0.5555555555555556, \"#d8576b\"], [0.6666666666666666, \"#ed7953\"], [0.7777777777777778, \"#fb9f3a\"], [0.8888888888888888, \"#fdca26\"], [1.0, \"#f0f921\"]], \"type\": \"histogram2d\"}], \"histogram2dcontour\": [{\"colorbar\": {\"outlinewidth\": 0, \"ticks\": \"\"}, \"colorscale\": [[0.0, \"#0d0887\"], [0.1111111111111111, \"#46039f\"], [0.2222222222222222, \"#7201a8\"], [0.3333333333333333, \"#9c179e\"], [0.4444444444444444, \"#bd3786\"], [0.5555555555555556, \"#d8576b\"], [0.6666666666666666, \"#ed7953\"], [0.7777777777777778, \"#fb9f3a\"], [0.8888888888888888, \"#fdca26\"], [1.0, \"#f0f921\"]], \"type\": \"histogram2dcontour\"}], \"mesh3d\": [{\"colorbar\": {\"outlinewidth\": 0, \"ticks\": \"\"}, \"type\": \"mesh3d\"}], \"parcoords\": [{\"line\": {\"colorbar\": {\"outlinewidth\": 0, \"ticks\": \"\"}}, \"type\": \"parcoords\"}], \"pie\": [{\"automargin\": true, \"type\": \"pie\"}], \"scatter\": [{\"marker\": {\"colorbar\": {\"outlinewidth\": 0, \"ticks\": \"\"}}, \"type\": \"scatter\"}], \"scatter3d\": [{\"line\": {\"colorbar\": {\"outlinewidth\": 0, \"ticks\": \"\"}}, \"marker\": {\"colorbar\": {\"outlinewidth\": 0, \"ticks\": \"\"}}, \"type\": \"scatter3d\"}], \"scattercarpet\": [{\"marker\": {\"colorbar\": {\"outlinewidth\": 0, \"ticks\": \"\"}}, \"type\": \"scattercarpet\"}], \"scattergeo\": [{\"marker\": {\"colorbar\": {\"outlinewidth\": 0, \"ticks\": \"\"}}, \"type\": \"scattergeo\"}], \"scattergl\": [{\"marker\": {\"colorbar\": {\"outlinewidth\": 0, \"ticks\": \"\"}}, \"type\": \"scattergl\"}], \"scattermapbox\": [{\"marker\": {\"colorbar\": {\"outlinewidth\": 0, \"ticks\": \"\"}}, \"type\": \"scattermapbox\"}], \"scatterpolar\": [{\"marker\": {\"colorbar\": {\"outlinewidth\": 0, \"ticks\": \"\"}}, \"type\": \"scatterpolar\"}], \"scatterpolargl\": [{\"marker\": {\"colorbar\": {\"outlinewidth\": 0, \"ticks\": \"\"}}, \"type\": \"scatterpolargl\"}], \"scatterternary\": [{\"marker\": {\"colorbar\": {\"outlinewidth\": 0, \"ticks\": \"\"}}, \"type\": \"scatterternary\"}], \"surface\": [{\"colorbar\": {\"outlinewidth\": 0, \"ticks\": \"\"}, \"colorscale\": [[0.0, \"#0d0887\"], [0.1111111111111111, \"#46039f\"], [0.2222222222222222, \"#7201a8\"], [0.3333333333333333, \"#9c179e\"], [0.4444444444444444, \"#bd3786\"], [0.5555555555555556, \"#d8576b\"], [0.6666666666666666, \"#ed7953\"], [0.7777777777777778, \"#fb9f3a\"], [0.8888888888888888, \"#fdca26\"], [1.0, \"#f0f921\"]], \"type\": \"surface\"}], \"table\": [{\"cells\": {\"fill\": {\"color\": \"#EBF0F8\"}, \"line\": {\"color\": \"white\"}}, \"header\": {\"fill\": {\"color\": \"#C8D4E3\"}, \"line\": {\"color\": \"white\"}}, \"type\": \"table\"}]}, \"layout\": {\"annotationdefaults\": {\"arrowcolor\": \"#2a3f5f\", \"arrowhead\": 0, \"arrowwidth\": 1}, \"coloraxis\": {\"colorbar\": {\"outlinewidth\": 0, \"ticks\": \"\"}}, \"colorscale\": {\"diverging\": [[0, \"#8e0152\"], [0.1, \"#c51b7d\"], [0.2, \"#de77ae\"], [0.3, \"#f1b6da\"], [0.4, \"#fde0ef\"], [0.5, \"#f7f7f7\"], [0.6, \"#e6f5d0\"], [0.7, \"#b8e186\"], [0.8, \"#7fbc41\"], [0.9, \"#4d9221\"], [1, \"#276419\"]], \"sequential\": [[0.0, \"#0d0887\"], [0.1111111111111111, \"#46039f\"], [0.2222222222222222, \"#7201a8\"], [0.3333333333333333, \"#9c179e\"], [0.4444444444444444, \"#bd3786\"], [0.5555555555555556, \"#d8576b\"], [0.6666666666666666, \"#ed7953\"], [0.7777777777777778, \"#fb9f3a\"], [0.8888888888888888, \"#fdca26\"], [1.0, \"#f0f921\"]], \"sequentialminus\": [[0.0, \"#0d0887\"], [0.1111111111111111, \"#46039f\"], [0.2222222222222222, \"#7201a8\"], [0.3333333333333333, \"#9c179e\"], [0.4444444444444444, \"#bd3786\"], [0.5555555555555556, \"#d8576b\"], [0.6666666666666666, \"#ed7953\"], [0.7777777777777778, \"#fb9f3a\"], [0.8888888888888888, \"#fdca26\"], [1.0, \"#f0f921\"]]}, \"colorway\": [\"#636efa\", \"#EF553B\", \"#00cc96\", \"#ab63fa\", \"#FFA15A\", \"#19d3f3\", \"#FF6692\", \"#B6E880\", \"#FF97FF\", \"#FECB52\"], \"font\": {\"color\": \"#2a3f5f\"}, \"geo\": {\"bgcolor\": \"white\", \"lakecolor\": \"white\", \"landcolor\": \"#E5ECF6\", \"showlakes\": true, \"showland\": true, \"subunitcolor\": \"white\"}, \"hoverlabel\": {\"align\": \"left\"}, \"hovermode\": \"closest\", \"mapbox\": {\"style\": \"light\"}, \"paper_bgcolor\": \"white\", \"plot_bgcolor\": \"#E5ECF6\", \"polar\": {\"angularaxis\": {\"gridcolor\": \"white\", \"linecolor\": \"white\", \"ticks\": \"\"}, \"bgcolor\": \"#E5ECF6\", \"radialaxis\": {\"gridcolor\": \"white\", \"linecolor\": \"white\", \"ticks\": \"\"}}, \"scene\": {\"xaxis\": {\"backgroundcolor\": \"#E5ECF6\", \"gridcolor\": \"white\", \"gridwidth\": 2, \"linecolor\": \"white\", \"showbackground\": true, \"ticks\": \"\", \"zerolinecolor\": \"white\"}, \"yaxis\": {\"backgroundcolor\": \"#E5ECF6\", \"gridcolor\": \"white\", \"gridwidth\": 2, \"linecolor\": \"white\", \"showbackground\": true, \"ticks\": \"\", \"zerolinecolor\": \"white\"}, \"zaxis\": {\"backgroundcolor\": \"#E5ECF6\", \"gridcolor\": \"white\", \"gridwidth\": 2, \"linecolor\": \"white\", \"showbackground\": true, \"ticks\": \"\", \"zerolinecolor\": \"white\"}}, \"shapedefaults\": {\"line\": {\"color\": \"#2a3f5f\"}}, \"ternary\": {\"aaxis\": {\"gridcolor\": \"white\", \"linecolor\": \"white\", \"ticks\": \"\"}, \"baxis\": {\"gridcolor\": \"white\", \"linecolor\": \"white\", \"ticks\": \"\"}, \"bgcolor\": \"#E5ECF6\", \"caxis\": {\"gridcolor\": \"white\", \"linecolor\": \"white\", \"ticks\": \"\"}}, \"title\": {\"x\": 0.05}, \"xaxis\": {\"automargin\": true, \"gridcolor\": \"white\", \"linecolor\": \"white\", \"ticks\": \"\", \"title\": {\"standoff\": 15}, \"zerolinecolor\": \"white\", \"zerolinewidth\": 2}, \"yaxis\": {\"automargin\": true, \"gridcolor\": \"white\", \"linecolor\": \"white\", \"ticks\": \"\", \"title\": {\"standoff\": 15}, \"zerolinecolor\": \"white\", \"zerolinewidth\": 2}}}, \"title\": {\"text\": \"Clusters by DBSCAN on Literacy Dataset\"}, \"width\": 600, \"xaxis\": {\"anchor\": \"y\", \"domain\": [0.0, 1.0], \"title\": {\"text\": \"Male\"}}, \"yaxis\": {\"anchor\": \"x\", \"domain\": [0.0, 1.0], \"title\": {\"text\": \"Female\"}}},\n",
              "                        {\"responsive\": true}\n",
              "                    ).then(function(){\n",
              "                            \n",
              "var gd = document.getElementById('8b69de22-ec89-4723-b7b8-b108fb1162e3');\n",
              "var x = new MutationObserver(function (mutations, observer) {{\n",
              "        var display = window.getComputedStyle(gd).display;\n",
              "        if (!display || display === 'none') {{\n",
              "            console.log([gd, 'removed!']);\n",
              "            Plotly.purge(gd);\n",
              "            observer.disconnect();\n",
              "        }}\n",
              "}});\n",
              "\n",
              "// Listen for the removal of the full notebook cells\n",
              "var notebookContainer = gd.closest('#notebook-container');\n",
              "if (notebookContainer) {{\n",
              "    x.observe(notebookContainer, {childList: true});\n",
              "}}\n",
              "\n",
              "// Listen for the clearing of the current output cell\n",
              "var outputEl = gd.closest('.output');\n",
              "if (outputEl) {{\n",
              "    x.observe(outputEl, {childList: true});\n",
              "}}\n",
              "\n",
              "                        })\n",
              "                };\n",
              "                \n",
              "            </script>\n",
              "        </div>\n",
              "</body>\n",
              "</html>"
            ]
          },
          "metadata": {
            "tags": []
          }
        }
      ]
    },
    {
      "cell_type": "markdown",
      "metadata": {
        "id": "sssFNXb-g05e",
        "colab_type": "text"
      },
      "source": [
        "##**PCA** \n",
        "\n",
        "*For DBSCAN of merged dataset we perform PCA*"
      ]
    },
    {
      "cell_type": "code",
      "metadata": {
        "id": "YqAsoTX1GpSg",
        "colab_type": "code",
        "colab": {}
      },
      "source": [
        "from sklearn.decomposition import PCA\n",
        "pca = PCA(n_components=3, random_state=1)\n",
        "pca =pca.fit(scaled_merged)\n",
        "scaled_transformed=pca.transform(scaled_merged)\n",
        "\n",
        "scaled_transformed_df=pd.DataFrame(scaled_transformed)\n",
        "scaled_transformed_df.columns=['Feature 1','Feature 2','Feature 3']\n",
        "\n",
        "colors = ['deeppink', 'maroon', 'green', 'yellow', 'skyblue', 'purple',  'red', 'black']\n",
        "vectorizer = np.vectorize(lambda x: colors[x % len(colors)])"
      ],
      "execution_count": 0,
      "outputs": []
    },
    {
      "cell_type": "code",
      "metadata": {
        "id": "vVNMoT2_Jatm",
        "colab_type": "code",
        "colab": {}
      },
      "source": [
        "plot_data=pd.DataFrame(scaled_transformed, columns=['Feature 1','Feature 2','Feature 3'])\n",
        "plot_data['Label']=merged_labels\n",
        "plot_data['District'] = mixed_df['District'].tolist()"
      ],
      "execution_count": 0,
      "outputs": []
    },
    {
      "cell_type": "code",
      "metadata": {
        "id": "_F6d2ryrJ1uh",
        "colab_type": "code",
        "outputId": "94aea5dc-f346-47d4-99a1-43514b5403ac",
        "colab": {
          "base_uri": "https://localhost:8080/",
          "height": 1000
        }
      },
      "source": [
        "fig=px.scatter(plot_data, x= 'Feature 1',y='Feature 2',color='Label',hover_data=['District'],width=600, height=400)\n",
        "fig.update_layout(\n",
        "    title=\"Clusters generated by DBSCAN on HDI Dataset\",\n",
        "    xaxis_title=\"Feature 1\",\n",
        "    yaxis_title=\"Feature 2\",\n",
        "    font=dict(\n",
        "        family=\"Courier New, monospace\",\n",
        "        size=12,\n",
        "        color=\"#7f7f7f\"\n",
        "    )\n",
        ")\n",
        "fig.show()\n",
        "\n",
        "fig=px.scatter_3d(plot_data, x= 'Feature 1',y='Feature 2',z='Feature 3',color='Label',hover_data=['District'],width=900, height=600,size_max=7,opacity=0.7)\n",
        "fig.update_layout(\n",
        "    title=\"Clusters generated by DBSCAN on HDI Dataset 3D Visualization\",\n",
        "    xaxis_title=\"Feature 1\",\n",
        "    yaxis_title=\"Feature 2\",\n",
        "    font=dict(\n",
        "        family=\"Courier New, monospace\",\n",
        "        size=12,\n",
        "        color=\"#7f7f7f\"\n",
        "    )\n",
        ")\n",
        "fig.show()"
      ],
      "execution_count": 92,
      "outputs": [
        {
          "output_type": "display_data",
          "data": {
            "text/html": [
              "<html>\n",
              "<head><meta charset=\"utf-8\" /></head>\n",
              "<body>\n",
              "    <div>\n",
              "            <script src=\"https://cdnjs.cloudflare.com/ajax/libs/mathjax/2.7.5/MathJax.js?config=TeX-AMS-MML_SVG\"></script><script type=\"text/javascript\">if (window.MathJax) {MathJax.Hub.Config({SVG: {font: \"STIX-Web\"}});}</script>\n",
              "                <script type=\"text/javascript\">window.PlotlyConfig = {MathJaxConfig: 'local'};</script>\n",
              "        <script src=\"https://cdn.plot.ly/plotly-latest.min.js\"></script>    \n",
              "            <div id=\"25fed1b6-c593-4c12-ad78-746922543299\" class=\"plotly-graph-div\" style=\"height:400px; width:600px;\"></div>\n",
              "            <script type=\"text/javascript\">\n",
              "                \n",
              "                    window.PLOTLYENV=window.PLOTLYENV || {};\n",
              "                    \n",
              "                if (document.getElementById(\"25fed1b6-c593-4c12-ad78-746922543299\")) {\n",
              "                    Plotly.newPlot(\n",
              "                        '25fed1b6-c593-4c12-ad78-746922543299',\n",
              "                        [{\"customdata\": [[\"Kathmandu\"], [\"Lalitpur\"], [\"Kaski\"], [\"Bhaktapur\"], [\"Ilam\"], [\"Chitwan\"], [\"Syangja\"], [\"Palpa\"], [\"Jhapa\"], [\"Manang\"], [\"Tanahu\"], [\"Tehrathum\"], [\"Dhankuta\"], [\"Parbat\"], [\"Surkhet\"], [\"Arghakhanchi\"], [\"Gulmi\"], [\"Panchthar\"], [\"Baglung\"], [\"Myagdi\"], [\"Taplejung\"], [\"Lamjung\"], [\"Nawalparasi\"], [\"Kanchanpur\"], [\"Morang\"], [\"Dang\"], [\"Kavrepalanchok\"], [\"Rupandehi\"], [\"Sankhuwasabha\"], [\"Bhojpur\"], [\"Khotang\"], [\"Udayapur\"], [\"Sunsari\"], [\"Makwanpur\"], [\"Pyuthan\"], [\"Gorkha\"], [\"Kailali\"], [\"Mustang\"], [\"Bardiya\"], [\"Darchula\"], [\"Dadeldhura\"], [\"Okhaldhunga\"], [\"Solukhumbu\"], [\"Salyan\"], [\"Baitadi\"], [\"Dhading\"], [\"Dolakha\"], [\"Dailekh\"], [\"Banke\"], [\"Ramechhap\"], [\"Rukum\"], [\"Sindhuli\"], [\"Rolpa\"], [\"Nuwakot\"], [\"Sindhupalchok\"], [\"Jajarkot\"], [\"Kalikot\"], [\"Doti\"], [\"Parsa\"], [\"Achham\"], [\"Bajura\"], [\"Bajhang\"], [\"Kapilbastu\"], [\"Jumla\"], [\"Saptari\"], [\"Dolpa\"], [\"Rasuwa\"], [\"Bara\"], [\"Mugu\"], [\"Dhanusa\"], [\"Siraha\"], [\"Humla\"], [\"Mahottari\"], [\"Sarlahi\"], [\"Rautahat\"]], \"hoverlabel\": {\"namelength\": 0}, \"hovertemplate\": \"Feature 1=%{x}<br>Feature 2=%{y}<br>District=%{customdata[0]}<br>Label=%{marker.color}\", \"legendgroup\": \"\", \"marker\": {\"color\": [-1, -1, -1, -1, -1, -1, -1, -1, -1, -1, 0, -1, -1, 0, -1, 1, 1, 2, 1, 0, -1, -1, 2, -1, 2, 2, -1, 2, 2, 2, -1, -1, 2, -1, -1, -1, -1, -1, -1, -1, -1, 3, -1, 4, -1, 3, 3, 4, -1, -1, 4, -1, -1, -1, -1, -1, -1, -1, -1, -1, -1, -1, -1, -1, -1, -1, -1, -1, -1, -1, -1, -1, -1, -1, -1], \"coloraxis\": \"coloraxis\", \"symbol\": \"circle\"}, \"mode\": \"markers\", \"name\": \"\", \"showlegend\": false, \"type\": \"scatter\", \"x\": [4.337676161009879, 3.1188093937368926, 2.830948630962913, 2.5168105584441234, 1.7291140911730674, 2.040543049794674, 1.7994747111064104, 1.3761045616799337, 1.31833283311004, 2.958645766747861, 1.4129072867475991, 1.5629826216477913, 1.4064240263584398, 1.2725205480927837, 0.761248973450328, 0.8820971656443796, 0.6805614111792186, 0.9217094645482207, 0.7428031246444279, 0.9795222878170533, 0.8357059863368657, 1.1040973276057724, 0.7776769501723727, 0.5022332929202458, 0.8878382697494428, 0.6423138866765653, 1.100853962493588, 0.6101868162321225, 0.6477964067183314, 0.4619519650061602, 0.6590623778089529, 0.36424414459038096, 0.4171370176884071, 0.6045583761553454, -0.3075968511296998, 0.37654235414387555, -0.12680490990566468, 0.6520292930851708, -0.0747824204261186, -0.2919208573771572, -0.19956253130035978, -0.03621948100838211, 0.6730832491070953, -0.4046311999318163, -0.5917484386471994, -0.23894155552680788, -0.2563232304950418, -0.7719637229464518, -0.37771181937557285, -0.15088988184664182, -0.7057616609044269, -0.757880382486588, -1.1626584477667041, -0.5481171327040923, -0.6353121808783192, -1.6918504081961632, -1.9411431711329896, -1.3280519157712571, -1.0099423872152289, -1.7065669030174735, -2.050763028948897, -1.879393665841731, -1.5117047415048723, -1.7923045383673568, -1.4370479121349218, -1.9218419823528863, -0.9460864516443463, -1.2084688483586674, -2.2135021245879876, -2.0178127151413556, -2.1183630033478975, -2.829681142815764, -2.780561379034425, -2.6673505102708344, -3.27528481004463], \"xaxis\": \"x\", \"y\": [0.6802648121035058, -0.34003192706874236, -0.5137397644906472, -0.5368174330652651, 0.4202751418208489, -0.3198677890131691, -0.31163964494553775, 0.2268106326615443, 0.6648099569945886, 2.140621332831868, -0.5949102087984339, 0.40259560053342575, -0.09267303907885331, -0.7946923848289559, 0.586913334109037, 0.021161502513488466, 0.1848659139377951, 0.22709803616228175, -0.1306101767874836, -0.6164076917027408, 1.2684084825818736, -0.9755297314213847, 0.3741059318301075, 0.6682485760510523, -0.17004421868956107, 0.5576634002719846, -0.9093739892309276, 0.14202791267278791, 0.06868150772852093, 0.07839264424849657, -0.7400743307476855, -0.3853061397426866, 0.07689793902572122, 0.23011480705864348, 1.7508738467067895, -1.453442420596049, 0.8420979047499804, 1.6891445378263479, 0.47368495555077134, -0.30916558753400286, 0.23637695522118865, -0.9887126488328746, -0.031391158134826534, -0.26660624144688044, -0.2530288080543514, -1.1766082415430823, -1.1435420672667838, 0.024943063181731534, -0.06054653961596625, -2.0488634747918777, -0.14035950716657852, -0.8810024395894686, 0.7571915926224295, -1.1892075439614962, -0.6395908065694585, 0.5657106724083465, 1.8292579421414603, 0.6262328059312774, -0.9300798282745119, 0.3397254809931466, 1.7110703679891026, 1.2149825640455487, 0.15296513534562917, 2.160248621352118, -1.509063350689425, 3.013048413351719, -1.2644931050745796, -1.05632038523152, 1.0024467918020137, -0.8066167894727868, -1.613603438588704, 1.547524205231109, -0.9207283726043063, -1.1637053526071637, -1.679086744329513], \"yaxis\": \"y\"}],\n",
              "                        {\"coloraxis\": {\"colorbar\": {\"title\": {\"text\": \"Label\"}}, \"colorscale\": [[0.0, \"#0d0887\"], [0.1111111111111111, \"#46039f\"], [0.2222222222222222, \"#7201a8\"], [0.3333333333333333, \"#9c179e\"], [0.4444444444444444, \"#bd3786\"], [0.5555555555555556, \"#d8576b\"], [0.6666666666666666, \"#ed7953\"], [0.7777777777777778, \"#fb9f3a\"], [0.8888888888888888, \"#fdca26\"], [1.0, \"#f0f921\"]]}, \"font\": {\"color\": \"#7f7f7f\", \"family\": \"Courier New, monospace\", \"size\": 12}, \"height\": 400, \"legend\": {\"tracegroupgap\": 0}, \"margin\": {\"t\": 60}, \"template\": {\"data\": {\"bar\": [{\"error_x\": {\"color\": \"#2a3f5f\"}, \"error_y\": {\"color\": \"#2a3f5f\"}, \"marker\": {\"line\": {\"color\": \"#E5ECF6\", \"width\": 0.5}}, \"type\": \"bar\"}], \"barpolar\": [{\"marker\": {\"line\": {\"color\": \"#E5ECF6\", \"width\": 0.5}}, \"type\": \"barpolar\"}], \"carpet\": [{\"aaxis\": {\"endlinecolor\": \"#2a3f5f\", \"gridcolor\": \"white\", \"linecolor\": \"white\", \"minorgridcolor\": \"white\", \"startlinecolor\": \"#2a3f5f\"}, \"baxis\": {\"endlinecolor\": \"#2a3f5f\", \"gridcolor\": \"white\", \"linecolor\": \"white\", \"minorgridcolor\": \"white\", \"startlinecolor\": \"#2a3f5f\"}, \"type\": \"carpet\"}], \"choropleth\": [{\"colorbar\": {\"outlinewidth\": 0, \"ticks\": \"\"}, \"type\": \"choropleth\"}], \"contour\": [{\"colorbar\": {\"outlinewidth\": 0, \"ticks\": \"\"}, \"colorscale\": [[0.0, \"#0d0887\"], [0.1111111111111111, \"#46039f\"], [0.2222222222222222, \"#7201a8\"], [0.3333333333333333, \"#9c179e\"], [0.4444444444444444, \"#bd3786\"], [0.5555555555555556, \"#d8576b\"], [0.6666666666666666, \"#ed7953\"], [0.7777777777777778, \"#fb9f3a\"], [0.8888888888888888, \"#fdca26\"], [1.0, \"#f0f921\"]], \"type\": \"contour\"}], \"contourcarpet\": [{\"colorbar\": {\"outlinewidth\": 0, \"ticks\": \"\"}, \"type\": \"contourcarpet\"}], \"heatmap\": [{\"colorbar\": {\"outlinewidth\": 0, \"ticks\": \"\"}, \"colorscale\": [[0.0, \"#0d0887\"], [0.1111111111111111, \"#46039f\"], [0.2222222222222222, \"#7201a8\"], [0.3333333333333333, \"#9c179e\"], [0.4444444444444444, \"#bd3786\"], [0.5555555555555556, \"#d8576b\"], [0.6666666666666666, \"#ed7953\"], [0.7777777777777778, \"#fb9f3a\"], [0.8888888888888888, \"#fdca26\"], [1.0, \"#f0f921\"]], \"type\": \"heatmap\"}], \"heatmapgl\": [{\"colorbar\": {\"outlinewidth\": 0, \"ticks\": \"\"}, \"colorscale\": [[0.0, \"#0d0887\"], [0.1111111111111111, \"#46039f\"], [0.2222222222222222, \"#7201a8\"], [0.3333333333333333, \"#9c179e\"], [0.4444444444444444, \"#bd3786\"], [0.5555555555555556, \"#d8576b\"], [0.6666666666666666, \"#ed7953\"], [0.7777777777777778, \"#fb9f3a\"], [0.8888888888888888, \"#fdca26\"], [1.0, \"#f0f921\"]], \"type\": \"heatmapgl\"}], \"histogram\": [{\"marker\": {\"colorbar\": {\"outlinewidth\": 0, \"ticks\": \"\"}}, \"type\": \"histogram\"}], \"histogram2d\": [{\"colorbar\": {\"outlinewidth\": 0, \"ticks\": \"\"}, \"colorscale\": [[0.0, \"#0d0887\"], [0.1111111111111111, \"#46039f\"], [0.2222222222222222, \"#7201a8\"], [0.3333333333333333, \"#9c179e\"], [0.4444444444444444, \"#bd3786\"], [0.5555555555555556, \"#d8576b\"], [0.6666666666666666, \"#ed7953\"], [0.7777777777777778, \"#fb9f3a\"], [0.8888888888888888, \"#fdca26\"], [1.0, \"#f0f921\"]], \"type\": \"histogram2d\"}], \"histogram2dcontour\": [{\"colorbar\": {\"outlinewidth\": 0, \"ticks\": \"\"}, \"colorscale\": [[0.0, \"#0d0887\"], [0.1111111111111111, \"#46039f\"], [0.2222222222222222, \"#7201a8\"], [0.3333333333333333, \"#9c179e\"], [0.4444444444444444, \"#bd3786\"], [0.5555555555555556, \"#d8576b\"], [0.6666666666666666, \"#ed7953\"], [0.7777777777777778, \"#fb9f3a\"], [0.8888888888888888, \"#fdca26\"], [1.0, \"#f0f921\"]], \"type\": \"histogram2dcontour\"}], \"mesh3d\": [{\"colorbar\": {\"outlinewidth\": 0, \"ticks\": \"\"}, \"type\": \"mesh3d\"}], \"parcoords\": [{\"line\": {\"colorbar\": {\"outlinewidth\": 0, \"ticks\": \"\"}}, \"type\": \"parcoords\"}], \"pie\": [{\"automargin\": true, \"type\": \"pie\"}], \"scatter\": [{\"marker\": {\"colorbar\": {\"outlinewidth\": 0, \"ticks\": \"\"}}, \"type\": \"scatter\"}], \"scatter3d\": [{\"line\": {\"colorbar\": {\"outlinewidth\": 0, \"ticks\": \"\"}}, \"marker\": {\"colorbar\": {\"outlinewidth\": 0, \"ticks\": \"\"}}, \"type\": \"scatter3d\"}], \"scattercarpet\": [{\"marker\": {\"colorbar\": {\"outlinewidth\": 0, \"ticks\": \"\"}}, \"type\": \"scattercarpet\"}], \"scattergeo\": [{\"marker\": {\"colorbar\": {\"outlinewidth\": 0, \"ticks\": \"\"}}, \"type\": \"scattergeo\"}], \"scattergl\": [{\"marker\": {\"colorbar\": {\"outlinewidth\": 0, \"ticks\": \"\"}}, \"type\": \"scattergl\"}], \"scattermapbox\": [{\"marker\": {\"colorbar\": {\"outlinewidth\": 0, \"ticks\": \"\"}}, \"type\": \"scattermapbox\"}], \"scatterpolar\": [{\"marker\": {\"colorbar\": {\"outlinewidth\": 0, \"ticks\": \"\"}}, \"type\": \"scatterpolar\"}], \"scatterpolargl\": [{\"marker\": {\"colorbar\": {\"outlinewidth\": 0, \"ticks\": \"\"}}, \"type\": \"scatterpolargl\"}], \"scatterternary\": [{\"marker\": {\"colorbar\": {\"outlinewidth\": 0, \"ticks\": \"\"}}, \"type\": \"scatterternary\"}], \"surface\": [{\"colorbar\": {\"outlinewidth\": 0, \"ticks\": \"\"}, \"colorscale\": [[0.0, \"#0d0887\"], [0.1111111111111111, \"#46039f\"], [0.2222222222222222, \"#7201a8\"], [0.3333333333333333, \"#9c179e\"], [0.4444444444444444, \"#bd3786\"], [0.5555555555555556, \"#d8576b\"], [0.6666666666666666, \"#ed7953\"], [0.7777777777777778, \"#fb9f3a\"], [0.8888888888888888, \"#fdca26\"], [1.0, \"#f0f921\"]], \"type\": \"surface\"}], \"table\": [{\"cells\": {\"fill\": {\"color\": \"#EBF0F8\"}, \"line\": {\"color\": \"white\"}}, \"header\": {\"fill\": {\"color\": \"#C8D4E3\"}, \"line\": {\"color\": \"white\"}}, \"type\": \"table\"}]}, \"layout\": {\"annotationdefaults\": {\"arrowcolor\": \"#2a3f5f\", \"arrowhead\": 0, \"arrowwidth\": 1}, \"coloraxis\": {\"colorbar\": {\"outlinewidth\": 0, \"ticks\": \"\"}}, \"colorscale\": {\"diverging\": [[0, \"#8e0152\"], [0.1, \"#c51b7d\"], [0.2, \"#de77ae\"], [0.3, \"#f1b6da\"], [0.4, \"#fde0ef\"], [0.5, \"#f7f7f7\"], [0.6, \"#e6f5d0\"], [0.7, \"#b8e186\"], [0.8, \"#7fbc41\"], [0.9, \"#4d9221\"], [1, \"#276419\"]], \"sequential\": [[0.0, \"#0d0887\"], [0.1111111111111111, \"#46039f\"], [0.2222222222222222, \"#7201a8\"], [0.3333333333333333, \"#9c179e\"], [0.4444444444444444, \"#bd3786\"], [0.5555555555555556, \"#d8576b\"], [0.6666666666666666, \"#ed7953\"], [0.7777777777777778, \"#fb9f3a\"], [0.8888888888888888, \"#fdca26\"], [1.0, \"#f0f921\"]], \"sequentialminus\": [[0.0, \"#0d0887\"], [0.1111111111111111, \"#46039f\"], [0.2222222222222222, \"#7201a8\"], [0.3333333333333333, \"#9c179e\"], [0.4444444444444444, \"#bd3786\"], [0.5555555555555556, \"#d8576b\"], [0.6666666666666666, \"#ed7953\"], [0.7777777777777778, \"#fb9f3a\"], [0.8888888888888888, \"#fdca26\"], [1.0, \"#f0f921\"]]}, \"colorway\": [\"#636efa\", \"#EF553B\", \"#00cc96\", \"#ab63fa\", \"#FFA15A\", \"#19d3f3\", \"#FF6692\", \"#B6E880\", \"#FF97FF\", \"#FECB52\"], \"font\": {\"color\": \"#2a3f5f\"}, \"geo\": {\"bgcolor\": \"white\", \"lakecolor\": \"white\", \"landcolor\": \"#E5ECF6\", \"showlakes\": true, \"showland\": true, \"subunitcolor\": \"white\"}, \"hoverlabel\": {\"align\": \"left\"}, \"hovermode\": \"closest\", \"mapbox\": {\"style\": \"light\"}, \"paper_bgcolor\": \"white\", \"plot_bgcolor\": \"#E5ECF6\", \"polar\": {\"angularaxis\": {\"gridcolor\": \"white\", \"linecolor\": \"white\", \"ticks\": \"\"}, \"bgcolor\": \"#E5ECF6\", \"radialaxis\": {\"gridcolor\": \"white\", \"linecolor\": \"white\", \"ticks\": \"\"}}, \"scene\": {\"xaxis\": {\"backgroundcolor\": \"#E5ECF6\", \"gridcolor\": \"white\", \"gridwidth\": 2, \"linecolor\": \"white\", \"showbackground\": true, \"ticks\": \"\", \"zerolinecolor\": \"white\"}, \"yaxis\": {\"backgroundcolor\": \"#E5ECF6\", \"gridcolor\": \"white\", \"gridwidth\": 2, \"linecolor\": \"white\", \"showbackground\": true, \"ticks\": \"\", \"zerolinecolor\": \"white\"}, \"zaxis\": {\"backgroundcolor\": \"#E5ECF6\", \"gridcolor\": \"white\", \"gridwidth\": 2, \"linecolor\": \"white\", \"showbackground\": true, \"ticks\": \"\", \"zerolinecolor\": \"white\"}}, \"shapedefaults\": {\"line\": {\"color\": \"#2a3f5f\"}}, \"ternary\": {\"aaxis\": {\"gridcolor\": \"white\", \"linecolor\": \"white\", \"ticks\": \"\"}, \"baxis\": {\"gridcolor\": \"white\", \"linecolor\": \"white\", \"ticks\": \"\"}, \"bgcolor\": \"#E5ECF6\", \"caxis\": {\"gridcolor\": \"white\", \"linecolor\": \"white\", \"ticks\": \"\"}}, \"title\": {\"x\": 0.05}, \"xaxis\": {\"automargin\": true, \"gridcolor\": \"white\", \"linecolor\": \"white\", \"ticks\": \"\", \"title\": {\"standoff\": 15}, \"zerolinecolor\": \"white\", \"zerolinewidth\": 2}, \"yaxis\": {\"automargin\": true, \"gridcolor\": \"white\", \"linecolor\": \"white\", \"ticks\": \"\", \"title\": {\"standoff\": 15}, \"zerolinecolor\": \"white\", \"zerolinewidth\": 2}}}, \"title\": {\"text\": \"Clusters generated by DBSCAN on HDI Dataset\"}, \"width\": 600, \"xaxis\": {\"anchor\": \"y\", \"domain\": [0.0, 1.0], \"title\": {\"text\": \"Feature 1\"}}, \"yaxis\": {\"anchor\": \"x\", \"domain\": [0.0, 1.0], \"title\": {\"text\": \"Feature 2\"}}},\n",
              "                        {\"responsive\": true}\n",
              "                    ).then(function(){\n",
              "                            \n",
              "var gd = document.getElementById('25fed1b6-c593-4c12-ad78-746922543299');\n",
              "var x = new MutationObserver(function (mutations, observer) {{\n",
              "        var display = window.getComputedStyle(gd).display;\n",
              "        if (!display || display === 'none') {{\n",
              "            console.log([gd, 'removed!']);\n",
              "            Plotly.purge(gd);\n",
              "            observer.disconnect();\n",
              "        }}\n",
              "}});\n",
              "\n",
              "// Listen for the removal of the full notebook cells\n",
              "var notebookContainer = gd.closest('#notebook-container');\n",
              "if (notebookContainer) {{\n",
              "    x.observe(notebookContainer, {childList: true});\n",
              "}}\n",
              "\n",
              "// Listen for the clearing of the current output cell\n",
              "var outputEl = gd.closest('.output');\n",
              "if (outputEl) {{\n",
              "    x.observe(outputEl, {childList: true});\n",
              "}}\n",
              "\n",
              "                        })\n",
              "                };\n",
              "                \n",
              "            </script>\n",
              "        </div>\n",
              "</body>\n",
              "</html>"
            ]
          },
          "metadata": {
            "tags": []
          }
        },
        {
          "output_type": "display_data",
          "data": {
            "text/html": [
              "<html>\n",
              "<head><meta charset=\"utf-8\" /></head>\n",
              "<body>\n",
              "    <div>\n",
              "            <script src=\"https://cdnjs.cloudflare.com/ajax/libs/mathjax/2.7.5/MathJax.js?config=TeX-AMS-MML_SVG\"></script><script type=\"text/javascript\">if (window.MathJax) {MathJax.Hub.Config({SVG: {font: \"STIX-Web\"}});}</script>\n",
              "                <script type=\"text/javascript\">window.PlotlyConfig = {MathJaxConfig: 'local'};</script>\n",
              "        <script src=\"https://cdn.plot.ly/plotly-latest.min.js\"></script>    \n",
              "            <div id=\"17d8f747-3252-49a4-bf84-d3d4f7e81196\" class=\"plotly-graph-div\" style=\"height:600px; width:900px;\"></div>\n",
              "            <script type=\"text/javascript\">\n",
              "                \n",
              "                    window.PLOTLYENV=window.PLOTLYENV || {};\n",
              "                    \n",
              "                if (document.getElementById(\"17d8f747-3252-49a4-bf84-d3d4f7e81196\")) {\n",
              "                    Plotly.newPlot(\n",
              "                        '17d8f747-3252-49a4-bf84-d3d4f7e81196',\n",
              "                        [{\"customdata\": [[\"Kathmandu\"], [\"Lalitpur\"], [\"Kaski\"], [\"Bhaktapur\"], [\"Ilam\"], [\"Chitwan\"], [\"Syangja\"], [\"Palpa\"], [\"Jhapa\"], [\"Manang\"], [\"Tanahu\"], [\"Tehrathum\"], [\"Dhankuta\"], [\"Parbat\"], [\"Surkhet\"], [\"Arghakhanchi\"], [\"Gulmi\"], [\"Panchthar\"], [\"Baglung\"], [\"Myagdi\"], [\"Taplejung\"], [\"Lamjung\"], [\"Nawalparasi\"], [\"Kanchanpur\"], [\"Morang\"], [\"Dang\"], [\"Kavrepalanchok\"], [\"Rupandehi\"], [\"Sankhuwasabha\"], [\"Bhojpur\"], [\"Khotang\"], [\"Udayapur\"], [\"Sunsari\"], [\"Makwanpur\"], [\"Pyuthan\"], [\"Gorkha\"], [\"Kailali\"], [\"Mustang\"], [\"Bardiya\"], [\"Darchula\"], [\"Dadeldhura\"], [\"Okhaldhunga\"], [\"Solukhumbu\"], [\"Salyan\"], [\"Baitadi\"], [\"Dhading\"], [\"Dolakha\"], [\"Dailekh\"], [\"Banke\"], [\"Ramechhap\"], [\"Rukum\"], [\"Sindhuli\"], [\"Rolpa\"], [\"Nuwakot\"], [\"Sindhupalchok\"], [\"Jajarkot\"], [\"Kalikot\"], [\"Doti\"], [\"Parsa\"], [\"Achham\"], [\"Bajura\"], [\"Bajhang\"], [\"Kapilbastu\"], [\"Jumla\"], [\"Saptari\"], [\"Dolpa\"], [\"Rasuwa\"], [\"Bara\"], [\"Mugu\"], [\"Dhanusa\"], [\"Siraha\"], [\"Humla\"], [\"Mahottari\"], [\"Sarlahi\"], [\"Rautahat\"]], \"hoverlabel\": {\"namelength\": 0}, \"hovertemplate\": \"Feature 1=%{x}<br>Feature 2=%{y}<br>Feature 3=%{z}<br>District=%{customdata[0]}<br>Label=%{marker.color}\", \"legendgroup\": \"\", \"marker\": {\"color\": [-1, -1, -1, -1, -1, -1, -1, -1, -1, -1, 0, -1, -1, 0, -1, 1, 1, 2, 1, 0, -1, -1, 2, -1, 2, 2, -1, 2, 2, 2, -1, -1, 2, -1, -1, -1, -1, -1, -1, -1, -1, 3, -1, 4, -1, 3, 3, 4, -1, -1, 4, -1, -1, -1, -1, -1, -1, -1, -1, -1, -1, -1, -1, -1, -1, -1, -1, -1, -1, -1, -1, -1, -1, -1, -1], \"coloraxis\": \"coloraxis\", \"opacity\": 0.7, \"symbol\": \"circle\"}, \"mode\": \"markers\", \"name\": \"\", \"scene\": \"scene\", \"showlegend\": false, \"type\": \"scatter3d\", \"x\": [4.337676161009879, 3.1188093937368926, 2.830948630962913, 2.5168105584441234, 1.7291140911730674, 2.040543049794674, 1.7994747111064104, 1.3761045616799337, 1.31833283311004, 2.958645766747861, 1.4129072867475991, 1.5629826216477913, 1.4064240263584398, 1.2725205480927837, 0.761248973450328, 0.8820971656443796, 0.6805614111792186, 0.9217094645482207, 0.7428031246444279, 0.9795222878170533, 0.8357059863368657, 1.1040973276057724, 0.7776769501723727, 0.5022332929202458, 0.8878382697494428, 0.6423138866765653, 1.100853962493588, 0.6101868162321225, 0.6477964067183314, 0.4619519650061602, 0.6590623778089529, 0.36424414459038096, 0.4171370176884071, 0.6045583761553454, -0.3075968511296998, 0.37654235414387555, -0.12680490990566468, 0.6520292930851708, -0.0747824204261186, -0.2919208573771572, -0.19956253130035978, -0.03621948100838211, 0.6730832491070953, -0.4046311999318163, -0.5917484386471994, -0.23894155552680788, -0.2563232304950418, -0.7719637229464518, -0.37771181937557285, -0.15088988184664182, -0.7057616609044269, -0.757880382486588, -1.1626584477667041, -0.5481171327040923, -0.6353121808783192, -1.6918504081961632, -1.9411431711329896, -1.3280519157712571, -1.0099423872152289, -1.7065669030174735, -2.050763028948897, -1.879393665841731, -1.5117047415048723, -1.7923045383673568, -1.4370479121349218, -1.9218419823528863, -0.9460864516443463, -1.2084688483586674, -2.2135021245879876, -2.0178127151413556, -2.1183630033478975, -2.829681142815764, -2.780561379034425, -2.6673505102708344, -3.27528481004463], \"y\": [0.6802648121035058, -0.34003192706874236, -0.5137397644906472, -0.5368174330652651, 0.4202751418208489, -0.3198677890131691, -0.31163964494553775, 0.2268106326615443, 0.6648099569945886, 2.140621332831868, -0.5949102087984339, 0.40259560053342575, -0.09267303907885331, -0.7946923848289559, 0.586913334109037, 0.021161502513488466, 0.1848659139377951, 0.22709803616228175, -0.1306101767874836, -0.6164076917027408, 1.2684084825818736, -0.9755297314213847, 0.3741059318301075, 0.6682485760510523, -0.17004421868956107, 0.5576634002719846, -0.9093739892309276, 0.14202791267278791, 0.06868150772852093, 0.07839264424849657, -0.7400743307476855, -0.3853061397426866, 0.07689793902572122, 0.23011480705864348, 1.7508738467067895, -1.453442420596049, 0.8420979047499804, 1.6891445378263479, 0.47368495555077134, -0.30916558753400286, 0.23637695522118865, -0.9887126488328746, -0.031391158134826534, -0.26660624144688044, -0.2530288080543514, -1.1766082415430823, -1.1435420672667838, 0.024943063181731534, -0.06054653961596625, -2.0488634747918777, -0.14035950716657852, -0.8810024395894686, 0.7571915926224295, -1.1892075439614962, -0.6395908065694585, 0.5657106724083465, 1.8292579421414603, 0.6262328059312774, -0.9300798282745119, 0.3397254809931466, 1.7110703679891026, 1.2149825640455487, 0.15296513534562917, 2.160248621352118, -1.509063350689425, 3.013048413351719, -1.2644931050745796, -1.05632038523152, 1.0024467918020137, -0.8066167894727868, -1.613603438588704, 1.547524205231109, -0.9207283726043063, -1.1637053526071637, -1.679086744329513], \"z\": [2.0222821765855676, 0.5210007167699616, -0.16011608948428932, -0.48015500455669996, -0.4471268365768852, 0.17921168567584614, -0.5436186105798498, -0.9671745751748135, -0.356556984373432, 3.571907886007269, -0.6724371969629509, 0.023603383918261844, -0.2454365924656885, -0.7354858983507098, -0.8869291507998966, -0.8844765859515278, -1.1991229802176933, -0.47456744040832544, -0.8954298821907934, -0.5612950089805885, 0.04195106207832734, -0.18482853015019693, -0.23929195568449177, -0.7111523169117008, 0.015503060479370624, -0.260081609324938, 0.34865442560670923, -0.22088526858838667, -0.033067983109327716, -0.44605748140353807, -0.1123728485901261, -0.5374136870433012, -0.14949471477170487, 0.5320643032976154, -1.0659026420753994, -0.1172654051146439, -0.38391062442319823, 1.6280748444141382, 0.022386773343455846, -1.022312308573744, -0.782754845176918, -0.18076205695597722, 1.6152902879193733, -0.5115702850221152, -1.0317313968798172, 0.02887338077626582, -0.1461299583498017, -0.621927815277977, 0.3651970780080005, -0.02129052704231724, -0.3698350168467213, -0.15851795322486567, -0.6125114795420649, 0.45808607186183, 0.5001233711506352, -0.37251644378622406, -0.5009075303131433, -0.23745451228485906, 0.9763852757153659, -0.5980499519941781, -0.5920876107481032, -0.7642864577367177, 0.5370221169925684, 0.45382755288113624, 0.17215587099418117, 0.510605564630845, 1.797605173032055, 1.7605844018748429, 0.4371844420176695, 0.7735993876258229, 0.26324869272119505, 0.507954482685774, 0.527662970093744, 0.829819002337994, 1.074434612524817]}],\n",
              "                        {\"coloraxis\": {\"colorbar\": {\"title\": {\"text\": \"Label\"}}, \"colorscale\": [[0.0, \"#0d0887\"], [0.1111111111111111, \"#46039f\"], [0.2222222222222222, \"#7201a8\"], [0.3333333333333333, \"#9c179e\"], [0.4444444444444444, \"#bd3786\"], [0.5555555555555556, \"#d8576b\"], [0.6666666666666666, \"#ed7953\"], [0.7777777777777778, \"#fb9f3a\"], [0.8888888888888888, \"#fdca26\"], [1.0, \"#f0f921\"]]}, \"font\": {\"color\": \"#7f7f7f\", \"family\": \"Courier New, monospace\", \"size\": 12}, \"height\": 600, \"legend\": {\"tracegroupgap\": 0}, \"margin\": {\"t\": 60}, \"scene\": {\"domain\": {\"x\": [0.0, 1.0], \"y\": [0.0, 1.0]}, \"xaxis\": {\"title\": {\"text\": \"Feature 1\"}}, \"yaxis\": {\"title\": {\"text\": \"Feature 2\"}}, \"zaxis\": {\"title\": {\"text\": \"Feature 3\"}}}, \"template\": {\"data\": {\"bar\": [{\"error_x\": {\"color\": \"#2a3f5f\"}, \"error_y\": {\"color\": \"#2a3f5f\"}, \"marker\": {\"line\": {\"color\": \"#E5ECF6\", \"width\": 0.5}}, \"type\": \"bar\"}], \"barpolar\": [{\"marker\": {\"line\": {\"color\": \"#E5ECF6\", \"width\": 0.5}}, \"type\": \"barpolar\"}], \"carpet\": [{\"aaxis\": {\"endlinecolor\": \"#2a3f5f\", \"gridcolor\": \"white\", \"linecolor\": \"white\", \"minorgridcolor\": \"white\", \"startlinecolor\": \"#2a3f5f\"}, \"baxis\": {\"endlinecolor\": \"#2a3f5f\", \"gridcolor\": \"white\", \"linecolor\": \"white\", \"minorgridcolor\": \"white\", \"startlinecolor\": \"#2a3f5f\"}, \"type\": \"carpet\"}], \"choropleth\": [{\"colorbar\": {\"outlinewidth\": 0, \"ticks\": \"\"}, \"type\": \"choropleth\"}], \"contour\": [{\"colorbar\": {\"outlinewidth\": 0, \"ticks\": \"\"}, \"colorscale\": [[0.0, \"#0d0887\"], [0.1111111111111111, \"#46039f\"], [0.2222222222222222, \"#7201a8\"], [0.3333333333333333, \"#9c179e\"], [0.4444444444444444, \"#bd3786\"], [0.5555555555555556, \"#d8576b\"], [0.6666666666666666, \"#ed7953\"], [0.7777777777777778, \"#fb9f3a\"], [0.8888888888888888, \"#fdca26\"], [1.0, \"#f0f921\"]], \"type\": \"contour\"}], \"contourcarpet\": [{\"colorbar\": {\"outlinewidth\": 0, \"ticks\": \"\"}, \"type\": \"contourcarpet\"}], \"heatmap\": [{\"colorbar\": {\"outlinewidth\": 0, \"ticks\": \"\"}, \"colorscale\": [[0.0, \"#0d0887\"], [0.1111111111111111, \"#46039f\"], [0.2222222222222222, \"#7201a8\"], [0.3333333333333333, \"#9c179e\"], [0.4444444444444444, \"#bd3786\"], [0.5555555555555556, \"#d8576b\"], [0.6666666666666666, \"#ed7953\"], [0.7777777777777778, \"#fb9f3a\"], [0.8888888888888888, \"#fdca26\"], [1.0, \"#f0f921\"]], \"type\": \"heatmap\"}], \"heatmapgl\": [{\"colorbar\": {\"outlinewidth\": 0, \"ticks\": \"\"}, \"colorscale\": [[0.0, \"#0d0887\"], [0.1111111111111111, \"#46039f\"], [0.2222222222222222, \"#7201a8\"], [0.3333333333333333, \"#9c179e\"], [0.4444444444444444, \"#bd3786\"], [0.5555555555555556, \"#d8576b\"], [0.6666666666666666, \"#ed7953\"], [0.7777777777777778, \"#fb9f3a\"], [0.8888888888888888, \"#fdca26\"], [1.0, \"#f0f921\"]], \"type\": \"heatmapgl\"}], \"histogram\": [{\"marker\": {\"colorbar\": {\"outlinewidth\": 0, \"ticks\": \"\"}}, \"type\": \"histogram\"}], \"histogram2d\": [{\"colorbar\": {\"outlinewidth\": 0, \"ticks\": \"\"}, \"colorscale\": [[0.0, \"#0d0887\"], [0.1111111111111111, \"#46039f\"], [0.2222222222222222, \"#7201a8\"], [0.3333333333333333, \"#9c179e\"], [0.4444444444444444, \"#bd3786\"], [0.5555555555555556, \"#d8576b\"], [0.6666666666666666, \"#ed7953\"], [0.7777777777777778, \"#fb9f3a\"], [0.8888888888888888, \"#fdca26\"], [1.0, \"#f0f921\"]], \"type\": \"histogram2d\"}], \"histogram2dcontour\": [{\"colorbar\": {\"outlinewidth\": 0, \"ticks\": \"\"}, \"colorscale\": [[0.0, \"#0d0887\"], [0.1111111111111111, \"#46039f\"], [0.2222222222222222, \"#7201a8\"], [0.3333333333333333, \"#9c179e\"], [0.4444444444444444, \"#bd3786\"], [0.5555555555555556, \"#d8576b\"], [0.6666666666666666, \"#ed7953\"], [0.7777777777777778, \"#fb9f3a\"], [0.8888888888888888, \"#fdca26\"], [1.0, \"#f0f921\"]], \"type\": \"histogram2dcontour\"}], \"mesh3d\": [{\"colorbar\": {\"outlinewidth\": 0, \"ticks\": \"\"}, \"type\": \"mesh3d\"}], \"parcoords\": [{\"line\": {\"colorbar\": {\"outlinewidth\": 0, \"ticks\": \"\"}}, \"type\": \"parcoords\"}], \"pie\": [{\"automargin\": true, \"type\": \"pie\"}], \"scatter\": [{\"marker\": {\"colorbar\": {\"outlinewidth\": 0, \"ticks\": \"\"}}, \"type\": \"scatter\"}], \"scatter3d\": [{\"line\": {\"colorbar\": {\"outlinewidth\": 0, \"ticks\": \"\"}}, \"marker\": {\"colorbar\": {\"outlinewidth\": 0, \"ticks\": \"\"}}, \"type\": \"scatter3d\"}], \"scattercarpet\": [{\"marker\": {\"colorbar\": {\"outlinewidth\": 0, \"ticks\": \"\"}}, \"type\": \"scattercarpet\"}], \"scattergeo\": [{\"marker\": {\"colorbar\": {\"outlinewidth\": 0, \"ticks\": \"\"}}, \"type\": \"scattergeo\"}], \"scattergl\": [{\"marker\": {\"colorbar\": {\"outlinewidth\": 0, \"ticks\": \"\"}}, \"type\": \"scattergl\"}], \"scattermapbox\": [{\"marker\": {\"colorbar\": {\"outlinewidth\": 0, \"ticks\": \"\"}}, \"type\": \"scattermapbox\"}], \"scatterpolar\": [{\"marker\": {\"colorbar\": {\"outlinewidth\": 0, \"ticks\": \"\"}}, \"type\": \"scatterpolar\"}], \"scatterpolargl\": [{\"marker\": {\"colorbar\": {\"outlinewidth\": 0, \"ticks\": \"\"}}, \"type\": \"scatterpolargl\"}], \"scatterternary\": [{\"marker\": {\"colorbar\": {\"outlinewidth\": 0, \"ticks\": \"\"}}, \"type\": \"scatterternary\"}], \"surface\": [{\"colorbar\": {\"outlinewidth\": 0, \"ticks\": \"\"}, \"colorscale\": [[0.0, \"#0d0887\"], [0.1111111111111111, \"#46039f\"], [0.2222222222222222, \"#7201a8\"], [0.3333333333333333, \"#9c179e\"], [0.4444444444444444, \"#bd3786\"], [0.5555555555555556, \"#d8576b\"], [0.6666666666666666, \"#ed7953\"], [0.7777777777777778, \"#fb9f3a\"], [0.8888888888888888, \"#fdca26\"], [1.0, \"#f0f921\"]], \"type\": \"surface\"}], \"table\": [{\"cells\": {\"fill\": {\"color\": \"#EBF0F8\"}, \"line\": {\"color\": \"white\"}}, \"header\": {\"fill\": {\"color\": \"#C8D4E3\"}, \"line\": {\"color\": \"white\"}}, \"type\": \"table\"}]}, \"layout\": {\"annotationdefaults\": {\"arrowcolor\": \"#2a3f5f\", \"arrowhead\": 0, \"arrowwidth\": 1}, \"coloraxis\": {\"colorbar\": {\"outlinewidth\": 0, \"ticks\": \"\"}}, \"colorscale\": {\"diverging\": [[0, \"#8e0152\"], [0.1, \"#c51b7d\"], [0.2, \"#de77ae\"], [0.3, \"#f1b6da\"], [0.4, \"#fde0ef\"], [0.5, \"#f7f7f7\"], [0.6, \"#e6f5d0\"], [0.7, \"#b8e186\"], [0.8, \"#7fbc41\"], [0.9, \"#4d9221\"], [1, \"#276419\"]], \"sequential\": [[0.0, \"#0d0887\"], [0.1111111111111111, \"#46039f\"], [0.2222222222222222, \"#7201a8\"], [0.3333333333333333, \"#9c179e\"], [0.4444444444444444, \"#bd3786\"], [0.5555555555555556, \"#d8576b\"], [0.6666666666666666, \"#ed7953\"], [0.7777777777777778, \"#fb9f3a\"], [0.8888888888888888, \"#fdca26\"], [1.0, \"#f0f921\"]], \"sequentialminus\": [[0.0, \"#0d0887\"], [0.1111111111111111, \"#46039f\"], [0.2222222222222222, \"#7201a8\"], [0.3333333333333333, \"#9c179e\"], [0.4444444444444444, \"#bd3786\"], [0.5555555555555556, \"#d8576b\"], [0.6666666666666666, \"#ed7953\"], [0.7777777777777778, \"#fb9f3a\"], [0.8888888888888888, \"#fdca26\"], [1.0, \"#f0f921\"]]}, \"colorway\": [\"#636efa\", \"#EF553B\", \"#00cc96\", \"#ab63fa\", \"#FFA15A\", \"#19d3f3\", \"#FF6692\", \"#B6E880\", \"#FF97FF\", \"#FECB52\"], \"font\": {\"color\": \"#2a3f5f\"}, \"geo\": {\"bgcolor\": \"white\", \"lakecolor\": \"white\", \"landcolor\": \"#E5ECF6\", \"showlakes\": true, \"showland\": true, \"subunitcolor\": \"white\"}, \"hoverlabel\": {\"align\": \"left\"}, \"hovermode\": \"closest\", \"mapbox\": {\"style\": \"light\"}, \"paper_bgcolor\": \"white\", \"plot_bgcolor\": \"#E5ECF6\", \"polar\": {\"angularaxis\": {\"gridcolor\": \"white\", \"linecolor\": \"white\", \"ticks\": \"\"}, \"bgcolor\": \"#E5ECF6\", \"radialaxis\": {\"gridcolor\": \"white\", \"linecolor\": \"white\", \"ticks\": \"\"}}, \"scene\": {\"xaxis\": {\"backgroundcolor\": \"#E5ECF6\", \"gridcolor\": \"white\", \"gridwidth\": 2, \"linecolor\": \"white\", \"showbackground\": true, \"ticks\": \"\", \"zerolinecolor\": \"white\"}, \"yaxis\": {\"backgroundcolor\": \"#E5ECF6\", \"gridcolor\": \"white\", \"gridwidth\": 2, \"linecolor\": \"white\", \"showbackground\": true, \"ticks\": \"\", \"zerolinecolor\": \"white\"}, \"zaxis\": {\"backgroundcolor\": \"#E5ECF6\", \"gridcolor\": \"white\", \"gridwidth\": 2, \"linecolor\": \"white\", \"showbackground\": true, \"ticks\": \"\", \"zerolinecolor\": \"white\"}}, \"shapedefaults\": {\"line\": {\"color\": \"#2a3f5f\"}}, \"ternary\": {\"aaxis\": {\"gridcolor\": \"white\", \"linecolor\": \"white\", \"ticks\": \"\"}, \"baxis\": {\"gridcolor\": \"white\", \"linecolor\": \"white\", \"ticks\": \"\"}, \"bgcolor\": \"#E5ECF6\", \"caxis\": {\"gridcolor\": \"white\", \"linecolor\": \"white\", \"ticks\": \"\"}}, \"title\": {\"x\": 0.05}, \"xaxis\": {\"automargin\": true, \"gridcolor\": \"white\", \"linecolor\": \"white\", \"ticks\": \"\", \"title\": {\"standoff\": 15}, \"zerolinecolor\": \"white\", \"zerolinewidth\": 2}, \"yaxis\": {\"automargin\": true, \"gridcolor\": \"white\", \"linecolor\": \"white\", \"ticks\": \"\", \"title\": {\"standoff\": 15}, \"zerolinecolor\": \"white\", \"zerolinewidth\": 2}}}, \"title\": {\"text\": \"Clusters generated by DBSCAN on HDI Dataset 3D Visualization\"}, \"width\": 900, \"xaxis\": {\"title\": {\"text\": \"Feature 1\"}}, \"yaxis\": {\"title\": {\"text\": \"Feature 2\"}}},\n",
              "                        {\"responsive\": true}\n",
              "                    ).then(function(){\n",
              "                            \n",
              "var gd = document.getElementById('17d8f747-3252-49a4-bf84-d3d4f7e81196');\n",
              "var x = new MutationObserver(function (mutations, observer) {{\n",
              "        var display = window.getComputedStyle(gd).display;\n",
              "        if (!display || display === 'none') {{\n",
              "            console.log([gd, 'removed!']);\n",
              "            Plotly.purge(gd);\n",
              "            observer.disconnect();\n",
              "        }}\n",
              "}});\n",
              "\n",
              "// Listen for the removal of the full notebook cells\n",
              "var notebookContainer = gd.closest('#notebook-container');\n",
              "if (notebookContainer) {{\n",
              "    x.observe(notebookContainer, {childList: true});\n",
              "}}\n",
              "\n",
              "// Listen for the clearing of the current output cell\n",
              "var outputEl = gd.closest('.output');\n",
              "if (outputEl) {{\n",
              "    x.observe(outputEl, {childList: true});\n",
              "}}\n",
              "\n",
              "                        })\n",
              "                };\n",
              "                \n",
              "            </script>\n",
              "        </div>\n",
              "</body>\n",
              "</html>"
            ]
          },
          "metadata": {
            "tags": []
          }
        }
      ]
    },
    {
      "cell_type": "markdown",
      "metadata": {
        "id": "0UAKcujBRPMk",
        "colab_type": "text"
      },
      "source": [
        "### **K Means**"
      ]
    },
    {
      "cell_type": "code",
      "metadata": {
        "id": "JZLLVnh8J1sn",
        "colab_type": "code",
        "colab": {}
      },
      "source": [
        "from sklearn.cluster import KMeans, DBSCAN\n",
        "from sklearn.metrics import silhouette_score,calinski_harabasz_score, davies_bouldin_score"
      ],
      "execution_count": 0,
      "outputs": []
    },
    {
      "cell_type": "code",
      "metadata": {
        "id": "gmphnxZeRY43",
        "colab_type": "code",
        "outputId": "1ab1f9c9-fb2e-4e90-a178-b8a0ac274481",
        "colab": {
          "base_uri": "https://localhost:8080/",
          "height": 469
        }
      },
      "source": [
        "k_values=[]\n",
        "k_inertia=[]\n",
        "\n",
        "print('Clstr \\t Error \\t\\t Silho\\tCalinski \\tDavies ')\n",
        "for k in range(2,10):\n",
        "    kmeans=KMeans(n_clusters=k,random_state=1)\n",
        "    kmeans.fit(X_merged)\n",
        "    k_values.append(k)\n",
        "    k_inertia.append(kmeans.inertia_)\n",
        "#     print(k,': {0:.2f}'.format(kmeans.inertia_))\n",
        "#     print('Silhouette: {0:.2f}'.format(silhouette_score(X, kmeans.labels_)))\n",
        "    print(k,'\\t{0:.2f} \\t {1:.2f}\\t{2:.2f}\\t\\t{3:.2f}'\n",
        "          .format(kmeans.inertia_,silhouette_score(X_merged, kmeans.labels_),calinski_harabasz_score(X_merged, kmeans.labels_),davies_bouldin_score(X_merged, kmeans.labels_)))\n",
        " \n",
        "\n",
        "plt.title('Elbow Plot HDI Dataset')\n",
        "plt.xlabel('Number of Cluster')\n",
        "plt.ylabel('SSE')\n",
        "plt.plot(k_values,k_inertia)"
      ],
      "execution_count": 94,
      "outputs": [
        {
          "output_type": "stream",
          "text": [
            "Clstr \t Error \t\t Silho\tCalinski \tDavies \n",
            "2 \t6335007.60 \t 0.73\t94.56\t\t0.55\n",
            "3 \t2868750.34 \t 0.53\t146.47\t\t0.52\n",
            "4 \t1297432.55 \t 0.57\t241.57\t\t0.46\n",
            "5 \t803707.47 \t 0.56\t299.11\t\t0.43\n",
            "6 \t501213.96 \t 0.56\t386.55\t\t0.41\n",
            "7 \t327242.93 \t 0.58\t492.26\t\t0.42\n",
            "8 \t247698.07 \t 0.57\t552.31\t\t0.41\n",
            "9 \t166725.91 \t 0.55\t711.26\t\t0.35\n"
          ],
          "name": "stdout"
        },
        {
          "output_type": "execute_result",
          "data": {
            "text/plain": [
              "[<matplotlib.lines.Line2D at 0x7f5cf0f89f98>]"
            ]
          },
          "metadata": {
            "tags": []
          },
          "execution_count": 94
        },
        {
          "output_type": "display_data",
          "data": {
            "image/png": "[encoded data removed]",
            "text/plain": [
              "<Figure size 432x288 with 1 Axes>"
            ]
          },
          "metadata": {
            "tags": [],
            "needs_background": "light"
          }
        }
      ]
    },
    {
      "cell_type": "code",
      "metadata": {
        "id": "Y91nBOA0RiNF",
        "colab_type": "code",
        "outputId": "a537a07e-63f5-4c6c-e236-141c0877d638",
        "colab": {
          "base_uri": "https://localhost:8080/",
          "height": 121
        }
      },
      "source": [
        "kmeans=KMeans(n_clusters=7,random_state=1)\n",
        "kmeans.fit(X_merged)\n",
        "print('Kmeans labelled dataset as:\\n',kmeans.labels_)\n",
        "# print('*'*35,'\\n')\n",
        "# print('The center of the clusters are:\\n')\n",
        "# print(kmeans.cluster_centers_)\n",
        "# print('*'*35,'\\n')\n",
        "print('The error: ')\n",
        "print(kmeans.inertia_)"
      ],
      "execution_count": 95,
      "outputs": [
        {
          "output_type": "stream",
          "text": [
            "Kmeans labelled dataset as:\n",
            " [1 3 4 4 0 4 0 5 0 1 0 4 0 5 5 5 2 0 2 5 4 0 0 5 0 0 4 0 0 5 0 5 0 4 6 5 5\n",
            " 3 0 6 2 5 3 2 6 5 5 6 0 5 2 2 6 0 0 6 6 2 0 6 6 6 5 5 2 5 4 4 2 5 6 2 6 2\n",
            " 2]\n",
            "The error: \n",
            "327242.93257660803\n"
          ],
          "name": "stdout"
        }
      ]
    },
    {
      "cell_type": "code",
      "metadata": {
        "id": "YDSKy7id8NDG",
        "colab_type": "code",
        "colab": {}
      },
      "source": [
        "scaled_transformed_df['Label']=kmeans.labels_\n",
        "scaled_transformed_df['District'] = mixed_df['District'].tolist()\n"
      ],
      "execution_count": 0,
      "outputs": []
    },
    {
      "cell_type": "code",
      "metadata": {
        "id": "XJSNylsrXdio",
        "colab_type": "code",
        "outputId": "2853d003-ffca-40e1-8049-4bc57c432e1e",
        "colab": {
          "base_uri": "https://localhost:8080/",
          "height": 1000
        }
      },
      "source": [
        "fig=px.scatter(scaled_transformed_df, x= 'Feature 1',y='Feature 2',color='Label',hover_data=['District'],width=900, height=450)\n",
        "fig.update_layout(\n",
        "    title=\"Clusters generated by KMeans on HDI Dataset\",\n",
        "    xaxis_title=\"Feature 1\",\n",
        "    yaxis_title=\"Feature 2\",\n",
        "    font=dict(\n",
        "        family=\"Courier New, monospace\",\n",
        "        size=12,\n",
        "        color=\"#7f7f7f\"\n",
        "    )\n",
        ")\n",
        "fig.show()\n",
        "\n",
        "fig=px.scatter_3d(scaled_transformed_df, x= 'Feature 1',y='Feature 2',z='Feature 3',color='Label',hover_data=['District'],width=900, height=600,size_max=7,opacity=0.7)\n",
        "fig.update_layout(\n",
        "    title=\"Clusters generated by KMeans on HDI Dataset 3D Visualization\",\n",
        "    xaxis_title=\"Feature 1\",\n",
        "    yaxis_title=\"Feature 2\",\n",
        "    font=dict(\n",
        "        family=\"Courier New, monospace\",\n",
        "        size=12,\n",
        "        color=\"#7f7f7f\"\n",
        "    )\n",
        ")\n",
        "fig.show()\n"
      ],
      "execution_count": 97,
      "outputs": [
        {
          "output_type": "display_data",
          "data": {
            "text/html": [
              "<html>\n",
              "<head><meta charset=\"utf-8\" /></head>\n",
              "<body>\n",
              "    <div>\n",
              "            <script src=\"https://cdnjs.cloudflare.com/ajax/libs/mathjax/2.7.5/MathJax.js?config=TeX-AMS-MML_SVG\"></script><script type=\"text/javascript\">if (window.MathJax) {MathJax.Hub.Config({SVG: {font: \"STIX-Web\"}});}</script>\n",
              "                <script type=\"text/javascript\">window.PlotlyConfig = {MathJaxConfig: 'local'};</script>\n",
              "        <script src=\"https://cdn.plot.ly/plotly-latest.min.js\"></script>    \n",
              "            <div id=\"67a63dff-b59e-4572-b151-87817d9a7246\" class=\"plotly-graph-div\" style=\"height:450px; width:900px;\"></div>\n",
              "            <script type=\"text/javascript\">\n",
              "                \n",
              "                    window.PLOTLYENV=window.PLOTLYENV || {};\n",
              "                    \n",
              "                if (document.getElementById(\"67a63dff-b59e-4572-b151-87817d9a7246\")) {\n",
              "                    Plotly.newPlot(\n",
              "                        '67a63dff-b59e-4572-b151-87817d9a7246',\n",
              "                        [{\"customdata\": [[\"Kathmandu\"], [\"Lalitpur\"], [\"Kaski\"], [\"Bhaktapur\"], [\"Ilam\"], [\"Chitwan\"], [\"Syangja\"], [\"Palpa\"], [\"Jhapa\"], [\"Manang\"], [\"Tanahu\"], [\"Tehrathum\"], [\"Dhankuta\"], [\"Parbat\"], [\"Surkhet\"], [\"Arghakhanchi\"], [\"Gulmi\"], [\"Panchthar\"], [\"Baglung\"], [\"Myagdi\"], [\"Taplejung\"], [\"Lamjung\"], [\"Nawalparasi\"], [\"Kanchanpur\"], [\"Morang\"], [\"Dang\"], [\"Kavrepalanchok\"], [\"Rupandehi\"], [\"Sankhuwasabha\"], [\"Bhojpur\"], [\"Khotang\"], [\"Udayapur\"], [\"Sunsari\"], [\"Makwanpur\"], [\"Pyuthan\"], [\"Gorkha\"], [\"Kailali\"], [\"Mustang\"], [\"Bardiya\"], [\"Darchula\"], [\"Dadeldhura\"], [\"Okhaldhunga\"], [\"Solukhumbu\"], [\"Salyan\"], [\"Baitadi\"], [\"Dhading\"], [\"Dolakha\"], [\"Dailekh\"], [\"Banke\"], [\"Ramechhap\"], [\"Rukum\"], [\"Sindhuli\"], [\"Rolpa\"], [\"Nuwakot\"], [\"Sindhupalchok\"], [\"Jajarkot\"], [\"Kalikot\"], [\"Doti\"], [\"Parsa\"], [\"Achham\"], [\"Bajura\"], [\"Bajhang\"], [\"Kapilbastu\"], [\"Jumla\"], [\"Saptari\"], [\"Dolpa\"], [\"Rasuwa\"], [\"Bara\"], [\"Mugu\"], [\"Dhanusa\"], [\"Siraha\"], [\"Humla\"], [\"Mahottari\"], [\"Sarlahi\"], [\"Rautahat\"]], \"hoverlabel\": {\"namelength\": 0}, \"hovertemplate\": \"Feature 1=%{x}<br>Feature 2=%{y}<br>District=%{customdata[0]}<br>Label=%{marker.color}\", \"legendgroup\": \"\", \"marker\": {\"color\": [1, 3, 4, 4, 0, 4, 0, 5, 0, 1, 0, 4, 0, 5, 5, 5, 2, 0, 2, 5, 4, 0, 0, 5, 0, 0, 4, 0, 0, 5, 0, 5, 0, 4, 6, 5, 5, 3, 0, 6, 2, 5, 3, 2, 6, 5, 5, 6, 0, 5, 2, 2, 6, 0, 0, 6, 6, 2, 0, 6, 6, 6, 5, 5, 2, 5, 4, 4, 2, 5, 6, 2, 6, 2, 2], \"coloraxis\": \"coloraxis\", \"symbol\": \"circle\"}, \"mode\": \"markers\", \"name\": \"\", \"showlegend\": false, \"type\": \"scatter\", \"x\": [4.337676161009879, 3.1188093937368926, 2.830948630962913, 2.5168105584441234, 1.7291140911730674, 2.040543049794674, 1.7994747111064104, 1.3761045616799337, 1.31833283311004, 2.958645766747861, 1.4129072867475991, 1.5629826216477913, 1.4064240263584398, 1.2725205480927837, 0.761248973450328, 0.8820971656443796, 0.6805614111792186, 0.9217094645482207, 0.7428031246444279, 0.9795222878170533, 0.8357059863368657, 1.1040973276057724, 0.7776769501723727, 0.5022332929202458, 0.8878382697494428, 0.6423138866765653, 1.100853962493588, 0.6101868162321225, 0.6477964067183314, 0.4619519650061602, 0.6590623778089529, 0.36424414459038096, 0.4171370176884071, 0.6045583761553454, -0.3075968511296998, 0.37654235414387555, -0.12680490990566468, 0.6520292930851708, -0.0747824204261186, -0.2919208573771572, -0.19956253130035978, -0.03621948100838211, 0.6730832491070953, -0.4046311999318163, -0.5917484386471994, -0.23894155552680788, -0.2563232304950418, -0.7719637229464518, -0.37771181937557285, -0.15088988184664182, -0.7057616609044269, -0.757880382486588, -1.1626584477667041, -0.5481171327040923, -0.6353121808783192, -1.6918504081961632, -1.9411431711329896, -1.3280519157712571, -1.0099423872152289, -1.7065669030174735, -2.050763028948897, -1.879393665841731, -1.5117047415048723, -1.7923045383673568, -1.4370479121349218, -1.9218419823528863, -0.9460864516443463, -1.2084688483586674, -2.2135021245879876, -2.0178127151413556, -2.1183630033478975, -2.829681142815764, -2.780561379034425, -2.6673505102708344, -3.27528481004463], \"xaxis\": \"x\", \"y\": [0.6802648121035058, -0.34003192706874236, -0.5137397644906472, -0.5368174330652651, 0.4202751418208489, -0.3198677890131691, -0.31163964494553775, 0.2268106326615443, 0.6648099569945886, 2.140621332831868, -0.5949102087984339, 0.40259560053342575, -0.09267303907885331, -0.7946923848289559, 0.586913334109037, 0.021161502513488466, 0.1848659139377951, 0.22709803616228175, -0.1306101767874836, -0.6164076917027408, 1.2684084825818736, -0.9755297314213847, 0.3741059318301075, 0.6682485760510523, -0.17004421868956107, 0.5576634002719846, -0.9093739892309276, 0.14202791267278791, 0.06868150772852093, 0.07839264424849657, -0.7400743307476855, -0.3853061397426866, 0.07689793902572122, 0.23011480705864348, 1.7508738467067895, -1.453442420596049, 0.8420979047499804, 1.6891445378263479, 0.47368495555077134, -0.30916558753400286, 0.23637695522118865, -0.9887126488328746, -0.031391158134826534, -0.26660624144688044, -0.2530288080543514, -1.1766082415430823, -1.1435420672667838, 0.024943063181731534, -0.06054653961596625, -2.0488634747918777, -0.14035950716657852, -0.8810024395894686, 0.7571915926224295, -1.1892075439614962, -0.6395908065694585, 0.5657106724083465, 1.8292579421414603, 0.6262328059312774, -0.9300798282745119, 0.3397254809931466, 1.7110703679891026, 1.2149825640455487, 0.15296513534562917, 2.160248621352118, -1.509063350689425, 3.013048413351719, -1.2644931050745796, -1.05632038523152, 1.0024467918020137, -0.8066167894727868, -1.613603438588704, 1.547524205231109, -0.9207283726043063, -1.1637053526071637, -1.679086744329513], \"yaxis\": \"y\"}],\n",
              "                        {\"coloraxis\": {\"colorbar\": {\"title\": {\"text\": \"Label\"}}, \"colorscale\": [[0.0, \"#0d0887\"], [0.1111111111111111, \"#46039f\"], [0.2222222222222222, \"#7201a8\"], [0.3333333333333333, \"#9c179e\"], [0.4444444444444444, \"#bd3786\"], [0.5555555555555556, \"#d8576b\"], [0.6666666666666666, \"#ed7953\"], [0.7777777777777778, \"#fb9f3a\"], [0.8888888888888888, \"#fdca26\"], [1.0, \"#f0f921\"]]}, \"font\": {\"color\": \"#7f7f7f\", \"family\": \"Courier New, monospace\", \"size\": 12}, \"height\": 450, \"legend\": {\"tracegroupgap\": 0}, \"margin\": {\"t\": 60}, \"template\": {\"data\": {\"bar\": [{\"error_x\": {\"color\": \"#2a3f5f\"}, \"error_y\": {\"color\": \"#2a3f5f\"}, \"marker\": {\"line\": {\"color\": \"#E5ECF6\", \"width\": 0.5}}, \"type\": \"bar\"}], \"barpolar\": [{\"marker\": {\"line\": {\"color\": \"#E5ECF6\", \"width\": 0.5}}, \"type\": \"barpolar\"}], \"carpet\": [{\"aaxis\": {\"endlinecolor\": \"#2a3f5f\", \"gridcolor\": \"white\", \"linecolor\": \"white\", \"minorgridcolor\": \"white\", \"startlinecolor\": \"#2a3f5f\"}, \"baxis\": {\"endlinecolor\": \"#2a3f5f\", \"gridcolor\": \"white\", \"linecolor\": \"white\", \"minorgridcolor\": \"white\", \"startlinecolor\": \"#2a3f5f\"}, \"type\": \"carpet\"}], \"choropleth\": [{\"colorbar\": {\"outlinewidth\": 0, \"ticks\": \"\"}, \"type\": \"choropleth\"}], \"contour\": [{\"colorbar\": {\"outlinewidth\": 0, \"ticks\": \"\"}, \"colorscale\": [[0.0, \"#0d0887\"], [0.1111111111111111, \"#46039f\"], [0.2222222222222222, \"#7201a8\"], [0.3333333333333333, \"#9c179e\"], [0.4444444444444444, \"#bd3786\"], [0.5555555555555556, \"#d8576b\"], [0.6666666666666666, \"#ed7953\"], [0.7777777777777778, \"#fb9f3a\"], [0.8888888888888888, \"#fdca26\"], [1.0, \"#f0f921\"]], \"type\": \"contour\"}], \"contourcarpet\": [{\"colorbar\": {\"outlinewidth\": 0, \"ticks\": \"\"}, \"type\": \"contourcarpet\"}], \"heatmap\": [{\"colorbar\": {\"outlinewidth\": 0, \"ticks\": \"\"}, \"colorscale\": [[0.0, \"#0d0887\"], [0.1111111111111111, \"#46039f\"], [0.2222222222222222, \"#7201a8\"], [0.3333333333333333, \"#9c179e\"], [0.4444444444444444, \"#bd3786\"], [0.5555555555555556, \"#d8576b\"], [0.6666666666666666, \"#ed7953\"], [0.7777777777777778, \"#fb9f3a\"], [0.8888888888888888, \"#fdca26\"], [1.0, \"#f0f921\"]], \"type\": \"heatmap\"}], \"heatmapgl\": [{\"colorbar\": {\"outlinewidth\": 0, \"ticks\": \"\"}, \"colorscale\": [[0.0, \"#0d0887\"], [0.1111111111111111, \"#46039f\"], [0.2222222222222222, \"#7201a8\"], [0.3333333333333333, \"#9c179e\"], [0.4444444444444444, \"#bd3786\"], [0.5555555555555556, \"#d8576b\"], [0.6666666666666666, \"#ed7953\"], [0.7777777777777778, \"#fb9f3a\"], [0.8888888888888888, \"#fdca26\"], [1.0, \"#f0f921\"]], \"type\": \"heatmapgl\"}], \"histogram\": [{\"marker\": {\"colorbar\": {\"outlinewidth\": 0, \"ticks\": \"\"}}, \"type\": \"histogram\"}], \"histogram2d\": [{\"colorbar\": {\"outlinewidth\": 0, \"ticks\": \"\"}, \"colorscale\": [[0.0, \"#0d0887\"], [0.1111111111111111, \"#46039f\"], [0.2222222222222222, \"#7201a8\"], [0.3333333333333333, \"#9c179e\"], [0.4444444444444444, \"#bd3786\"], [0.5555555555555556, \"#d8576b\"], [0.6666666666666666, \"#ed7953\"], [0.7777777777777778, \"#fb9f3a\"], [0.8888888888888888, \"#fdca26\"], [1.0, \"#f0f921\"]], \"type\": \"histogram2d\"}], \"histogram2dcontour\": [{\"colorbar\": {\"outlinewidth\": 0, \"ticks\": \"\"}, \"colorscale\": [[0.0, \"#0d0887\"], [0.1111111111111111, \"#46039f\"], [0.2222222222222222, \"#7201a8\"], [0.3333333333333333, \"#9c179e\"], [0.4444444444444444, \"#bd3786\"], [0.5555555555555556, \"#d8576b\"], [0.6666666666666666, \"#ed7953\"], [0.7777777777777778, \"#fb9f3a\"], [0.8888888888888888, \"#fdca26\"], [1.0, \"#f0f921\"]], \"type\": \"histogram2dcontour\"}], \"mesh3d\": [{\"colorbar\": {\"outlinewidth\": 0, \"ticks\": \"\"}, \"type\": \"mesh3d\"}], \"parcoords\": [{\"line\": {\"colorbar\": {\"outlinewidth\": 0, \"ticks\": \"\"}}, \"type\": \"parcoords\"}], \"pie\": [{\"automargin\": true, \"type\": \"pie\"}], \"scatter\": [{\"marker\": {\"colorbar\": {\"outlinewidth\": 0, \"ticks\": \"\"}}, \"type\": \"scatter\"}], \"scatter3d\": [{\"line\": {\"colorbar\": {\"outlinewidth\": 0, \"ticks\": \"\"}}, \"marker\": {\"colorbar\": {\"outlinewidth\": 0, \"ticks\": \"\"}}, \"type\": \"scatter3d\"}], \"scattercarpet\": [{\"marker\": {\"colorbar\": {\"outlinewidth\": 0, \"ticks\": \"\"}}, \"type\": \"scattercarpet\"}], \"scattergeo\": [{\"marker\": {\"colorbar\": {\"outlinewidth\": 0, \"ticks\": \"\"}}, \"type\": \"scattergeo\"}], \"scattergl\": [{\"marker\": {\"colorbar\": {\"outlinewidth\": 0, \"ticks\": \"\"}}, \"type\": \"scattergl\"}], \"scattermapbox\": [{\"marker\": {\"colorbar\": {\"outlinewidth\": 0, \"ticks\": \"\"}}, \"type\": \"scattermapbox\"}], \"scatterpolar\": [{\"marker\": {\"colorbar\": {\"outlinewidth\": 0, \"ticks\": \"\"}}, \"type\": \"scatterpolar\"}], \"scatterpolargl\": [{\"marker\": {\"colorbar\": {\"outlinewidth\": 0, \"ticks\": \"\"}}, \"type\": \"scatterpolargl\"}], \"scatterternary\": [{\"marker\": {\"colorbar\": {\"outlinewidth\": 0, \"ticks\": \"\"}}, \"type\": \"scatterternary\"}], \"surface\": [{\"colorbar\": {\"outlinewidth\": 0, \"ticks\": \"\"}, \"colorscale\": [[0.0, \"#0d0887\"], [0.1111111111111111, \"#46039f\"], [0.2222222222222222, \"#7201a8\"], [0.3333333333333333, \"#9c179e\"], [0.4444444444444444, \"#bd3786\"], [0.5555555555555556, \"#d8576b\"], [0.6666666666666666, \"#ed7953\"], [0.7777777777777778, \"#fb9f3a\"], [0.8888888888888888, \"#fdca26\"], [1.0, \"#f0f921\"]], \"type\": \"surface\"}], \"table\": [{\"cells\": {\"fill\": {\"color\": \"#EBF0F8\"}, \"line\": {\"color\": \"white\"}}, \"header\": {\"fill\": {\"color\": \"#C8D4E3\"}, \"line\": {\"color\": \"white\"}}, \"type\": \"table\"}]}, \"layout\": {\"annotationdefaults\": {\"arrowcolor\": \"#2a3f5f\", \"arrowhead\": 0, \"arrowwidth\": 1}, \"coloraxis\": {\"colorbar\": {\"outlinewidth\": 0, \"ticks\": \"\"}}, \"colorscale\": {\"diverging\": [[0, \"#8e0152\"], [0.1, \"#c51b7d\"], [0.2, \"#de77ae\"], [0.3, \"#f1b6da\"], [0.4, \"#fde0ef\"], [0.5, \"#f7f7f7\"], [0.6, \"#e6f5d0\"], [0.7, \"#b8e186\"], [0.8, \"#7fbc41\"], [0.9, \"#4d9221\"], [1, \"#276419\"]], \"sequential\": [[0.0, \"#0d0887\"], [0.1111111111111111, \"#46039f\"], [0.2222222222222222, \"#7201a8\"], [0.3333333333333333, \"#9c179e\"], [0.4444444444444444, \"#bd3786\"], [0.5555555555555556, \"#d8576b\"], [0.6666666666666666, \"#ed7953\"], [0.7777777777777778, \"#fb9f3a\"], [0.8888888888888888, \"#fdca26\"], [1.0, \"#f0f921\"]], \"sequentialminus\": [[0.0, \"#0d0887\"], [0.1111111111111111, \"#46039f\"], [0.2222222222222222, \"#7201a8\"], [0.3333333333333333, \"#9c179e\"], [0.4444444444444444, \"#bd3786\"], [0.5555555555555556, \"#d8576b\"], [0.6666666666666666, \"#ed7953\"], [0.7777777777777778, \"#fb9f3a\"], [0.8888888888888888, \"#fdca26\"], [1.0, \"#f0f921\"]]}, \"colorway\": [\"#636efa\", \"#EF553B\", \"#00cc96\", \"#ab63fa\", \"#FFA15A\", \"#19d3f3\", \"#FF6692\", \"#B6E880\", \"#FF97FF\", \"#FECB52\"], \"font\": {\"color\": \"#2a3f5f\"}, \"geo\": {\"bgcolor\": \"white\", \"lakecolor\": \"white\", \"landcolor\": \"#E5ECF6\", \"showlakes\": true, \"showland\": true, \"subunitcolor\": \"white\"}, \"hoverlabel\": {\"align\": \"left\"}, \"hovermode\": \"closest\", \"mapbox\": {\"style\": \"light\"}, \"paper_bgcolor\": \"white\", \"plot_bgcolor\": \"#E5ECF6\", \"polar\": {\"angularaxis\": {\"gridcolor\": \"white\", \"linecolor\": \"white\", \"ticks\": \"\"}, \"bgcolor\": \"#E5ECF6\", \"radialaxis\": {\"gridcolor\": \"white\", \"linecolor\": \"white\", \"ticks\": \"\"}}, \"scene\": {\"xaxis\": {\"backgroundcolor\": \"#E5ECF6\", \"gridcolor\": \"white\", \"gridwidth\": 2, \"linecolor\": \"white\", \"showbackground\": true, \"ticks\": \"\", \"zerolinecolor\": \"white\"}, \"yaxis\": {\"backgroundcolor\": \"#E5ECF6\", \"gridcolor\": \"white\", \"gridwidth\": 2, \"linecolor\": \"white\", \"showbackground\": true, \"ticks\": \"\", \"zerolinecolor\": \"white\"}, \"zaxis\": {\"backgroundcolor\": \"#E5ECF6\", \"gridcolor\": \"white\", \"gridwidth\": 2, \"linecolor\": \"white\", \"showbackground\": true, \"ticks\": \"\", \"zerolinecolor\": \"white\"}}, \"shapedefaults\": {\"line\": {\"color\": \"#2a3f5f\"}}, \"ternary\": {\"aaxis\": {\"gridcolor\": \"white\", \"linecolor\": \"white\", \"ticks\": \"\"}, \"baxis\": {\"gridcolor\": \"white\", \"linecolor\": \"white\", \"ticks\": \"\"}, \"bgcolor\": \"#E5ECF6\", \"caxis\": {\"gridcolor\": \"white\", \"linecolor\": \"white\", \"ticks\": \"\"}}, \"title\": {\"x\": 0.05}, \"xaxis\": {\"automargin\": true, \"gridcolor\": \"white\", \"linecolor\": \"white\", \"ticks\": \"\", \"title\": {\"standoff\": 15}, \"zerolinecolor\": \"white\", \"zerolinewidth\": 2}, \"yaxis\": {\"automargin\": true, \"gridcolor\": \"white\", \"linecolor\": \"white\", \"ticks\": \"\", \"title\": {\"standoff\": 15}, \"zerolinecolor\": \"white\", \"zerolinewidth\": 2}}}, \"title\": {\"text\": \"Clusters generated by KMeans on HDI Dataset\"}, \"width\": 900, \"xaxis\": {\"anchor\": \"y\", \"domain\": [0.0, 1.0], \"title\": {\"text\": \"Feature 1\"}}, \"yaxis\": {\"anchor\": \"x\", \"domain\": [0.0, 1.0], \"title\": {\"text\": \"Feature 2\"}}},\n",
              "                        {\"responsive\": true}\n",
              "                    ).then(function(){\n",
              "                            \n",
              "var gd = document.getElementById('67a63dff-b59e-4572-b151-87817d9a7246');\n",
              "var x = new MutationObserver(function (mutations, observer) {{\n",
              "        var display = window.getComputedStyle(gd).display;\n",
              "        if (!display || display === 'none') {{\n",
              "            console.log([gd, 'removed!']);\n",
              "            Plotly.purge(gd);\n",
              "            observer.disconnect();\n",
              "        }}\n",
              "}});\n",
              "\n",
              "// Listen for the removal of the full notebook cells\n",
              "var notebookContainer = gd.closest('#notebook-container');\n",
              "if (notebookContainer) {{\n",
              "    x.observe(notebookContainer, {childList: true});\n",
              "}}\n",
              "\n",
              "// Listen for the clearing of the current output cell\n",
              "var outputEl = gd.closest('.output');\n",
              "if (outputEl) {{\n",
              "    x.observe(outputEl, {childList: true});\n",
              "}}\n",
              "\n",
              "                        })\n",
              "                };\n",
              "                \n",
              "            </script>\n",
              "        </div>\n",
              "</body>\n",
              "</html>"
            ]
          },
          "metadata": {
            "tags": []
          }
        },
        {
          "output_type": "display_data",
          "data": {
            "text/html": [
              "<html>\n",
              "<head><meta charset=\"utf-8\" /></head>\n",
              "<body>\n",
              "    <div>\n",
              "            <script src=\"https://cdnjs.cloudflare.com/ajax/libs/mathjax/2.7.5/MathJax.js?config=TeX-AMS-MML_SVG\"></script><script type=\"text/javascript\">if (window.MathJax) {MathJax.Hub.Config({SVG: {font: \"STIX-Web\"}});}</script>\n",
              "                <script type=\"text/javascript\">window.PlotlyConfig = {MathJaxConfig: 'local'};</script>\n",
              "        <script src=\"https://cdn.plot.ly/plotly-latest.min.js\"></script>    \n",
              "            <div id=\"6a2e52d3-2732-4140-b0aa-40eb7ec12b7f\" class=\"plotly-graph-div\" style=\"height:600px; width:900px;\"></div>\n",
              "            <script type=\"text/javascript\">\n",
              "                \n",
              "                    window.PLOTLYENV=window.PLOTLYENV || {};\n",
              "                    \n",
              "                if (document.getElementById(\"6a2e52d3-2732-4140-b0aa-40eb7ec12b7f\")) {\n",
              "                    Plotly.newPlot(\n",
              "                        '6a2e52d3-2732-4140-b0aa-40eb7ec12b7f',\n",
              "                        [{\"customdata\": [[\"Kathmandu\"], [\"Lalitpur\"], [\"Kaski\"], [\"Bhaktapur\"], [\"Ilam\"], [\"Chitwan\"], [\"Syangja\"], [\"Palpa\"], [\"Jhapa\"], [\"Manang\"], [\"Tanahu\"], [\"Tehrathum\"], [\"Dhankuta\"], [\"Parbat\"], [\"Surkhet\"], [\"Arghakhanchi\"], [\"Gulmi\"], [\"Panchthar\"], [\"Baglung\"], [\"Myagdi\"], [\"Taplejung\"], [\"Lamjung\"], [\"Nawalparasi\"], [\"Kanchanpur\"], [\"Morang\"], [\"Dang\"], [\"Kavrepalanchok\"], [\"Rupandehi\"], [\"Sankhuwasabha\"], [\"Bhojpur\"], [\"Khotang\"], [\"Udayapur\"], [\"Sunsari\"], [\"Makwanpur\"], [\"Pyuthan\"], [\"Gorkha\"], [\"Kailali\"], [\"Mustang\"], [\"Bardiya\"], [\"Darchula\"], [\"Dadeldhura\"], [\"Okhaldhunga\"], [\"Solukhumbu\"], [\"Salyan\"], [\"Baitadi\"], [\"Dhading\"], [\"Dolakha\"], [\"Dailekh\"], [\"Banke\"], [\"Ramechhap\"], [\"Rukum\"], [\"Sindhuli\"], [\"Rolpa\"], [\"Nuwakot\"], [\"Sindhupalchok\"], [\"Jajarkot\"], [\"Kalikot\"], [\"Doti\"], [\"Parsa\"], [\"Achham\"], [\"Bajura\"], [\"Bajhang\"], [\"Kapilbastu\"], [\"Jumla\"], [\"Saptari\"], [\"Dolpa\"], [\"Rasuwa\"], [\"Bara\"], [\"Mugu\"], [\"Dhanusa\"], [\"Siraha\"], [\"Humla\"], [\"Mahottari\"], [\"Sarlahi\"], [\"Rautahat\"]], \"hoverlabel\": {\"namelength\": 0}, \"hovertemplate\": \"Feature 1=%{x}<br>Feature 2=%{y}<br>Feature 3=%{z}<br>District=%{customdata[0]}<br>Label=%{marker.color}\", \"legendgroup\": \"\", \"marker\": {\"color\": [1, 3, 4, 4, 0, 4, 0, 5, 0, 1, 0, 4, 0, 5, 5, 5, 2, 0, 2, 5, 4, 0, 0, 5, 0, 0, 4, 0, 0, 5, 0, 5, 0, 4, 6, 5, 5, 3, 0, 6, 2, 5, 3, 2, 6, 5, 5, 6, 0, 5, 2, 2, 6, 0, 0, 6, 6, 2, 0, 6, 6, 6, 5, 5, 2, 5, 4, 4, 2, 5, 6, 2, 6, 2, 2], \"coloraxis\": \"coloraxis\", \"opacity\": 0.7, \"symbol\": \"circle\"}, \"mode\": \"markers\", \"name\": \"\", \"scene\": \"scene\", \"showlegend\": false, \"type\": \"scatter3d\", \"x\": [4.337676161009879, 3.1188093937368926, 2.830948630962913, 2.5168105584441234, 1.7291140911730674, 2.040543049794674, 1.7994747111064104, 1.3761045616799337, 1.31833283311004, 2.958645766747861, 1.4129072867475991, 1.5629826216477913, 1.4064240263584398, 1.2725205480927837, 0.761248973450328, 0.8820971656443796, 0.6805614111792186, 0.9217094645482207, 0.7428031246444279, 0.9795222878170533, 0.8357059863368657, 1.1040973276057724, 0.7776769501723727, 0.5022332929202458, 0.8878382697494428, 0.6423138866765653, 1.100853962493588, 0.6101868162321225, 0.6477964067183314, 0.4619519650061602, 0.6590623778089529, 0.36424414459038096, 0.4171370176884071, 0.6045583761553454, -0.3075968511296998, 0.37654235414387555, -0.12680490990566468, 0.6520292930851708, -0.0747824204261186, -0.2919208573771572, -0.19956253130035978, -0.03621948100838211, 0.6730832491070953, -0.4046311999318163, -0.5917484386471994, -0.23894155552680788, -0.2563232304950418, -0.7719637229464518, -0.37771181937557285, -0.15088988184664182, -0.7057616609044269, -0.757880382486588, -1.1626584477667041, -0.5481171327040923, -0.6353121808783192, -1.6918504081961632, -1.9411431711329896, -1.3280519157712571, -1.0099423872152289, -1.7065669030174735, -2.050763028948897, -1.879393665841731, -1.5117047415048723, -1.7923045383673568, -1.4370479121349218, -1.9218419823528863, -0.9460864516443463, -1.2084688483586674, -2.2135021245879876, -2.0178127151413556, -2.1183630033478975, -2.829681142815764, -2.780561379034425, -2.6673505102708344, -3.27528481004463], \"y\": [0.6802648121035058, -0.34003192706874236, -0.5137397644906472, -0.5368174330652651, 0.4202751418208489, -0.3198677890131691, -0.31163964494553775, 0.2268106326615443, 0.6648099569945886, 2.140621332831868, -0.5949102087984339, 0.40259560053342575, -0.09267303907885331, -0.7946923848289559, 0.586913334109037, 0.021161502513488466, 0.1848659139377951, 0.22709803616228175, -0.1306101767874836, -0.6164076917027408, 1.2684084825818736, -0.9755297314213847, 0.3741059318301075, 0.6682485760510523, -0.17004421868956107, 0.5576634002719846, -0.9093739892309276, 0.14202791267278791, 0.06868150772852093, 0.07839264424849657, -0.7400743307476855, -0.3853061397426866, 0.07689793902572122, 0.23011480705864348, 1.7508738467067895, -1.453442420596049, 0.8420979047499804, 1.6891445378263479, 0.47368495555077134, -0.30916558753400286, 0.23637695522118865, -0.9887126488328746, -0.031391158134826534, -0.26660624144688044, -0.2530288080543514, -1.1766082415430823, -1.1435420672667838, 0.024943063181731534, -0.06054653961596625, -2.0488634747918777, -0.14035950716657852, -0.8810024395894686, 0.7571915926224295, -1.1892075439614962, -0.6395908065694585, 0.5657106724083465, 1.8292579421414603, 0.6262328059312774, -0.9300798282745119, 0.3397254809931466, 1.7110703679891026, 1.2149825640455487, 0.15296513534562917, 2.160248621352118, -1.509063350689425, 3.013048413351719, -1.2644931050745796, -1.05632038523152, 1.0024467918020137, -0.8066167894727868, -1.613603438588704, 1.547524205231109, -0.9207283726043063, -1.1637053526071637, -1.679086744329513], \"z\": [2.0222821765855676, 0.5210007167699616, -0.16011608948428932, -0.48015500455669996, -0.4471268365768852, 0.17921168567584614, -0.5436186105798498, -0.9671745751748135, -0.356556984373432, 3.571907886007269, -0.6724371969629509, 0.023603383918261844, -0.2454365924656885, -0.7354858983507098, -0.8869291507998966, -0.8844765859515278, -1.1991229802176933, -0.47456744040832544, -0.8954298821907934, -0.5612950089805885, 0.04195106207832734, -0.18482853015019693, -0.23929195568449177, -0.7111523169117008, 0.015503060479370624, -0.260081609324938, 0.34865442560670923, -0.22088526858838667, -0.033067983109327716, -0.44605748140353807, -0.1123728485901261, -0.5374136870433012, -0.14949471477170487, 0.5320643032976154, -1.0659026420753994, -0.1172654051146439, -0.38391062442319823, 1.6280748444141382, 0.022386773343455846, -1.022312308573744, -0.782754845176918, -0.18076205695597722, 1.6152902879193733, -0.5115702850221152, -1.0317313968798172, 0.02887338077626582, -0.1461299583498017, -0.621927815277977, 0.3651970780080005, -0.02129052704231724, -0.3698350168467213, -0.15851795322486567, -0.6125114795420649, 0.45808607186183, 0.5001233711506352, -0.37251644378622406, -0.5009075303131433, -0.23745451228485906, 0.9763852757153659, -0.5980499519941781, -0.5920876107481032, -0.7642864577367177, 0.5370221169925684, 0.45382755288113624, 0.17215587099418117, 0.510605564630845, 1.797605173032055, 1.7605844018748429, 0.4371844420176695, 0.7735993876258229, 0.26324869272119505, 0.507954482685774, 0.527662970093744, 0.829819002337994, 1.074434612524817]}],\n",
              "                        {\"coloraxis\": {\"colorbar\": {\"title\": {\"text\": \"Label\"}}, \"colorscale\": [[0.0, \"#0d0887\"], [0.1111111111111111, \"#46039f\"], [0.2222222222222222, \"#7201a8\"], [0.3333333333333333, \"#9c179e\"], [0.4444444444444444, \"#bd3786\"], [0.5555555555555556, \"#d8576b\"], [0.6666666666666666, \"#ed7953\"], [0.7777777777777778, \"#fb9f3a\"], [0.8888888888888888, \"#fdca26\"], [1.0, \"#f0f921\"]]}, \"font\": {\"color\": \"#7f7f7f\", \"family\": \"Courier New, monospace\", \"size\": 12}, \"height\": 600, \"legend\": {\"tracegroupgap\": 0}, \"margin\": {\"t\": 60}, \"scene\": {\"domain\": {\"x\": [0.0, 1.0], \"y\": [0.0, 1.0]}, \"xaxis\": {\"title\": {\"text\": \"Feature 1\"}}, \"yaxis\": {\"title\": {\"text\": \"Feature 2\"}}, \"zaxis\": {\"title\": {\"text\": \"Feature 3\"}}}, \"template\": {\"data\": {\"bar\": [{\"error_x\": {\"color\": \"#2a3f5f\"}, \"error_y\": {\"color\": \"#2a3f5f\"}, \"marker\": {\"line\": {\"color\": \"#E5ECF6\", \"width\": 0.5}}, \"type\": \"bar\"}], \"barpolar\": [{\"marker\": {\"line\": {\"color\": \"#E5ECF6\", \"width\": 0.5}}, \"type\": \"barpolar\"}], \"carpet\": [{\"aaxis\": {\"endlinecolor\": \"#2a3f5f\", \"gridcolor\": \"white\", \"linecolor\": \"white\", \"minorgridcolor\": \"white\", \"startlinecolor\": \"#2a3f5f\"}, \"baxis\": {\"endlinecolor\": \"#2a3f5f\", \"gridcolor\": \"white\", \"linecolor\": \"white\", \"minorgridcolor\": \"white\", \"startlinecolor\": \"#2a3f5f\"}, \"type\": \"carpet\"}], \"choropleth\": [{\"colorbar\": {\"outlinewidth\": 0, \"ticks\": \"\"}, \"type\": \"choropleth\"}], \"contour\": [{\"colorbar\": {\"outlinewidth\": 0, \"ticks\": \"\"}, \"colorscale\": [[0.0, \"#0d0887\"], [0.1111111111111111, \"#46039f\"], [0.2222222222222222, \"#7201a8\"], [0.3333333333333333, \"#9c179e\"], [0.4444444444444444, \"#bd3786\"], [0.5555555555555556, \"#d8576b\"], [0.6666666666666666, \"#ed7953\"], [0.7777777777777778, \"#fb9f3a\"], [0.8888888888888888, \"#fdca26\"], [1.0, \"#f0f921\"]], \"type\": \"contour\"}], \"contourcarpet\": [{\"colorbar\": {\"outlinewidth\": 0, \"ticks\": \"\"}, \"type\": \"contourcarpet\"}], \"heatmap\": [{\"colorbar\": {\"outlinewidth\": 0, \"ticks\": \"\"}, \"colorscale\": [[0.0, \"#0d0887\"], [0.1111111111111111, \"#46039f\"], [0.2222222222222222, \"#7201a8\"], [0.3333333333333333, \"#9c179e\"], [0.4444444444444444, \"#bd3786\"], [0.5555555555555556, \"#d8576b\"], [0.6666666666666666, \"#ed7953\"], [0.7777777777777778, \"#fb9f3a\"], [0.8888888888888888, \"#fdca26\"], [1.0, \"#f0f921\"]], \"type\": \"heatmap\"}], \"heatmapgl\": [{\"colorbar\": {\"outlinewidth\": 0, \"ticks\": \"\"}, \"colorscale\": [[0.0, \"#0d0887\"], [0.1111111111111111, \"#46039f\"], [0.2222222222222222, \"#7201a8\"], [0.3333333333333333, \"#9c179e\"], [0.4444444444444444, \"#bd3786\"], [0.5555555555555556, \"#d8576b\"], [0.6666666666666666, \"#ed7953\"], [0.7777777777777778, \"#fb9f3a\"], [0.8888888888888888, \"#fdca26\"], [1.0, \"#f0f921\"]], \"type\": \"heatmapgl\"}], \"histogram\": [{\"marker\": {\"colorbar\": {\"outlinewidth\": 0, \"ticks\": \"\"}}, \"type\": \"histogram\"}], \"histogram2d\": [{\"colorbar\": {\"outlinewidth\": 0, \"ticks\": \"\"}, \"colorscale\": [[0.0, \"#0d0887\"], [0.1111111111111111, \"#46039f\"], [0.2222222222222222, \"#7201a8\"], [0.3333333333333333, \"#9c179e\"], [0.4444444444444444, \"#bd3786\"], [0.5555555555555556, \"#d8576b\"], [0.6666666666666666, \"#ed7953\"], [0.7777777777777778, \"#fb9f3a\"], [0.8888888888888888, \"#fdca26\"], [1.0, \"#f0f921\"]], \"type\": \"histogram2d\"}], \"histogram2dcontour\": [{\"colorbar\": {\"outlinewidth\": 0, \"ticks\": \"\"}, \"colorscale\": [[0.0, \"#0d0887\"], [0.1111111111111111, \"#46039f\"], [0.2222222222222222, \"#7201a8\"], [0.3333333333333333, \"#9c179e\"], [0.4444444444444444, \"#bd3786\"], [0.5555555555555556, \"#d8576b\"], [0.6666666666666666, \"#ed7953\"], [0.7777777777777778, \"#fb9f3a\"], [0.8888888888888888, \"#fdca26\"], [1.0, \"#f0f921\"]], \"type\": \"histogram2dcontour\"}], \"mesh3d\": [{\"colorbar\": {\"outlinewidth\": 0, \"ticks\": \"\"}, \"type\": \"mesh3d\"}], \"parcoords\": [{\"line\": {\"colorbar\": {\"outlinewidth\": 0, \"ticks\": \"\"}}, \"type\": \"parcoords\"}], \"pie\": [{\"automargin\": true, \"type\": \"pie\"}], \"scatter\": [{\"marker\": {\"colorbar\": {\"outlinewidth\": 0, \"ticks\": \"\"}}, \"type\": \"scatter\"}], \"scatter3d\": [{\"line\": {\"colorbar\": {\"outlinewidth\": 0, \"ticks\": \"\"}}, \"marker\": {\"colorbar\": {\"outlinewidth\": 0, \"ticks\": \"\"}}, \"type\": \"scatter3d\"}], \"scattercarpet\": [{\"marker\": {\"colorbar\": {\"outlinewidth\": 0, \"ticks\": \"\"}}, \"type\": \"scattercarpet\"}], \"scattergeo\": [{\"marker\": {\"colorbar\": {\"outlinewidth\": 0, \"ticks\": \"\"}}, \"type\": \"scattergeo\"}], \"scattergl\": [{\"marker\": {\"colorbar\": {\"outlinewidth\": 0, \"ticks\": \"\"}}, \"type\": \"scattergl\"}], \"scattermapbox\": [{\"marker\": {\"colorbar\": {\"outlinewidth\": 0, \"ticks\": \"\"}}, \"type\": \"scattermapbox\"}], \"scatterpolar\": [{\"marker\": {\"colorbar\": {\"outlinewidth\": 0, \"ticks\": \"\"}}, \"type\": \"scatterpolar\"}], \"scatterpolargl\": [{\"marker\": {\"colorbar\": {\"outlinewidth\": 0, \"ticks\": \"\"}}, \"type\": \"scatterpolargl\"}], \"scatterternary\": [{\"marker\": {\"colorbar\": {\"outlinewidth\": 0, \"ticks\": \"\"}}, \"type\": \"scatterternary\"}], \"surface\": [{\"colorbar\": {\"outlinewidth\": 0, \"ticks\": \"\"}, \"colorscale\": [[0.0, \"#0d0887\"], [0.1111111111111111, \"#46039f\"], [0.2222222222222222, \"#7201a8\"], [0.3333333333333333, \"#9c179e\"], [0.4444444444444444, \"#bd3786\"], [0.5555555555555556, \"#d8576b\"], [0.6666666666666666, \"#ed7953\"], [0.7777777777777778, \"#fb9f3a\"], [0.8888888888888888, \"#fdca26\"], [1.0, \"#f0f921\"]], \"type\": \"surface\"}], \"table\": [{\"cells\": {\"fill\": {\"color\": \"#EBF0F8\"}, \"line\": {\"color\": \"white\"}}, \"header\": {\"fill\": {\"color\": \"#C8D4E3\"}, \"line\": {\"color\": \"white\"}}, \"type\": \"table\"}]}, \"layout\": {\"annotationdefaults\": {\"arrowcolor\": \"#2a3f5f\", \"arrowhead\": 0, \"arrowwidth\": 1}, \"coloraxis\": {\"colorbar\": {\"outlinewidth\": 0, \"ticks\": \"\"}}, \"colorscale\": {\"diverging\": [[0, \"#8e0152\"], [0.1, \"#c51b7d\"], [0.2, \"#de77ae\"], [0.3, \"#f1b6da\"], [0.4, \"#fde0ef\"], [0.5, \"#f7f7f7\"], [0.6, \"#e6f5d0\"], [0.7, \"#b8e186\"], [0.8, \"#7fbc41\"], [0.9, \"#4d9221\"], [1, \"#276419\"]], \"sequential\": [[0.0, \"#0d0887\"], [0.1111111111111111, \"#46039f\"], [0.2222222222222222, \"#7201a8\"], [0.3333333333333333, \"#9c179e\"], [0.4444444444444444, \"#bd3786\"], [0.5555555555555556, \"#d8576b\"], [0.6666666666666666, \"#ed7953\"], [0.7777777777777778, \"#fb9f3a\"], [0.8888888888888888, \"#fdca26\"], [1.0, \"#f0f921\"]], \"sequentialminus\": [[0.0, \"#0d0887\"], [0.1111111111111111, \"#46039f\"], [0.2222222222222222, \"#7201a8\"], [0.3333333333333333, \"#9c179e\"], [0.4444444444444444, \"#bd3786\"], [0.5555555555555556, \"#d8576b\"], [0.6666666666666666, \"#ed7953\"], [0.7777777777777778, \"#fb9f3a\"], [0.8888888888888888, \"#fdca26\"], [1.0, \"#f0f921\"]]}, \"colorway\": [\"#636efa\", \"#EF553B\", \"#00cc96\", \"#ab63fa\", \"#FFA15A\", \"#19d3f3\", \"#FF6692\", \"#B6E880\", \"#FF97FF\", \"#FECB52\"], \"font\": {\"color\": \"#2a3f5f\"}, \"geo\": {\"bgcolor\": \"white\", \"lakecolor\": \"white\", \"landcolor\": \"#E5ECF6\", \"showlakes\": true, \"showland\": true, \"subunitcolor\": \"white\"}, \"hoverlabel\": {\"align\": \"left\"}, \"hovermode\": \"closest\", \"mapbox\": {\"style\": \"light\"}, \"paper_bgcolor\": \"white\", \"plot_bgcolor\": \"#E5ECF6\", \"polar\": {\"angularaxis\": {\"gridcolor\": \"white\", \"linecolor\": \"white\", \"ticks\": \"\"}, \"bgcolor\": \"#E5ECF6\", \"radialaxis\": {\"gridcolor\": \"white\", \"linecolor\": \"white\", \"ticks\": \"\"}}, \"scene\": {\"xaxis\": {\"backgroundcolor\": \"#E5ECF6\", \"gridcolor\": \"white\", \"gridwidth\": 2, \"linecolor\": \"white\", \"showbackground\": true, \"ticks\": \"\", \"zerolinecolor\": \"white\"}, \"yaxis\": {\"backgroundcolor\": \"#E5ECF6\", \"gridcolor\": \"white\", \"gridwidth\": 2, \"linecolor\": \"white\", \"showbackground\": true, \"ticks\": \"\", \"zerolinecolor\": \"white\"}, \"zaxis\": {\"backgroundcolor\": \"#E5ECF6\", \"gridcolor\": \"white\", \"gridwidth\": 2, \"linecolor\": \"white\", \"showbackground\": true, \"ticks\": \"\", \"zerolinecolor\": \"white\"}}, \"shapedefaults\": {\"line\": {\"color\": \"#2a3f5f\"}}, \"ternary\": {\"aaxis\": {\"gridcolor\": \"white\", \"linecolor\": \"white\", \"ticks\": \"\"}, \"baxis\": {\"gridcolor\": \"white\", \"linecolor\": \"white\", \"ticks\": \"\"}, \"bgcolor\": \"#E5ECF6\", \"caxis\": {\"gridcolor\": \"white\", \"linecolor\": \"white\", \"ticks\": \"\"}}, \"title\": {\"x\": 0.05}, \"xaxis\": {\"automargin\": true, \"gridcolor\": \"white\", \"linecolor\": \"white\", \"ticks\": \"\", \"title\": {\"standoff\": 15}, \"zerolinecolor\": \"white\", \"zerolinewidth\": 2}, \"yaxis\": {\"automargin\": true, \"gridcolor\": \"white\", \"linecolor\": \"white\", \"ticks\": \"\", \"title\": {\"standoff\": 15}, \"zerolinecolor\": \"white\", \"zerolinewidth\": 2}}}, \"title\": {\"text\": \"Clusters generated by KMeans on HDI Dataset 3D Visualization\"}, \"width\": 900, \"xaxis\": {\"title\": {\"text\": \"Feature 1\"}}, \"yaxis\": {\"title\": {\"text\": \"Feature 2\"}}},\n",
              "                        {\"responsive\": true}\n",
              "                    ).then(function(){\n",
              "                            \n",
              "var gd = document.getElementById('6a2e52d3-2732-4140-b0aa-40eb7ec12b7f');\n",
              "var x = new MutationObserver(function (mutations, observer) {{\n",
              "        var display = window.getComputedStyle(gd).display;\n",
              "        if (!display || display === 'none') {{\n",
              "            console.log([gd, 'removed!']);\n",
              "            Plotly.purge(gd);\n",
              "            observer.disconnect();\n",
              "        }}\n",
              "}});\n",
              "\n",
              "// Listen for the removal of the full notebook cells\n",
              "var notebookContainer = gd.closest('#notebook-container');\n",
              "if (notebookContainer) {{\n",
              "    x.observe(notebookContainer, {childList: true});\n",
              "}}\n",
              "\n",
              "// Listen for the clearing of the current output cell\n",
              "var outputEl = gd.closest('.output');\n",
              "if (outputEl) {{\n",
              "    x.observe(outputEl, {childList: true});\n",
              "}}\n",
              "\n",
              "                        })\n",
              "                };\n",
              "                \n",
              "            </script>\n",
              "        </div>\n",
              "</body>\n",
              "</html>"
            ]
          },
          "metadata": {
            "tags": []
          }
        }
      ]
    },
    {
      "cell_type": "code",
      "metadata": {
        "id": "uj51CjcL0b86",
        "colab_type": "code",
        "colab": {}
      },
      "source": [
        "from sklearn.mixture import GaussianMixture"
      ],
      "execution_count": 0,
      "outputs": []
    },
    {
      "cell_type": "code",
      "metadata": {
        "id": "9FvBg-tAZJ-7",
        "colab_type": "code",
        "outputId": "55d621c0-9d13-44b5-cd14-f67fcb98f490",
        "colab": {
          "base_uri": "https://localhost:8080/",
          "height": 193
        }
      },
      "source": [
        "gmm=GaussianMixture(n_components=7)\n",
        "gmm.fit(scaled_transformed)\n",
        "cluster_labels=gmm.predict(scaled_transformed)\n",
        "print('Weights:\\t\\t\\t',gmm.weights_)\n",
        "print('Mean:\\t\\t\\t\\t',gmm.means_.shape)\n",
        "print('Convergence reached:\\t\\t',gmm.converged_)\n",
        "print('Covariance of each mixture:\\t',gmm.covariances_.shape)\n",
        "print('No of step used by best fit of EM\\n to reach the convergence :\\t',gmm.n_iter_)\n",
        "print('Lower bound value on the log-likelihood\\n of the best fit of EM:\\t\\t',gmm.lower_bound_)\n"
      ],
      "execution_count": 102,
      "outputs": [
        {
          "output_type": "stream",
          "text": [
            "Weights:\t\t\t [0.14251474 0.401634   0.11598484 0.02666667 0.07562265 0.11539618\n",
            " 0.12218093]\n",
            "Mean:\t\t\t\t (7, 3)\n",
            "Convergence reached:\t\t True\n",
            "Covariance of each mixture:\t (7, 3, 3)\n",
            "No of step used by best fit of EM\n",
            " to reach the convergence :\t 30\n",
            "Lower bound value on the log-likelihood\n",
            " of the best fit of EM:\t\t -2.9931033938675853\n"
          ],
          "name": "stdout"
        }
      ]
    },
    {
      "cell_type": "code",
      "metadata": {
        "id": "uYrEZkJ9DdLa",
        "colab_type": "code",
        "outputId": "d625763b-3aae-4c0e-838f-d02a94834630",
        "colab": {
          "base_uri": "https://localhost:8080/",
          "height": 86
        }
      },
      "source": [
        "scaled_transformed_df['GMM Label']=cluster_labels\n",
        "cluster_labels"
      ],
      "execution_count": 103,
      "outputs": [
        {
          "output_type": "execute_result",
          "data": {
            "text/plain": [
              "array([3, 1, 1, 1, 1, 1, 1, 1, 1, 3, 1, 1, 1, 1, 5, 1, 5, 1, 5, 1, 5, 1,\n",
              "       1, 1, 1, 5, 1, 1, 5, 1, 5, 1, 1, 5, 4, 2, 1, 5, 1, 0, 1, 2, 5, 0,\n",
              "       0, 2, 2, 0, 2, 2, 0, 2, 0, 2, 2, 0, 4, 0, 6, 0, 4, 4, 0, 4, 6, 4,\n",
              "       6, 6, 0, 6, 6, 0, 6, 6, 6])"
            ]
          },
          "metadata": {
            "tags": []
          },
          "execution_count": 103
        }
      ]
    },
    {
      "cell_type": "code",
      "metadata": {
        "id": "RadBloceDfoz",
        "colab_type": "code",
        "outputId": "a1f09ffc-38e3-48c9-bdf8-84c9f2aee4ce",
        "colab": {
          "base_uri": "https://localhost:8080/",
          "height": 1000
        }
      },
      "source": [
        "fig=px.scatter(scaled_transformed_df, x= 'Feature 1',y='Feature 2',color='GMM Label',hover_data=['District'],width=900, height=450)\n",
        "fig.update_layout(\n",
        "    title=\"Clusters generated by GMM on HDI Dataset\",\n",
        "    xaxis_title=\"Feature 1\",\n",
        "    yaxis_title=\"Feature 2\",\n",
        "    font=dict(\n",
        "        family=\"Courier New, monospace\",\n",
        "        size=12,\n",
        "        color=\"#7f7f7f\"\n",
        "    )\n",
        ")\n",
        "fig.show()\n",
        "\n",
        "fig=px.scatter_3d(scaled_transformed_df, x= 'Feature 1',y='Feature 2',z='Feature 3',color='GMM Label',hover_data=['District'],width=900, height=600,size_max=7,opacity=0.7)\n",
        "fig.update_layout(\n",
        "    title=\"Clusters 3D Visualization by GMM on HDI Dataset\",\n",
        "    xaxis_title=\"Feature 1\",\n",
        "    yaxis_title=\"Feature 2\",\n",
        "    font=dict(\n",
        "        family=\"Courier New, monospace\",\n",
        "        size=12,\n",
        "        color=\"#7f7f7f\"\n",
        "    )\n",
        ")\n",
        "fig.show()"
      ],
      "execution_count": 105,
      "outputs": [
        {
          "output_type": "display_data",
          "data": {
            "text/html": [
              "<html>\n",
              "<head><meta charset=\"utf-8\" /></head>\n",
              "<body>\n",
              "    <div>\n",
              "            <script src=\"https://cdnjs.cloudflare.com/ajax/libs/mathjax/2.7.5/MathJax.js?config=TeX-AMS-MML_SVG\"></script><script type=\"text/javascript\">if (window.MathJax) {MathJax.Hub.Config({SVG: {font: \"STIX-Web\"}});}</script>\n",
              "                <script type=\"text/javascript\">window.PlotlyConfig = {MathJaxConfig: 'local'};</script>\n",
              "        <script src=\"https://cdn.plot.ly/plotly-latest.min.js\"></script>    \n",
              "            <div id=\"a4e04273-f5b2-4e40-9926-743fe20416d7\" class=\"plotly-graph-div\" style=\"height:450px; width:900px;\"></div>\n",
              "            <script type=\"text/javascript\">\n",
              "                \n",
              "                    window.PLOTLYENV=window.PLOTLYENV || {};\n",
              "                    \n",
              "                if (document.getElementById(\"a4e04273-f5b2-4e40-9926-743fe20416d7\")) {\n",
              "                    Plotly.newPlot(\n",
              "                        'a4e04273-f5b2-4e40-9926-743fe20416d7',\n",
              "                        [{\"customdata\": [[\"Kathmandu\"], [\"Lalitpur\"], [\"Kaski\"], [\"Bhaktapur\"], [\"Ilam\"], [\"Chitwan\"], [\"Syangja\"], [\"Palpa\"], [\"Jhapa\"], [\"Manang\"], [\"Tanahu\"], [\"Tehrathum\"], [\"Dhankuta\"], [\"Parbat\"], [\"Surkhet\"], [\"Arghakhanchi\"], [\"Gulmi\"], [\"Panchthar\"], [\"Baglung\"], [\"Myagdi\"], [\"Taplejung\"], [\"Lamjung\"], [\"Nawalparasi\"], [\"Kanchanpur\"], [\"Morang\"], [\"Dang\"], [\"Kavrepalanchok\"], [\"Rupandehi\"], [\"Sankhuwasabha\"], [\"Bhojpur\"], [\"Khotang\"], [\"Udayapur\"], [\"Sunsari\"], [\"Makwanpur\"], [\"Pyuthan\"], [\"Gorkha\"], [\"Kailali\"], [\"Mustang\"], [\"Bardiya\"], [\"Darchula\"], [\"Dadeldhura\"], [\"Okhaldhunga\"], [\"Solukhumbu\"], [\"Salyan\"], [\"Baitadi\"], [\"Dhading\"], [\"Dolakha\"], [\"Dailekh\"], [\"Banke\"], [\"Ramechhap\"], [\"Rukum\"], [\"Sindhuli\"], [\"Rolpa\"], [\"Nuwakot\"], [\"Sindhupalchok\"], [\"Jajarkot\"], [\"Kalikot\"], [\"Doti\"], [\"Parsa\"], [\"Achham\"], [\"Bajura\"], [\"Bajhang\"], [\"Kapilbastu\"], [\"Jumla\"], [\"Saptari\"], [\"Dolpa\"], [\"Rasuwa\"], [\"Bara\"], [\"Mugu\"], [\"Dhanusa\"], [\"Siraha\"], [\"Humla\"], [\"Mahottari\"], [\"Sarlahi\"], [\"Rautahat\"]], \"hoverlabel\": {\"namelength\": 0}, \"hovertemplate\": \"Feature 1=%{x}<br>Feature 2=%{y}<br>District=%{customdata[0]}<br>GMM Label=%{marker.color}\", \"legendgroup\": \"\", \"marker\": {\"color\": [3, 1, 1, 1, 1, 1, 1, 1, 1, 3, 1, 1, 1, 1, 5, 1, 5, 1, 5, 1, 5, 1, 1, 1, 1, 5, 1, 1, 5, 1, 5, 1, 1, 5, 4, 2, 1, 5, 1, 0, 1, 2, 5, 0, 0, 2, 2, 0, 2, 2, 0, 2, 0, 2, 2, 0, 4, 0, 6, 0, 4, 4, 0, 4, 6, 4, 6, 6, 0, 6, 6, 0, 6, 6, 6], \"coloraxis\": \"coloraxis\", \"symbol\": \"circle\"}, \"mode\": \"markers\", \"name\": \"\", \"showlegend\": false, \"type\": \"scatter\", \"x\": [4.337676161009879, 3.1188093937368926, 2.830948630962913, 2.5168105584441234, 1.7291140911730674, 2.040543049794674, 1.7994747111064104, 1.3761045616799337, 1.31833283311004, 2.958645766747861, 1.4129072867475991, 1.5629826216477913, 1.4064240263584398, 1.2725205480927837, 0.761248973450328, 0.8820971656443796, 0.6805614111792186, 0.9217094645482207, 0.7428031246444279, 0.9795222878170533, 0.8357059863368657, 1.1040973276057724, 0.7776769501723727, 0.5022332929202458, 0.8878382697494428, 0.6423138866765653, 1.100853962493588, 0.6101868162321225, 0.6477964067183314, 0.4619519650061602, 0.6590623778089529, 0.36424414459038096, 0.4171370176884071, 0.6045583761553454, -0.3075968511296998, 0.37654235414387555, -0.12680490990566468, 0.6520292930851708, -0.0747824204261186, -0.2919208573771572, -0.19956253130035978, -0.03621948100838211, 0.6730832491070953, -0.4046311999318163, -0.5917484386471994, -0.23894155552680788, -0.2563232304950418, -0.7719637229464518, -0.37771181937557285, -0.15088988184664182, -0.7057616609044269, -0.757880382486588, -1.1626584477667041, -0.5481171327040923, -0.6353121808783192, -1.6918504081961632, -1.9411431711329896, -1.3280519157712571, -1.0099423872152289, -1.7065669030174735, -2.050763028948897, -1.879393665841731, -1.5117047415048723, -1.7923045383673568, -1.4370479121349218, -1.9218419823528863, -0.9460864516443463, -1.2084688483586674, -2.2135021245879876, -2.0178127151413556, -2.1183630033478975, -2.829681142815764, -2.780561379034425, -2.6673505102708344, -3.27528481004463], \"xaxis\": \"x\", \"y\": [0.6802648121035058, -0.34003192706874236, -0.5137397644906472, -0.5368174330652651, 0.4202751418208489, -0.3198677890131691, -0.31163964494553775, 0.2268106326615443, 0.6648099569945886, 2.140621332831868, -0.5949102087984339, 0.40259560053342575, -0.09267303907885331, -0.7946923848289559, 0.586913334109037, 0.021161502513488466, 0.1848659139377951, 0.22709803616228175, -0.1306101767874836, -0.6164076917027408, 1.2684084825818736, -0.9755297314213847, 0.3741059318301075, 0.6682485760510523, -0.17004421868956107, 0.5576634002719846, -0.9093739892309276, 0.14202791267278791, 0.06868150772852093, 0.07839264424849657, -0.7400743307476855, -0.3853061397426866, 0.07689793902572122, 0.23011480705864348, 1.7508738467067895, -1.453442420596049, 0.8420979047499804, 1.6891445378263479, 0.47368495555077134, -0.30916558753400286, 0.23637695522118865, -0.9887126488328746, -0.031391158134826534, -0.26660624144688044, -0.2530288080543514, -1.1766082415430823, -1.1435420672667838, 0.024943063181731534, -0.06054653961596625, -2.0488634747918777, -0.14035950716657852, -0.8810024395894686, 0.7571915926224295, -1.1892075439614962, -0.6395908065694585, 0.5657106724083465, 1.8292579421414603, 0.6262328059312774, -0.9300798282745119, 0.3397254809931466, 1.7110703679891026, 1.2149825640455487, 0.15296513534562917, 2.160248621352118, -1.509063350689425, 3.013048413351719, -1.2644931050745796, -1.05632038523152, 1.0024467918020137, -0.8066167894727868, -1.613603438588704, 1.547524205231109, -0.9207283726043063, -1.1637053526071637, -1.679086744329513], \"yaxis\": \"y\"}],\n",
              "                        {\"coloraxis\": {\"colorbar\": {\"title\": {\"text\": \"GMM Label\"}}, \"colorscale\": [[0.0, \"#0d0887\"], [0.1111111111111111, \"#46039f\"], [0.2222222222222222, \"#7201a8\"], [0.3333333333333333, \"#9c179e\"], [0.4444444444444444, \"#bd3786\"], [0.5555555555555556, \"#d8576b\"], [0.6666666666666666, \"#ed7953\"], [0.7777777777777778, \"#fb9f3a\"], [0.8888888888888888, \"#fdca26\"], [1.0, \"#f0f921\"]]}, \"font\": {\"color\": \"#7f7f7f\", \"family\": \"Courier New, monospace\", \"size\": 12}, \"height\": 450, \"legend\": {\"tracegroupgap\": 0}, \"margin\": {\"t\": 60}, \"template\": {\"data\": {\"bar\": [{\"error_x\": {\"color\": \"#2a3f5f\"}, \"error_y\": {\"color\": \"#2a3f5f\"}, \"marker\": {\"line\": {\"color\": \"#E5ECF6\", \"width\": 0.5}}, \"type\": \"bar\"}], \"barpolar\": [{\"marker\": {\"line\": {\"color\": \"#E5ECF6\", \"width\": 0.5}}, \"type\": \"barpolar\"}], \"carpet\": [{\"aaxis\": {\"endlinecolor\": \"#2a3f5f\", \"gridcolor\": \"white\", \"linecolor\": \"white\", \"minorgridcolor\": \"white\", \"startlinecolor\": \"#2a3f5f\"}, \"baxis\": {\"endlinecolor\": \"#2a3f5f\", \"gridcolor\": \"white\", \"linecolor\": \"white\", \"minorgridcolor\": \"white\", \"startlinecolor\": \"#2a3f5f\"}, \"type\": \"carpet\"}], \"choropleth\": [{\"colorbar\": {\"outlinewidth\": 0, \"ticks\": \"\"}, \"type\": \"choropleth\"}], \"contour\": [{\"colorbar\": {\"outlinewidth\": 0, \"ticks\": \"\"}, \"colorscale\": [[0.0, \"#0d0887\"], [0.1111111111111111, \"#46039f\"], [0.2222222222222222, \"#7201a8\"], [0.3333333333333333, \"#9c179e\"], [0.4444444444444444, \"#bd3786\"], [0.5555555555555556, \"#d8576b\"], [0.6666666666666666, \"#ed7953\"], [0.7777777777777778, \"#fb9f3a\"], [0.8888888888888888, \"#fdca26\"], [1.0, \"#f0f921\"]], \"type\": \"contour\"}], \"contourcarpet\": [{\"colorbar\": {\"outlinewidth\": 0, \"ticks\": \"\"}, \"type\": \"contourcarpet\"}], \"heatmap\": [{\"colorbar\": {\"outlinewidth\": 0, \"ticks\": \"\"}, \"colorscale\": [[0.0, \"#0d0887\"], [0.1111111111111111, \"#46039f\"], [0.2222222222222222, \"#7201a8\"], [0.3333333333333333, \"#9c179e\"], [0.4444444444444444, \"#bd3786\"], [0.5555555555555556, \"#d8576b\"], [0.6666666666666666, \"#ed7953\"], [0.7777777777777778, \"#fb9f3a\"], [0.8888888888888888, \"#fdca26\"], [1.0, \"#f0f921\"]], \"type\": \"heatmap\"}], \"heatmapgl\": [{\"colorbar\": {\"outlinewidth\": 0, \"ticks\": \"\"}, \"colorscale\": [[0.0, \"#0d0887\"], [0.1111111111111111, \"#46039f\"], [0.2222222222222222, \"#7201a8\"], [0.3333333333333333, \"#9c179e\"], [0.4444444444444444, \"#bd3786\"], [0.5555555555555556, \"#d8576b\"], [0.6666666666666666, \"#ed7953\"], [0.7777777777777778, \"#fb9f3a\"], [0.8888888888888888, \"#fdca26\"], [1.0, \"#f0f921\"]], \"type\": \"heatmapgl\"}], \"histogram\": [{\"marker\": {\"colorbar\": {\"outlinewidth\": 0, \"ticks\": \"\"}}, \"type\": \"histogram\"}], \"histogram2d\": [{\"colorbar\": {\"outlinewidth\": 0, \"ticks\": \"\"}, \"colorscale\": [[0.0, \"#0d0887\"], [0.1111111111111111, \"#46039f\"], [0.2222222222222222, \"#7201a8\"], [0.3333333333333333, \"#9c179e\"], [0.4444444444444444, \"#bd3786\"], [0.5555555555555556, \"#d8576b\"], [0.6666666666666666, \"#ed7953\"], [0.7777777777777778, \"#fb9f3a\"], [0.8888888888888888, \"#fdca26\"], [1.0, \"#f0f921\"]], \"type\": \"histogram2d\"}], \"histogram2dcontour\": [{\"colorbar\": {\"outlinewidth\": 0, \"ticks\": \"\"}, \"colorscale\": [[0.0, \"#0d0887\"], [0.1111111111111111, \"#46039f\"], [0.2222222222222222, \"#7201a8\"], [0.3333333333333333, \"#9c179e\"], [0.4444444444444444, \"#bd3786\"], [0.5555555555555556, \"#d8576b\"], [0.6666666666666666, \"#ed7953\"], [0.7777777777777778, \"#fb9f3a\"], [0.8888888888888888, \"#fdca26\"], [1.0, \"#f0f921\"]], \"type\": \"histogram2dcontour\"}], \"mesh3d\": [{\"colorbar\": {\"outlinewidth\": 0, \"ticks\": \"\"}, \"type\": \"mesh3d\"}], \"parcoords\": [{\"line\": {\"colorbar\": {\"outlinewidth\": 0, \"ticks\": \"\"}}, \"type\": \"parcoords\"}], \"pie\": [{\"automargin\": true, \"type\": \"pie\"}], \"scatter\": [{\"marker\": {\"colorbar\": {\"outlinewidth\": 0, \"ticks\": \"\"}}, \"type\": \"scatter\"}], \"scatter3d\": [{\"line\": {\"colorbar\": {\"outlinewidth\": 0, \"ticks\": \"\"}}, \"marker\": {\"colorbar\": {\"outlinewidth\": 0, \"ticks\": \"\"}}, \"type\": \"scatter3d\"}], \"scattercarpet\": [{\"marker\": {\"colorbar\": {\"outlinewidth\": 0, \"ticks\": \"\"}}, \"type\": \"scattercarpet\"}], \"scattergeo\": [{\"marker\": {\"colorbar\": {\"outlinewidth\": 0, \"ticks\": \"\"}}, \"type\": \"scattergeo\"}], \"scattergl\": [{\"marker\": {\"colorbar\": {\"outlinewidth\": 0, \"ticks\": \"\"}}, \"type\": \"scattergl\"}], \"scattermapbox\": [{\"marker\": {\"colorbar\": {\"outlinewidth\": 0, \"ticks\": \"\"}}, \"type\": \"scattermapbox\"}], \"scatterpolar\": [{\"marker\": {\"colorbar\": {\"outlinewidth\": 0, \"ticks\": \"\"}}, \"type\": \"scatterpolar\"}], \"scatterpolargl\": [{\"marker\": {\"colorbar\": {\"outlinewidth\": 0, \"ticks\": \"\"}}, \"type\": \"scatterpolargl\"}], \"scatterternary\": [{\"marker\": {\"colorbar\": {\"outlinewidth\": 0, \"ticks\": \"\"}}, \"type\": \"scatterternary\"}], \"surface\": [{\"colorbar\": {\"outlinewidth\": 0, \"ticks\": \"\"}, \"colorscale\": [[0.0, \"#0d0887\"], [0.1111111111111111, \"#46039f\"], [0.2222222222222222, \"#7201a8\"], [0.3333333333333333, \"#9c179e\"], [0.4444444444444444, \"#bd3786\"], [0.5555555555555556, \"#d8576b\"], [0.6666666666666666, \"#ed7953\"], [0.7777777777777778, \"#fb9f3a\"], [0.8888888888888888, \"#fdca26\"], [1.0, \"#f0f921\"]], \"type\": \"surface\"}], \"table\": [{\"cells\": {\"fill\": {\"color\": \"#EBF0F8\"}, \"line\": {\"color\": \"white\"}}, \"header\": {\"fill\": {\"color\": \"#C8D4E3\"}, \"line\": {\"color\": \"white\"}}, \"type\": \"table\"}]}, \"layout\": {\"annotationdefaults\": {\"arrowcolor\": \"#2a3f5f\", \"arrowhead\": 0, \"arrowwidth\": 1}, \"coloraxis\": {\"colorbar\": {\"outlinewidth\": 0, \"ticks\": \"\"}}, \"colorscale\": {\"diverging\": [[0, \"#8e0152\"], [0.1, \"#c51b7d\"], [0.2, \"#de77ae\"], [0.3, \"#f1b6da\"], [0.4, \"#fde0ef\"], [0.5, \"#f7f7f7\"], [0.6, \"#e6f5d0\"], [0.7, \"#b8e186\"], [0.8, \"#7fbc41\"], [0.9, \"#4d9221\"], [1, \"#276419\"]], \"sequential\": [[0.0, \"#0d0887\"], [0.1111111111111111, \"#46039f\"], [0.2222222222222222, \"#7201a8\"], [0.3333333333333333, \"#9c179e\"], [0.4444444444444444, \"#bd3786\"], [0.5555555555555556, \"#d8576b\"], [0.6666666666666666, \"#ed7953\"], [0.7777777777777778, \"#fb9f3a\"], [0.8888888888888888, \"#fdca26\"], [1.0, \"#f0f921\"]], \"sequentialminus\": [[0.0, \"#0d0887\"], [0.1111111111111111, \"#46039f\"], [0.2222222222222222, \"#7201a8\"], [0.3333333333333333, \"#9c179e\"], [0.4444444444444444, \"#bd3786\"], [0.5555555555555556, \"#d8576b\"], [0.6666666666666666, \"#ed7953\"], [0.7777777777777778, \"#fb9f3a\"], [0.8888888888888888, \"#fdca26\"], [1.0, \"#f0f921\"]]}, \"colorway\": [\"#636efa\", \"#EF553B\", \"#00cc96\", \"#ab63fa\", \"#FFA15A\", \"#19d3f3\", \"#FF6692\", \"#B6E880\", \"#FF97FF\", \"#FECB52\"], \"font\": {\"color\": \"#2a3f5f\"}, \"geo\": {\"bgcolor\": \"white\", \"lakecolor\": \"white\", \"landcolor\": \"#E5ECF6\", \"showlakes\": true, \"showland\": true, \"subunitcolor\": \"white\"}, \"hoverlabel\": {\"align\": \"left\"}, \"hovermode\": \"closest\", \"mapbox\": {\"style\": \"light\"}, \"paper_bgcolor\": \"white\", \"plot_bgcolor\": \"#E5ECF6\", \"polar\": {\"angularaxis\": {\"gridcolor\": \"white\", \"linecolor\": \"white\", \"ticks\": \"\"}, \"bgcolor\": \"#E5ECF6\", \"radialaxis\": {\"gridcolor\": \"white\", \"linecolor\": \"white\", \"ticks\": \"\"}}, \"scene\": {\"xaxis\": {\"backgroundcolor\": \"#E5ECF6\", \"gridcolor\": \"white\", \"gridwidth\": 2, \"linecolor\": \"white\", \"showbackground\": true, \"ticks\": \"\", \"zerolinecolor\": \"white\"}, \"yaxis\": {\"backgroundcolor\": \"#E5ECF6\", \"gridcolor\": \"white\", \"gridwidth\": 2, \"linecolor\": \"white\", \"showbackground\": true, \"ticks\": \"\", \"zerolinecolor\": \"white\"}, \"zaxis\": {\"backgroundcolor\": \"#E5ECF6\", \"gridcolor\": \"white\", \"gridwidth\": 2, \"linecolor\": \"white\", \"showbackground\": true, \"ticks\": \"\", \"zerolinecolor\": \"white\"}}, \"shapedefaults\": {\"line\": {\"color\": \"#2a3f5f\"}}, \"ternary\": {\"aaxis\": {\"gridcolor\": \"white\", \"linecolor\": \"white\", \"ticks\": \"\"}, \"baxis\": {\"gridcolor\": \"white\", \"linecolor\": \"white\", \"ticks\": \"\"}, \"bgcolor\": \"#E5ECF6\", \"caxis\": {\"gridcolor\": \"white\", \"linecolor\": \"white\", \"ticks\": \"\"}}, \"title\": {\"x\": 0.05}, \"xaxis\": {\"automargin\": true, \"gridcolor\": \"white\", \"linecolor\": \"white\", \"ticks\": \"\", \"title\": {\"standoff\": 15}, \"zerolinecolor\": \"white\", \"zerolinewidth\": 2}, \"yaxis\": {\"automargin\": true, \"gridcolor\": \"white\", \"linecolor\": \"white\", \"ticks\": \"\", \"title\": {\"standoff\": 15}, \"zerolinecolor\": \"white\", \"zerolinewidth\": 2}}}, \"title\": {\"text\": \"Clusters generated by GMM on HDI Dataset\"}, \"width\": 900, \"xaxis\": {\"anchor\": \"y\", \"domain\": [0.0, 1.0], \"title\": {\"text\": \"Feature 1\"}}, \"yaxis\": {\"anchor\": \"x\", \"domain\": [0.0, 1.0], \"title\": {\"text\": \"Feature 2\"}}},\n",
              "                        {\"responsive\": true}\n",
              "                    ).then(function(){\n",
              "                            \n",
              "var gd = document.getElementById('a4e04273-f5b2-4e40-9926-743fe20416d7');\n",
              "var x = new MutationObserver(function (mutations, observer) {{\n",
              "        var display = window.getComputedStyle(gd).display;\n",
              "        if (!display || display === 'none') {{\n",
              "            console.log([gd, 'removed!']);\n",
              "            Plotly.purge(gd);\n",
              "            observer.disconnect();\n",
              "        }}\n",
              "}});\n",
              "\n",
              "// Listen for the removal of the full notebook cells\n",
              "var notebookContainer = gd.closest('#notebook-container');\n",
              "if (notebookContainer) {{\n",
              "    x.observe(notebookContainer, {childList: true});\n",
              "}}\n",
              "\n",
              "// Listen for the clearing of the current output cell\n",
              "var outputEl = gd.closest('.output');\n",
              "if (outputEl) {{\n",
              "    x.observe(outputEl, {childList: true});\n",
              "}}\n",
              "\n",
              "                        })\n",
              "                };\n",
              "                \n",
              "            </script>\n",
              "        </div>\n",
              "</body>\n",
              "</html>"
            ]
          },
          "metadata": {
            "tags": []
          }
        },
        {
          "output_type": "display_data",
          "data": {
            "text/html": [
              "<html>\n",
              "<head><meta charset=\"utf-8\" /></head>\n",
              "<body>\n",
              "    <div>\n",
              "            <script src=\"https://cdnjs.cloudflare.com/ajax/libs/mathjax/2.7.5/MathJax.js?config=TeX-AMS-MML_SVG\"></script><script type=\"text/javascript\">if (window.MathJax) {MathJax.Hub.Config({SVG: {font: \"STIX-Web\"}});}</script>\n",
              "                <script type=\"text/javascript\">window.PlotlyConfig = {MathJaxConfig: 'local'};</script>\n",
              "        <script src=\"https://cdn.plot.ly/plotly-latest.min.js\"></script>    \n",
              "            <div id=\"1cc6e891-01b1-4d4e-825e-6d7823021da9\" class=\"plotly-graph-div\" style=\"height:600px; width:900px;\"></div>\n",
              "            <script type=\"text/javascript\">\n",
              "                \n",
              "                    window.PLOTLYENV=window.PLOTLYENV || {};\n",
              "                    \n",
              "                if (document.getElementById(\"1cc6e891-01b1-4d4e-825e-6d7823021da9\")) {\n",
              "                    Plotly.newPlot(\n",
              "                        '1cc6e891-01b1-4d4e-825e-6d7823021da9',\n",
              "                        [{\"customdata\": [[\"Kathmandu\"], [\"Lalitpur\"], [\"Kaski\"], [\"Bhaktapur\"], [\"Ilam\"], [\"Chitwan\"], [\"Syangja\"], [\"Palpa\"], [\"Jhapa\"], [\"Manang\"], [\"Tanahu\"], [\"Tehrathum\"], [\"Dhankuta\"], [\"Parbat\"], [\"Surkhet\"], [\"Arghakhanchi\"], [\"Gulmi\"], [\"Panchthar\"], [\"Baglung\"], [\"Myagdi\"], [\"Taplejung\"], [\"Lamjung\"], [\"Nawalparasi\"], [\"Kanchanpur\"], [\"Morang\"], [\"Dang\"], [\"Kavrepalanchok\"], [\"Rupandehi\"], [\"Sankhuwasabha\"], [\"Bhojpur\"], [\"Khotang\"], [\"Udayapur\"], [\"Sunsari\"], [\"Makwanpur\"], [\"Pyuthan\"], [\"Gorkha\"], [\"Kailali\"], [\"Mustang\"], [\"Bardiya\"], [\"Darchula\"], [\"Dadeldhura\"], [\"Okhaldhunga\"], [\"Solukhumbu\"], [\"Salyan\"], [\"Baitadi\"], [\"Dhading\"], [\"Dolakha\"], [\"Dailekh\"], [\"Banke\"], [\"Ramechhap\"], [\"Rukum\"], [\"Sindhuli\"], [\"Rolpa\"], [\"Nuwakot\"], [\"Sindhupalchok\"], [\"Jajarkot\"], [\"Kalikot\"], [\"Doti\"], [\"Parsa\"], [\"Achham\"], [\"Bajura\"], [\"Bajhang\"], [\"Kapilbastu\"], [\"Jumla\"], [\"Saptari\"], [\"Dolpa\"], [\"Rasuwa\"], [\"Bara\"], [\"Mugu\"], [\"Dhanusa\"], [\"Siraha\"], [\"Humla\"], [\"Mahottari\"], [\"Sarlahi\"], [\"Rautahat\"]], \"hoverlabel\": {\"namelength\": 0}, \"hovertemplate\": \"Feature 1=%{x}<br>Feature 2=%{y}<br>Feature 3=%{z}<br>District=%{customdata[0]}<br>GMM Label=%{marker.color}\", \"legendgroup\": \"\", \"marker\": {\"color\": [3, 1, 1, 1, 1, 1, 1, 1, 1, 3, 1, 1, 1, 1, 5, 1, 5, 1, 5, 1, 5, 1, 1, 1, 1, 5, 1, 1, 5, 1, 5, 1, 1, 5, 4, 2, 1, 5, 1, 0, 1, 2, 5, 0, 0, 2, 2, 0, 2, 2, 0, 2, 0, 2, 2, 0, 4, 0, 6, 0, 4, 4, 0, 4, 6, 4, 6, 6, 0, 6, 6, 0, 6, 6, 6], \"coloraxis\": \"coloraxis\", \"opacity\": 0.7, \"symbol\": \"circle\"}, \"mode\": \"markers\", \"name\": \"\", \"scene\": \"scene\", \"showlegend\": false, \"type\": \"scatter3d\", \"x\": [4.337676161009879, 3.1188093937368926, 2.830948630962913, 2.5168105584441234, 1.7291140911730674, 2.040543049794674, 1.7994747111064104, 1.3761045616799337, 1.31833283311004, 2.958645766747861, 1.4129072867475991, 1.5629826216477913, 1.4064240263584398, 1.2725205480927837, 0.761248973450328, 0.8820971656443796, 0.6805614111792186, 0.9217094645482207, 0.7428031246444279, 0.9795222878170533, 0.8357059863368657, 1.1040973276057724, 0.7776769501723727, 0.5022332929202458, 0.8878382697494428, 0.6423138866765653, 1.100853962493588, 0.6101868162321225, 0.6477964067183314, 0.4619519650061602, 0.6590623778089529, 0.36424414459038096, 0.4171370176884071, 0.6045583761553454, -0.3075968511296998, 0.37654235414387555, -0.12680490990566468, 0.6520292930851708, -0.0747824204261186, -0.2919208573771572, -0.19956253130035978, -0.03621948100838211, 0.6730832491070953, -0.4046311999318163, -0.5917484386471994, -0.23894155552680788, -0.2563232304950418, -0.7719637229464518, -0.37771181937557285, -0.15088988184664182, -0.7057616609044269, -0.757880382486588, -1.1626584477667041, -0.5481171327040923, -0.6353121808783192, -1.6918504081961632, -1.9411431711329896, -1.3280519157712571, -1.0099423872152289, -1.7065669030174735, -2.050763028948897, -1.879393665841731, -1.5117047415048723, -1.7923045383673568, -1.4370479121349218, -1.9218419823528863, -0.9460864516443463, -1.2084688483586674, -2.2135021245879876, -2.0178127151413556, -2.1183630033478975, -2.829681142815764, -2.780561379034425, -2.6673505102708344, -3.27528481004463], \"y\": [0.6802648121035058, -0.34003192706874236, -0.5137397644906472, -0.5368174330652651, 0.4202751418208489, -0.3198677890131691, -0.31163964494553775, 0.2268106326615443, 0.6648099569945886, 2.140621332831868, -0.5949102087984339, 0.40259560053342575, -0.09267303907885331, -0.7946923848289559, 0.586913334109037, 0.021161502513488466, 0.1848659139377951, 0.22709803616228175, -0.1306101767874836, -0.6164076917027408, 1.2684084825818736, -0.9755297314213847, 0.3741059318301075, 0.6682485760510523, -0.17004421868956107, 0.5576634002719846, -0.9093739892309276, 0.14202791267278791, 0.06868150772852093, 0.07839264424849657, -0.7400743307476855, -0.3853061397426866, 0.07689793902572122, 0.23011480705864348, 1.7508738467067895, -1.453442420596049, 0.8420979047499804, 1.6891445378263479, 0.47368495555077134, -0.30916558753400286, 0.23637695522118865, -0.9887126488328746, -0.031391158134826534, -0.26660624144688044, -0.2530288080543514, -1.1766082415430823, -1.1435420672667838, 0.024943063181731534, -0.06054653961596625, -2.0488634747918777, -0.14035950716657852, -0.8810024395894686, 0.7571915926224295, -1.1892075439614962, -0.6395908065694585, 0.5657106724083465, 1.8292579421414603, 0.6262328059312774, -0.9300798282745119, 0.3397254809931466, 1.7110703679891026, 1.2149825640455487, 0.15296513534562917, 2.160248621352118, -1.509063350689425, 3.013048413351719, -1.2644931050745796, -1.05632038523152, 1.0024467918020137, -0.8066167894727868, -1.613603438588704, 1.547524205231109, -0.9207283726043063, -1.1637053526071637, -1.679086744329513], \"z\": [2.0222821765855676, 0.5210007167699616, -0.16011608948428932, -0.48015500455669996, -0.4471268365768852, 0.17921168567584614, -0.5436186105798498, -0.9671745751748135, -0.356556984373432, 3.571907886007269, -0.6724371969629509, 0.023603383918261844, -0.2454365924656885, -0.7354858983507098, -0.8869291507998966, -0.8844765859515278, -1.1991229802176933, -0.47456744040832544, -0.8954298821907934, -0.5612950089805885, 0.04195106207832734, -0.18482853015019693, -0.23929195568449177, -0.7111523169117008, 0.015503060479370624, -0.260081609324938, 0.34865442560670923, -0.22088526858838667, -0.033067983109327716, -0.44605748140353807, -0.1123728485901261, -0.5374136870433012, -0.14949471477170487, 0.5320643032976154, -1.0659026420753994, -0.1172654051146439, -0.38391062442319823, 1.6280748444141382, 0.022386773343455846, -1.022312308573744, -0.782754845176918, -0.18076205695597722, 1.6152902879193733, -0.5115702850221152, -1.0317313968798172, 0.02887338077626582, -0.1461299583498017, -0.621927815277977, 0.3651970780080005, -0.02129052704231724, -0.3698350168467213, -0.15851795322486567, -0.6125114795420649, 0.45808607186183, 0.5001233711506352, -0.37251644378622406, -0.5009075303131433, -0.23745451228485906, 0.9763852757153659, -0.5980499519941781, -0.5920876107481032, -0.7642864577367177, 0.5370221169925684, 0.45382755288113624, 0.17215587099418117, 0.510605564630845, 1.797605173032055, 1.7605844018748429, 0.4371844420176695, 0.7735993876258229, 0.26324869272119505, 0.507954482685774, 0.527662970093744, 0.829819002337994, 1.074434612524817]}],\n",
              "                        {\"coloraxis\": {\"colorbar\": {\"title\": {\"text\": \"GMM Label\"}}, \"colorscale\": [[0.0, \"#0d0887\"], [0.1111111111111111, \"#46039f\"], [0.2222222222222222, \"#7201a8\"], [0.3333333333333333, \"#9c179e\"], [0.4444444444444444, \"#bd3786\"], [0.5555555555555556, \"#d8576b\"], [0.6666666666666666, \"#ed7953\"], [0.7777777777777778, \"#fb9f3a\"], [0.8888888888888888, \"#fdca26\"], [1.0, \"#f0f921\"]]}, \"font\": {\"color\": \"#7f7f7f\", \"family\": \"Courier New, monospace\", \"size\": 12}, \"height\": 600, \"legend\": {\"tracegroupgap\": 0}, \"margin\": {\"t\": 60}, \"scene\": {\"domain\": {\"x\": [0.0, 1.0], \"y\": [0.0, 1.0]}, \"xaxis\": {\"title\": {\"text\": \"Feature 1\"}}, \"yaxis\": {\"title\": {\"text\": \"Feature 2\"}}, \"zaxis\": {\"title\": {\"text\": \"Feature 3\"}}}, \"template\": {\"data\": {\"bar\": [{\"error_x\": {\"color\": \"#2a3f5f\"}, \"error_y\": {\"color\": \"#2a3f5f\"}, \"marker\": {\"line\": {\"color\": \"#E5ECF6\", \"width\": 0.5}}, \"type\": \"bar\"}], \"barpolar\": [{\"marker\": {\"line\": {\"color\": \"#E5ECF6\", \"width\": 0.5}}, \"type\": \"barpolar\"}], \"carpet\": [{\"aaxis\": {\"endlinecolor\": \"#2a3f5f\", \"gridcolor\": \"white\", \"linecolor\": \"white\", \"minorgridcolor\": \"white\", \"startlinecolor\": \"#2a3f5f\"}, \"baxis\": {\"endlinecolor\": \"#2a3f5f\", \"gridcolor\": \"white\", \"linecolor\": \"white\", \"minorgridcolor\": \"white\", \"startlinecolor\": \"#2a3f5f\"}, \"type\": \"carpet\"}], \"choropleth\": [{\"colorbar\": {\"outlinewidth\": 0, \"ticks\": \"\"}, \"type\": \"choropleth\"}], \"contour\": [{\"colorbar\": {\"outlinewidth\": 0, \"ticks\": \"\"}, \"colorscale\": [[0.0, \"#0d0887\"], [0.1111111111111111, \"#46039f\"], [0.2222222222222222, \"#7201a8\"], [0.3333333333333333, \"#9c179e\"], [0.4444444444444444, \"#bd3786\"], [0.5555555555555556, \"#d8576b\"], [0.6666666666666666, \"#ed7953\"], [0.7777777777777778, \"#fb9f3a\"], [0.8888888888888888, \"#fdca26\"], [1.0, \"#f0f921\"]], \"type\": \"contour\"}], \"contourcarpet\": [{\"colorbar\": {\"outlinewidth\": 0, \"ticks\": \"\"}, \"type\": \"contourcarpet\"}], \"heatmap\": [{\"colorbar\": {\"outlinewidth\": 0, \"ticks\": \"\"}, \"colorscale\": [[0.0, \"#0d0887\"], [0.1111111111111111, \"#46039f\"], [0.2222222222222222, \"#7201a8\"], [0.3333333333333333, \"#9c179e\"], [0.4444444444444444, \"#bd3786\"], [0.5555555555555556, \"#d8576b\"], [0.6666666666666666, \"#ed7953\"], [0.7777777777777778, \"#fb9f3a\"], [0.8888888888888888, \"#fdca26\"], [1.0, \"#f0f921\"]], \"type\": \"heatmap\"}], \"heatmapgl\": [{\"colorbar\": {\"outlinewidth\": 0, \"ticks\": \"\"}, \"colorscale\": [[0.0, \"#0d0887\"], [0.1111111111111111, \"#46039f\"], [0.2222222222222222, \"#7201a8\"], [0.3333333333333333, \"#9c179e\"], [0.4444444444444444, \"#bd3786\"], [0.5555555555555556, \"#d8576b\"], [0.6666666666666666, \"#ed7953\"], [0.7777777777777778, \"#fb9f3a\"], [0.8888888888888888, \"#fdca26\"], [1.0, \"#f0f921\"]], \"type\": \"heatmapgl\"}], \"histogram\": [{\"marker\": {\"colorbar\": {\"outlinewidth\": 0, \"ticks\": \"\"}}, \"type\": \"histogram\"}], \"histogram2d\": [{\"colorbar\": {\"outlinewidth\": 0, \"ticks\": \"\"}, \"colorscale\": [[0.0, \"#0d0887\"], [0.1111111111111111, \"#46039f\"], [0.2222222222222222, \"#7201a8\"], [0.3333333333333333, \"#9c179e\"], [0.4444444444444444, \"#bd3786\"], [0.5555555555555556, \"#d8576b\"], [0.6666666666666666, \"#ed7953\"], [0.7777777777777778, \"#fb9f3a\"], [0.8888888888888888, \"#fdca26\"], [1.0, \"#f0f921\"]], \"type\": \"histogram2d\"}], \"histogram2dcontour\": [{\"colorbar\": {\"outlinewidth\": 0, \"ticks\": \"\"}, \"colorscale\": [[0.0, \"#0d0887\"], [0.1111111111111111, \"#46039f\"], [0.2222222222222222, \"#7201a8\"], [0.3333333333333333, \"#9c179e\"], [0.4444444444444444, \"#bd3786\"], [0.5555555555555556, \"#d8576b\"], [0.6666666666666666, \"#ed7953\"], [0.7777777777777778, \"#fb9f3a\"], [0.8888888888888888, \"#fdca26\"], [1.0, \"#f0f921\"]], \"type\": \"histogram2dcontour\"}], \"mesh3d\": [{\"colorbar\": {\"outlinewidth\": 0, \"ticks\": \"\"}, \"type\": \"mesh3d\"}], \"parcoords\": [{\"line\": {\"colorbar\": {\"outlinewidth\": 0, \"ticks\": \"\"}}, \"type\": \"parcoords\"}], \"pie\": [{\"automargin\": true, \"type\": \"pie\"}], \"scatter\": [{\"marker\": {\"colorbar\": {\"outlinewidth\": 0, \"ticks\": \"\"}}, \"type\": \"scatter\"}], \"scatter3d\": [{\"line\": {\"colorbar\": {\"outlinewidth\": 0, \"ticks\": \"\"}}, \"marker\": {\"colorbar\": {\"outlinewidth\": 0, \"ticks\": \"\"}}, \"type\": \"scatter3d\"}], \"scattercarpet\": [{\"marker\": {\"colorbar\": {\"outlinewidth\": 0, \"ticks\": \"\"}}, \"type\": \"scattercarpet\"}], \"scattergeo\": [{\"marker\": {\"colorbar\": {\"outlinewidth\": 0, \"ticks\": \"\"}}, \"type\": \"scattergeo\"}], \"scattergl\": [{\"marker\": {\"colorbar\": {\"outlinewidth\": 0, \"ticks\": \"\"}}, \"type\": \"scattergl\"}], \"scattermapbox\": [{\"marker\": {\"colorbar\": {\"outlinewidth\": 0, \"ticks\": \"\"}}, \"type\": \"scattermapbox\"}], \"scatterpolar\": [{\"marker\": {\"colorbar\": {\"outlinewidth\": 0, \"ticks\": \"\"}}, \"type\": \"scatterpolar\"}], \"scatterpolargl\": [{\"marker\": {\"colorbar\": {\"outlinewidth\": 0, \"ticks\": \"\"}}, \"type\": \"scatterpolargl\"}], \"scatterternary\": [{\"marker\": {\"colorbar\": {\"outlinewidth\": 0, \"ticks\": \"\"}}, \"type\": \"scatterternary\"}], \"surface\": [{\"colorbar\": {\"outlinewidth\": 0, \"ticks\": \"\"}, \"colorscale\": [[0.0, \"#0d0887\"], [0.1111111111111111, \"#46039f\"], [0.2222222222222222, \"#7201a8\"], [0.3333333333333333, \"#9c179e\"], [0.4444444444444444, \"#bd3786\"], [0.5555555555555556, \"#d8576b\"], [0.6666666666666666, \"#ed7953\"], [0.7777777777777778, \"#fb9f3a\"], [0.8888888888888888, \"#fdca26\"], [1.0, \"#f0f921\"]], \"type\": \"surface\"}], \"table\": [{\"cells\": {\"fill\": {\"color\": \"#EBF0F8\"}, \"line\": {\"color\": \"white\"}}, \"header\": {\"fill\": {\"color\": \"#C8D4E3\"}, \"line\": {\"color\": \"white\"}}, \"type\": \"table\"}]}, \"layout\": {\"annotationdefaults\": {\"arrowcolor\": \"#2a3f5f\", \"arrowhead\": 0, \"arrowwidth\": 1}, \"coloraxis\": {\"colorbar\": {\"outlinewidth\": 0, \"ticks\": \"\"}}, \"colorscale\": {\"diverging\": [[0, \"#8e0152\"], [0.1, \"#c51b7d\"], [0.2, \"#de77ae\"], [0.3, \"#f1b6da\"], [0.4, \"#fde0ef\"], [0.5, \"#f7f7f7\"], [0.6, \"#e6f5d0\"], [0.7, \"#b8e186\"], [0.8, \"#7fbc41\"], [0.9, \"#4d9221\"], [1, \"#276419\"]], \"sequential\": [[0.0, \"#0d0887\"], [0.1111111111111111, \"#46039f\"], [0.2222222222222222, \"#7201a8\"], [0.3333333333333333, \"#9c179e\"], [0.4444444444444444, \"#bd3786\"], [0.5555555555555556, \"#d8576b\"], [0.6666666666666666, \"#ed7953\"], [0.7777777777777778, \"#fb9f3a\"], [0.8888888888888888, \"#fdca26\"], [1.0, \"#f0f921\"]], \"sequentialminus\": [[0.0, \"#0d0887\"], [0.1111111111111111, \"#46039f\"], [0.2222222222222222, \"#7201a8\"], [0.3333333333333333, \"#9c179e\"], [0.4444444444444444, \"#bd3786\"], [0.5555555555555556, \"#d8576b\"], [0.6666666666666666, \"#ed7953\"], [0.7777777777777778, \"#fb9f3a\"], [0.8888888888888888, \"#fdca26\"], [1.0, \"#f0f921\"]]}, \"colorway\": [\"#636efa\", \"#EF553B\", \"#00cc96\", \"#ab63fa\", \"#FFA15A\", \"#19d3f3\", \"#FF6692\", \"#B6E880\", \"#FF97FF\", \"#FECB52\"], \"font\": {\"color\": \"#2a3f5f\"}, \"geo\": {\"bgcolor\": \"white\", \"lakecolor\": \"white\", \"landcolor\": \"#E5ECF6\", \"showlakes\": true, \"showland\": true, \"subunitcolor\": \"white\"}, \"hoverlabel\": {\"align\": \"left\"}, \"hovermode\": \"closest\", \"mapbox\": {\"style\": \"light\"}, \"paper_bgcolor\": \"white\", \"plot_bgcolor\": \"#E5ECF6\", \"polar\": {\"angularaxis\": {\"gridcolor\": \"white\", \"linecolor\": \"white\", \"ticks\": \"\"}, \"bgcolor\": \"#E5ECF6\", \"radialaxis\": {\"gridcolor\": \"white\", \"linecolor\": \"white\", \"ticks\": \"\"}}, \"scene\": {\"xaxis\": {\"backgroundcolor\": \"#E5ECF6\", \"gridcolor\": \"white\", \"gridwidth\": 2, \"linecolor\": \"white\", \"showbackground\": true, \"ticks\": \"\", \"zerolinecolor\": \"white\"}, \"yaxis\": {\"backgroundcolor\": \"#E5ECF6\", \"gridcolor\": \"white\", \"gridwidth\": 2, \"linecolor\": \"white\", \"showbackground\": true, \"ticks\": \"\", \"zerolinecolor\": \"white\"}, \"zaxis\": {\"backgroundcolor\": \"#E5ECF6\", \"gridcolor\": \"white\", \"gridwidth\": 2, \"linecolor\": \"white\", \"showbackground\": true, \"ticks\": \"\", \"zerolinecolor\": \"white\"}}, \"shapedefaults\": {\"line\": {\"color\": \"#2a3f5f\"}}, \"ternary\": {\"aaxis\": {\"gridcolor\": \"white\", \"linecolor\": \"white\", \"ticks\": \"\"}, \"baxis\": {\"gridcolor\": \"white\", \"linecolor\": \"white\", \"ticks\": \"\"}, \"bgcolor\": \"#E5ECF6\", \"caxis\": {\"gridcolor\": \"white\", \"linecolor\": \"white\", \"ticks\": \"\"}}, \"title\": {\"x\": 0.05}, \"xaxis\": {\"automargin\": true, \"gridcolor\": \"white\", \"linecolor\": \"white\", \"ticks\": \"\", \"title\": {\"standoff\": 15}, \"zerolinecolor\": \"white\", \"zerolinewidth\": 2}, \"yaxis\": {\"automargin\": true, \"gridcolor\": \"white\", \"linecolor\": \"white\", \"ticks\": \"\", \"title\": {\"standoff\": 15}, \"zerolinecolor\": \"white\", \"zerolinewidth\": 2}}}, \"title\": {\"text\": \"Clusters 3D Visualization by GMM on HDI Dataset\"}, \"width\": 900, \"xaxis\": {\"title\": {\"text\": \"Feature 1\"}}, \"yaxis\": {\"title\": {\"text\": \"Feature 2\"}}},\n",
              "                        {\"responsive\": true}\n",
              "                    ).then(function(){\n",
              "                            \n",
              "var gd = document.getElementById('1cc6e891-01b1-4d4e-825e-6d7823021da9');\n",
              "var x = new MutationObserver(function (mutations, observer) {{\n",
              "        var display = window.getComputedStyle(gd).display;\n",
              "        if (!display || display === 'none') {{\n",
              "            console.log([gd, 'removed!']);\n",
              "            Plotly.purge(gd);\n",
              "            observer.disconnect();\n",
              "        }}\n",
              "}});\n",
              "\n",
              "// Listen for the removal of the full notebook cells\n",
              "var notebookContainer = gd.closest('#notebook-container');\n",
              "if (notebookContainer) {{\n",
              "    x.observe(notebookContainer, {childList: true});\n",
              "}}\n",
              "\n",
              "// Listen for the clearing of the current output cell\n",
              "var outputEl = gd.closest('.output');\n",
              "if (outputEl) {{\n",
              "    x.observe(outputEl, {childList: true});\n",
              "}}\n",
              "\n",
              "                        })\n",
              "                };\n",
              "                \n",
              "            </script>\n",
              "        </div>\n",
              "</body>\n",
              "</html>"
            ]
          },
          "metadata": {
            "tags": []
          }
        }
      ]
    },
    {
      "cell_type": "code",
      "metadata": {
        "id": "tn3iu_uhOCfs",
        "colab_type": "code",
        "colab": {}
      },
      "source": [
        ""
      ],
      "execution_count": 0,
      "outputs": []
    }
  ]
}